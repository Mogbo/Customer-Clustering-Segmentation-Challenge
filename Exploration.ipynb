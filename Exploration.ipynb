{
 "cells": [
  {
   "cell_type": "markdown",
   "metadata": {},
   "source": [
    "# First run\n",
    "\n",
    "In this first run we will select some variables based on my intuition:\n"
   ]
  },
  {
   "cell_type": "markdown",
   "metadata": {},
   "source": [
    "### Exploration"
   ]
  },
  {
   "cell_type": "code",
   "execution_count": 92,
   "metadata": {},
   "outputs": [
    {
     "data": {
      "text/plain": [
       "\"import os\\nos.getcwd()\\nos.chdir('C:/Anacond')\\n\""
      ]
     },
     "execution_count": 92,
     "metadata": {},
     "output_type": "execute_result"
    }
   ],
   "source": [
    "'''import os\n",
    "os.getcwd()\n",
    "os.chdir('C:/Anacond')\n",
    "'''"
   ]
  },
  {
   "cell_type": "code",
   "execution_count": 93,
   "metadata": {},
   "outputs": [
    {
     "data": {
      "text/plain": [
       "(42653, 152)"
      ]
     },
     "execution_count": 93,
     "metadata": {},
     "output_type": "execute_result"
    }
   ],
   "source": [
    "%matplotlib inline\n",
    "\n",
    "import pandas as pd\n",
    "import numpy as np\n",
    "np.set_printoptions(suppress=True)\n",
    "import seaborn as sns\n",
    "import matplotlib.pyplot as plt\n",
    "\n",
    "sns.set()\n",
    "sns.set_style('whitegrid')\n",
    "\n",
    "data = pd.read_csv('Data Science Bootcamp Data_2.0.csv')\n",
    "data = data.rename(columns=lambda x: x.strip())   \n",
    "data.shape"
   ]
  },
  {
   "cell_type": "code",
   "execution_count": 94,
   "metadata": {},
   "outputs": [
    {
     "name": "stdout",
     "output_type": "stream",
     "text": [
      "<class 'pandas.core.frame.DataFrame'>\n",
      "RangeIndex: 42653 entries, 0 to 42652\n",
      "Columns: 152 entries, Quest No to ChangeReasons\n",
      "dtypes: float64(89), object(63)\n",
      "memory usage: 49.5+ MB\n"
     ]
    }
   ],
   "source": [
    "data.info()"
   ]
  },
  {
   "cell_type": "code",
   "execution_count": 95,
   "metadata": {},
   "outputs": [
    {
     "name": "stdout",
     "output_type": "stream",
     "text": [
      "25.5    16503\n",
      "33.0     9277\n",
      "38.0     5734\n",
      "50.5     5010\n",
      "19.0     4471\n",
      "65.0     1398\n",
      "Name: Age, dtype: int64\n",
      "<class 'pandas.core.frame.DataFrame'>\n",
      "RangeIndex: 42653 entries, 0 to 42652\n",
      "Data columns (total 1 columns):\n",
      "Age    42393 non-null object\n",
      "dtypes: object(1)\n",
      "memory usage: 333.3+ KB\n"
     ]
    }
   ],
   "source": [
    "recoded_Age = {'Age': {'21-30':25.5, '31-35':33, '36-40':38, '41-60':50.5, 'Above 60':65, 'No Response': None}}\n",
    "data.replace(recoded_Age, inplace=True)\n",
    "data.loc[data['Age'] == '18-20', 'Age'] = 19\n",
    "\n",
    "print(data.Age.value_counts())\n",
    "data[['Age']].info()"
   ]
  },
  {
   "cell_type": "code",
   "execution_count": 96,
   "metadata": {
    "collapsed": true
   },
   "outputs": [],
   "source": [
    "recoded_Gender = {'Gender': {'Male':0, 'Female':1, 'No Response':None}}\n",
    "data.replace(recoded_Gender, inplace=True)"
   ]
  },
  {
   "cell_type": "code",
   "execution_count": 97,
   "metadata": {},
   "outputs": [
    {
     "data": {
      "text/plain": [
       "25000.0      19042\n",
       "75000.0      13415\n",
       "175000.0      5995\n",
       "375000.0      1881\n",
       "750000.0       697\n",
       "2000000.0      270\n",
       "Name: Income, dtype: int64"
      ]
     },
     "execution_count": 97,
     "metadata": {},
     "output_type": "execute_result"
    }
   ],
   "source": [
    "recoded_Income = {'Income': {'N50,000 - N100,000':75000, 'Below N50,000':25000, 'N101,000 - N250,000':175000,\n",
    "                             'N251,000 - N500,000':375000, 'N501,000 - N1 Million':750000, 'No Response': None, 'Greater than N1 million':2000000}}\n",
    "data.replace(recoded_Income, inplace=True)\n",
    "data.Income.value_counts()"
   ]
  },
  {
   "cell_type": "code",
   "execution_count": 98,
   "metadata": {
    "collapsed": true
   },
   "outputs": [],
   "source": [
    "recoded_FreqBra = {'FreqBra': {'Never':0, 'Rarely':0.5, 'Monthly':2, 'At least once a week':6, \n",
    "                               'At Least once a day':30, 'No Response': None}}\n",
    "data.replace(recoded_FreqBra, inplace=True)\n",
    "\n",
    "recoded_FreqATM = {'FreqATM': {'Never':0, 'Rarely':0.5, 'Monthly':2, 'At least once a week':6, \n",
    "                               'At Least once a day':30, 'No Response': None}}\n",
    "data.replace(recoded_FreqATM, inplace=True)\n",
    "\n",
    "recoded_FreqPOS = {'FreqPOS': {'Never':0, 'Rarely':0.5, 'Monthly':2, 'At least once a week':6, \n",
    "                               'At Least once a day':30, 'No Response': None}}\n",
    "data.replace(recoded_FreqPOS, inplace=True)\n",
    "\n",
    "recoded_FreqInt = {'FreqInt': {'Never':0, 'Rarely':0.5, 'Monthly':2, 'At least once a week':6, \n",
    "                               'At Least once a day':30, 'No Response': None}}\n",
    "data.replace(recoded_FreqInt, inplace=True)\n",
    "\n",
    "recoded_FreqMob = {'FreqMob': {'Never':0, 'Rarely':0.5, 'Monthly':2, 'At least once a week':6, \n",
    "                               'At Least once a day':30, 'No Response': None}}\n",
    "data.replace(recoded_FreqMob, inplace=True)\n",
    "\n",
    "recoded_FreqUSSD = {'FreqUSSD': {'Never':0, 'Rarely':0.5, 'Monthly':2, 'At least once a week':6, \n",
    "                               'At Least once a day':30, 'No Response': None}}\n",
    "data.replace(recoded_FreqUSSD, inplace=True)\n",
    "\n",
    "recoded_FreqTel = {'FreqTel': {'Never':0, 'Rarely':0.5, 'Monthly':2, 'At least once a week':6, \n",
    "                               'At Least once a day':30, 'No Response': None}}\n",
    "data.replace(recoded_FreqTel, inplace=True)"
   ]
  },
  {
   "cell_type": "markdown",
   "metadata": {},
   "source": [
    "We will skip Bank from variables in the clustering analysis. When the analysis is done, we will see the banks that each cluster belongs to\n",
    "\n",
    "We will also skip Devices used in mobile banking in this first run"
   ]
  },
  {
   "cell_type": "code",
   "execution_count": 99,
   "metadata": {
    "collapsed": true
   },
   "outputs": [],
   "source": [
    "selected_data = data[['Age', 'Gender', 'Income', 'No of Years', 'FreqBra', 'FreqATM', 'FreqPOS', 'FreqInt', \n",
    "                      'FreqMob', 'FreqUSSD', 'FreqTel']]"
   ]
  },
  {
   "cell_type": "code",
   "execution_count": 100,
   "metadata": {
    "collapsed": true
   },
   "outputs": [],
   "source": [
    "demographic = data.iloc[:,:10]\n",
    "banking_rel_reasons = data.iloc[:,10:16]\n",
    "bank_chann_usage = data.iloc[:,16:23]\n",
    "most_freq_ATM = data.iloc[:,23:24]\n",
    "reas_for_freq_ATM = data.iloc[:,24:28]\n",
    "dev_used_onl_banking = data.iloc[:,28:32]\n",
    "bank_activ_engaged = data.iloc[:,32:41]\n",
    "bank_activ_will_like = data.iloc[:,41:50]\n",
    "\n",
    "# Customer Experience\n",
    "cust_care = data.iloc[:,50:58]\n",
    "complaints = data.iloc[:,58:62]\n",
    "branches = data.iloc[:,62:74]\n",
    "ATMs = data.iloc[:,74:82]\n",
    "mob_banking = data.iloc[:,82:94]\n",
    "int_banking = data.iloc[:,94:106]\n",
    "call_centre = data.iloc[:,106:112]\n",
    "soc_media = data.iloc[:,112:116]\n",
    "cards = data.iloc[:,116:124]\n",
    "exec_eff = data.iloc[:,124:128]\n",
    "prod = data.iloc[:,128:132]\n",
    "ease_credit = data.iloc[:, 132:136]\n",
    "val_for_money = data.iloc[:,136:138]\n",
    "\n",
    "# Payments\n",
    "pay_settl_wit_cash = data.iloc[:,138:141]\n",
    "pay_settl_wo_cash = data.iloc[:,141:144]\n",
    "pay_will_like_cashless = data.iloc[:,144:147]\n",
    "\n",
    "#Loyalty\n",
    "bank_recommendation = data.iloc[:,147:148]\n",
    "bank_switch_plan = data.iloc[:,148:149]\n",
    "from_bank = data.iloc[:,149:150]\n",
    "to_bank = data.iloc[:,150:151]\n",
    "reason_for_switch = data.iloc[:,151:152]"
   ]
  },
  {
   "cell_type": "code",
   "execution_count": 101,
   "metadata": {},
   "outputs": [
    {
     "data": {
      "text/plain": [
       "Int64Index([    2,     3,     5,    12,    15,    16,    18,    19,    32,\n",
       "               33,\n",
       "            ...\n",
       "            42599, 42600, 42601, 42611, 42612, 42613, 42614, 42615, 42617,\n",
       "            42618],\n",
       "           dtype='int64', length=6849)"
      ]
     },
     "execution_count": 101,
     "metadata": {},
     "output_type": "execute_result"
    }
   ],
   "source": [
    "null_rows = reas_for_freq_ATM.index[reas_for_freq_ATM.isnull().all(1)]\n",
    "null_rows"
   ]
  },
  {
   "cell_type": "markdown",
   "metadata": {},
   "source": [
    "Decision to discard this reasons for freq ATM due to judgement of analyst"
   ]
  },
  {
   "cell_type": "code",
   "execution_count": 102,
   "metadata": {},
   "outputs": [
    {
     "data": {
      "text/plain": [
       "Int64Index([    0,     1,     2,     3,     5,    12,    18,    19,    28,\n",
       "               32,\n",
       "            ...\n",
       "            42618, 42630, 42635, 42636, 42637, 42638, 42644, 42645, 42646,\n",
       "            42647],\n",
       "           dtype='int64', length=20914)"
      ]
     },
     "execution_count": 102,
     "metadata": {},
     "output_type": "execute_result"
    }
   ],
   "source": [
    "null_rows = dev_used_onl_banking.index[dev_used_onl_banking.isnull().all(1)]\n",
    "null_rows"
   ]
  },
  {
   "cell_type": "code",
   "execution_count": 103,
   "metadata": {},
   "outputs": [
    {
     "data": {
      "text/plain": [
       "count    42653.000000\n",
       "mean         0.517431\n",
       "std          0.517496\n",
       "min          0.000000\n",
       "25%          0.000000\n",
       "50%          1.000000\n",
       "75%          1.000000\n",
       "max          4.000000\n",
       "dtype: float64"
      ]
     },
     "execution_count": 103,
     "metadata": {},
     "output_type": "execute_result"
    }
   ],
   "source": [
    "dev_used_onl_banking.describe()\n",
    "dev_per_person = np.sum(dev_used_onl_banking =='Yes', axis=1)\n",
    "dev_per_person.describe()"
   ]
  },
  {
   "cell_type": "code",
   "execution_count": 104,
   "metadata": {},
   "outputs": [
    {
     "data": {
      "text/plain": [
       "(array([ 20914.,      0.,  21454.,      0.,      0.,    248.,      0.,\n",
       "            28.,      0.,      9.]),\n",
       " array([ 0. ,  0.4,  0.8,  1.2,  1.6,  2. ,  2.4,  2.8,  3.2,  3.6,  4. ]),\n",
       " <a list of 10 Patch objects>)"
      ]
     },
     "execution_count": 104,
     "metadata": {},
     "output_type": "execute_result"
    },
    {
     "data": {
      "image/png": "[encoded data removed]",
      "text/plain": [
       "<matplotlib.figure.Figure at 0x22929c17cf8>"
      ]
     },
     "metadata": {},
     "output_type": "display_data"
    }
   ],
   "source": [
    "plt.hist(dev_per_person)"
   ]
  },
  {
   "cell_type": "markdown",
   "metadata": {},
   "source": [
    "There are a lot of nulls for devices used in online banking, but it is a safe assumption that blanks mean that no device is used for online banking given the poor distribution of literacy in Nigeria\n",
    "\n",
    "bank_activ_engaged will be ignored for now. Each of the columns represent an activity and the value in each role is the primary channel used to execute such activity. Initial idea was to get some count of the channel usage and use that rather than the activity itself, but this is already mostly covered by bank_chann_usage. It might be interesting to see which activities are carried out be each cluster. \n",
    "\n",
    "bank_activ_will_like too will be ignored for now. It might be interesting still to see the activites the various clusters will like"
   ]
  },
  {
   "cell_type": "markdown",
   "metadata": {},
   "source": [
    "#### Customer  Experience (Customer Care, Complaints, Branches, etc)"
   ]
  },
  {
   "cell_type": "markdown",
   "metadata": {},
   "source": [
    "We will shift the data (all ratings by -4 so that neutral is zero)\n",
    "\n",
    "We will multiply the importance by the rating for each criteron and get a single score for each subsection"
   ]
  },
  {
   "cell_type": "code",
   "execution_count": 105,
   "metadata": {},
   "outputs": [
    {
     "data": {
      "text/plain": [
       "Index(['impcc1a', 'cc1a', 'impcc1b', 'cc1b', 'impcc2', 'cc2', 'impcc3', 'cc3'], dtype='object')"
      ]
     },
     "execution_count": 105,
     "metadata": {},
     "output_type": "execute_result"
    }
   ],
   "source": [
    "cust_care.columns"
   ]
  },
  {
   "cell_type": "code",
   "execution_count": 106,
   "metadata": {},
   "outputs": [
    {
     "name": "stderr",
     "output_type": "stream",
     "text": [
      "C:\\Users\\EshamogboOjuba\\.conda\\envs\\my_root\\lib\\site-packages\\ipykernel\\__main__.py:4: SettingWithCopyWarning: \n",
      "A value is trying to be set on a copy of a slice from a DataFrame.\n",
      "Try using .loc[row_indexer,col_indexer] = value instead\n",
      "\n",
      "See the caveats in the documentation: http://pandas.pydata.org/pandas-docs/stable/indexing.html#indexing-view-versus-copy\n"
     ]
    }
   ],
   "source": [
    "cust_care.iloc[:,1::2] -=  4\n",
    "cust_care_score = np.sum(cust_care.iloc[:,0::2].values * cust_care.iloc[:,1::2].values, axis=1)\n",
    "# multiplying the two dfs did not do element-wise multiplication\n",
    "selected_data['cust_care_score'] = cust_care_score"
   ]
  },
  {
   "cell_type": "code",
   "execution_count": 107,
   "metadata": {},
   "outputs": [
    {
     "name": "stderr",
     "output_type": "stream",
     "text": [
      "C:\\Users\\EshamogboOjuba\\.conda\\envs\\my_root\\lib\\site-packages\\ipykernel\\__main__.py:4: SettingWithCopyWarning: \n",
      "A value is trying to be set on a copy of a slice from a DataFrame.\n",
      "Try using .loc[row_indexer,col_indexer] = value instead\n",
      "\n",
      "See the caveats in the documentation: http://pandas.pydata.org/pandas-docs/stable/indexing.html#indexing-view-versus-copy\n"
     ]
    }
   ],
   "source": [
    "complaints.iloc[:,1::2] -=  4\n",
    "complaints_score = np.sum(complaints.iloc[:,0::2].values * complaints.iloc[:,1::2].values, axis=1)\n",
    "# multiplying the two dfs did not do element-wise multiplication\n",
    "selected_data['complaints_score'] = complaints_score"
   ]
  },
  {
   "cell_type": "code",
   "execution_count": 108,
   "metadata": {},
   "outputs": [
    {
     "name": "stderr",
     "output_type": "stream",
     "text": [
      "C:\\Users\\EshamogboOjuba\\.conda\\envs\\my_root\\lib\\site-packages\\ipykernel\\__main__.py:4: SettingWithCopyWarning: \n",
      "A value is trying to be set on a copy of a slice from a DataFrame.\n",
      "Try using .loc[row_indexer,col_indexer] = value instead\n",
      "\n",
      "See the caveats in the documentation: http://pandas.pydata.org/pandas-docs/stable/indexing.html#indexing-view-versus-copy\n"
     ]
    }
   ],
   "source": [
    "branches.iloc[:,1::2] -=  4\n",
    "branches_score = np.sum(branches.iloc[:,0::2].values * branches.iloc[:,1::2].values, axis=1)\n",
    "# multiplying the two dfs did not do element-wise multiplication\n",
    "selected_data['branches_score'] = branches_score"
   ]
  },
  {
   "cell_type": "code",
   "execution_count": 109,
   "metadata": {},
   "outputs": [
    {
     "name": "stderr",
     "output_type": "stream",
     "text": [
      "C:\\Users\\EshamogboOjuba\\.conda\\envs\\my_root\\lib\\site-packages\\ipykernel\\__main__.py:4: SettingWithCopyWarning: \n",
      "A value is trying to be set on a copy of a slice from a DataFrame.\n",
      "Try using .loc[row_indexer,col_indexer] = value instead\n",
      "\n",
      "See the caveats in the documentation: http://pandas.pydata.org/pandas-docs/stable/indexing.html#indexing-view-versus-copy\n"
     ]
    }
   ],
   "source": [
    "ATMs.iloc[:,1::2] -=  4\n",
    "ATMs_score = np.sum(ATMs.iloc[:,0::2].values * ATMs.iloc[:,1::2].values, axis=1)\n",
    "# multiplying the two dfs did not do element-wise multiplication\n",
    "selected_data['ATMs_score'] = ATMs_score"
   ]
  },
  {
   "cell_type": "code",
   "execution_count": 110,
   "metadata": {},
   "outputs": [
    {
     "name": "stderr",
     "output_type": "stream",
     "text": [
      "C:\\Users\\EshamogboOjuba\\.conda\\envs\\my_root\\lib\\site-packages\\ipykernel\\__main__.py:4: SettingWithCopyWarning: \n",
      "A value is trying to be set on a copy of a slice from a DataFrame.\n",
      "Try using .loc[row_indexer,col_indexer] = value instead\n",
      "\n",
      "See the caveats in the documentation: http://pandas.pydata.org/pandas-docs/stable/indexing.html#indexing-view-versus-copy\n"
     ]
    }
   ],
   "source": [
    "mob_banking.iloc[:,1::2] -=  4\n",
    "mob_banking_score = np.sum(mob_banking.iloc[:,0::2].values * mob_banking.iloc[:,1::2].values, axis=1)\n",
    "# multiplying the two dfs did not do element-wise multiplication\n",
    "selected_data['mob_banking_score'] = mob_banking_score"
   ]
  },
  {
   "cell_type": "code",
   "execution_count": 111,
   "metadata": {},
   "outputs": [
    {
     "name": "stderr",
     "output_type": "stream",
     "text": [
      "C:\\Users\\EshamogboOjuba\\.conda\\envs\\my_root\\lib\\site-packages\\ipykernel\\__main__.py:4: SettingWithCopyWarning: \n",
      "A value is trying to be set on a copy of a slice from a DataFrame.\n",
      "Try using .loc[row_indexer,col_indexer] = value instead\n",
      "\n",
      "See the caveats in the documentation: http://pandas.pydata.org/pandas-docs/stable/indexing.html#indexing-view-versus-copy\n"
     ]
    }
   ],
   "source": [
    "int_banking.iloc[:,1::2] -=  4\n",
    "int_banking_score = np.sum(int_banking.iloc[:,0::2].values * int_banking.iloc[:,1::2].values, axis=1)\n",
    "# multiplying the two dfs did not do element-wise multiplication\n",
    "selected_data['int_banking_score'] = int_banking_score"
   ]
  },
  {
   "cell_type": "code",
   "execution_count": 112,
   "metadata": {},
   "outputs": [
    {
     "name": "stderr",
     "output_type": "stream",
     "text": [
      "C:\\Users\\EshamogboOjuba\\.conda\\envs\\my_root\\lib\\site-packages\\ipykernel\\__main__.py:4: SettingWithCopyWarning: \n",
      "A value is trying to be set on a copy of a slice from a DataFrame.\n",
      "Try using .loc[row_indexer,col_indexer] = value instead\n",
      "\n",
      "See the caveats in the documentation: http://pandas.pydata.org/pandas-docs/stable/indexing.html#indexing-view-versus-copy\n"
     ]
    }
   ],
   "source": [
    "call_centre.iloc[:,1::2] -=  4\n",
    "call_centre_score = np.sum(call_centre.iloc[:,0::2].values * call_centre.iloc[:,1::2].values, axis=1)\n",
    "# multiplying the two dfs did not do element-wise multiplication\n",
    "selected_data['call_centre_score'] = call_centre_score"
   ]
  },
  {
   "cell_type": "code",
   "execution_count": 113,
   "metadata": {},
   "outputs": [
    {
     "name": "stderr",
     "output_type": "stream",
     "text": [
      "C:\\Users\\EshamogboOjuba\\.conda\\envs\\my_root\\lib\\site-packages\\ipykernel\\__main__.py:4: SettingWithCopyWarning: \n",
      "A value is trying to be set on a copy of a slice from a DataFrame.\n",
      "Try using .loc[row_indexer,col_indexer] = value instead\n",
      "\n",
      "See the caveats in the documentation: http://pandas.pydata.org/pandas-docs/stable/indexing.html#indexing-view-versus-copy\n"
     ]
    }
   ],
   "source": [
    "soc_media.iloc[:,1::2] -=  4\n",
    "soc_media_score = np.sum(soc_media.iloc[:,0::2].values * soc_media.iloc[:,1::2].values, axis=1)\n",
    "# multiplying the two dfs did not do element-wise multiplication\n",
    "selected_data['soc_media_score'] = soc_media_score"
   ]
  },
  {
   "cell_type": "code",
   "execution_count": 114,
   "metadata": {},
   "outputs": [
    {
     "name": "stderr",
     "output_type": "stream",
     "text": [
      "C:\\Users\\EshamogboOjuba\\.conda\\envs\\my_root\\lib\\site-packages\\ipykernel\\__main__.py:4: SettingWithCopyWarning: \n",
      "A value is trying to be set on a copy of a slice from a DataFrame.\n",
      "Try using .loc[row_indexer,col_indexer] = value instead\n",
      "\n",
      "See the caveats in the documentation: http://pandas.pydata.org/pandas-docs/stable/indexing.html#indexing-view-versus-copy\n"
     ]
    }
   ],
   "source": [
    "exec_eff.iloc[:,1::2] -=  4\n",
    "exec_eff_score = np.sum(exec_eff.iloc[:,0::2].values * exec_eff.iloc[:,1::2].values, axis=1)\n",
    "# multiplying the two dfs did not do element-wise multiplication\n",
    "selected_data['exec_eff_score'] = exec_eff_score"
   ]
  },
  {
   "cell_type": "code",
   "execution_count": 115,
   "metadata": {},
   "outputs": [
    {
     "name": "stderr",
     "output_type": "stream",
     "text": [
      "C:\\Users\\EshamogboOjuba\\.conda\\envs\\my_root\\lib\\site-packages\\ipykernel\\__main__.py:4: SettingWithCopyWarning: \n",
      "A value is trying to be set on a copy of a slice from a DataFrame.\n",
      "Try using .loc[row_indexer,col_indexer] = value instead\n",
      "\n",
      "See the caveats in the documentation: http://pandas.pydata.org/pandas-docs/stable/indexing.html#indexing-view-versus-copy\n"
     ]
    }
   ],
   "source": [
    "prod.iloc[:,1::2] -=  4\n",
    "prod_score = np.sum(prod.iloc[:,0::2].values * prod.iloc[:,1::2].values, axis=1)\n",
    "# multiplying the two dfs did not do element-wise multiplication\n",
    "selected_data['prod_score'] = prod_score"
   ]
  },
  {
   "cell_type": "code",
   "execution_count": 116,
   "metadata": {},
   "outputs": [
    {
     "name": "stderr",
     "output_type": "stream",
     "text": [
      "C:\\Users\\EshamogboOjuba\\.conda\\envs\\my_root\\lib\\site-packages\\ipykernel\\__main__.py:4: SettingWithCopyWarning: \n",
      "A value is trying to be set on a copy of a slice from a DataFrame.\n",
      "Try using .loc[row_indexer,col_indexer] = value instead\n",
      "\n",
      "See the caveats in the documentation: http://pandas.pydata.org/pandas-docs/stable/indexing.html#indexing-view-versus-copy\n"
     ]
    }
   ],
   "source": [
    "ease_credit.iloc[:,1::2] -=  4\n",
    "ease_credit_score = np.sum(ease_credit.iloc[:,0::2].values * ease_credit.iloc[:,1::2].values, axis=1)\n",
    "# multiplying the two dfs did not do element-wise multiplication\n",
    "selected_data['ease_credit_score'] = ease_credit_score"
   ]
  },
  {
   "cell_type": "code",
   "execution_count": 117,
   "metadata": {},
   "outputs": [
    {
     "name": "stderr",
     "output_type": "stream",
     "text": [
      "C:\\Users\\EshamogboOjuba\\.conda\\envs\\my_root\\lib\\site-packages\\ipykernel\\__main__.py:4: SettingWithCopyWarning: \n",
      "A value is trying to be set on a copy of a slice from a DataFrame.\n",
      "Try using .loc[row_indexer,col_indexer] = value instead\n",
      "\n",
      "See the caveats in the documentation: http://pandas.pydata.org/pandas-docs/stable/indexing.html#indexing-view-versus-copy\n"
     ]
    }
   ],
   "source": [
    "val_for_money.iloc[:,1::2] -=  4\n",
    "val_for_money_score = np.sum(val_for_money.iloc[:,0::2].values * val_for_money.iloc[:,1::2].values, axis=1)\n",
    "# multiplying the two dfs did not do element-wise multiplication\n",
    "selected_data['val_for_money_score'] = val_for_money_score"
   ]
  },
  {
   "cell_type": "code",
   "execution_count": 118,
   "metadata": {},
   "outputs": [
    {
     "data": {
      "text/html": [
       "<div>\n",
       "<table border=\"1\" class=\"dataframe\">\n",
       "  <thead>\n",
       "    <tr style=\"text-align: right;\">\n",
       "      <th></th>\n",
       "      <th>Gender</th>\n",
       "      <th>Income</th>\n",
       "      <th>No of Years</th>\n",
       "      <th>FreqBra</th>\n",
       "      <th>FreqATM</th>\n",
       "      <th>FreqPOS</th>\n",
       "      <th>FreqInt</th>\n",
       "      <th>FreqMob</th>\n",
       "      <th>FreqUSSD</th>\n",
       "      <th>FreqTel</th>\n",
       "      <th>cust_care_score</th>\n",
       "    </tr>\n",
       "  </thead>\n",
       "  <tbody>\n",
       "    <tr>\n",
       "      <th>count</th>\n",
       "      <td>40563.000000</td>\n",
       "      <td>4.130000e+04</td>\n",
       "      <td>41386.000000</td>\n",
       "      <td>39959.000000</td>\n",
       "      <td>41920.000000</td>\n",
       "      <td>38561.000000</td>\n",
       "      <td>38777.000000</td>\n",
       "      <td>39087.000000</td>\n",
       "      <td>38074.000000</td>\n",
       "      <td>37902.000000</td>\n",
       "      <td>36376.000000</td>\n",
       "    </tr>\n",
       "    <tr>\n",
       "      <th>mean</th>\n",
       "      <td>0.463674</td>\n",
       "      <td>1.041023e+05</td>\n",
       "      <td>6.113227</td>\n",
       "      <td>3.919530</td>\n",
       "      <td>8.071601</td>\n",
       "      <td>2.237222</td>\n",
       "      <td>3.031784</td>\n",
       "      <td>4.146340</td>\n",
       "      <td>3.417398</td>\n",
       "      <td>0.674872</td>\n",
       "      <td>37.379783</td>\n",
       "    </tr>\n",
       "    <tr>\n",
       "      <th>std</th>\n",
       "      <td>0.498685</td>\n",
       "      <td>1.943508e+05</td>\n",
       "      <td>4.801078</td>\n",
       "      <td>6.208846</td>\n",
       "      <td>8.936301</td>\n",
       "      <td>5.406533</td>\n",
       "      <td>7.305842</td>\n",
       "      <td>8.445696</td>\n",
       "      <td>8.012664</td>\n",
       "      <td>3.215450</td>\n",
       "      <td>34.889540</td>\n",
       "    </tr>\n",
       "    <tr>\n",
       "      <th>min</th>\n",
       "      <td>0.000000</td>\n",
       "      <td>2.500000e+04</td>\n",
       "      <td>0.000000</td>\n",
       "      <td>0.000000</td>\n",
       "      <td>0.000000</td>\n",
       "      <td>0.000000</td>\n",
       "      <td>0.000000</td>\n",
       "      <td>0.000000</td>\n",
       "      <td>0.000000</td>\n",
       "      <td>0.000000</td>\n",
       "      <td>-120.000000</td>\n",
       "    </tr>\n",
       "    <tr>\n",
       "      <th>25%</th>\n",
       "      <td>0.000000</td>\n",
       "      <td>2.500000e+04</td>\n",
       "      <td>3.000000</td>\n",
       "      <td>0.500000</td>\n",
       "      <td>2.000000</td>\n",
       "      <td>0.000000</td>\n",
       "      <td>0.000000</td>\n",
       "      <td>0.000000</td>\n",
       "      <td>0.000000</td>\n",
       "      <td>0.000000</td>\n",
       "      <td>17.000000</td>\n",
       "    </tr>\n",
       "    <tr>\n",
       "      <th>50%</th>\n",
       "      <td>0.000000</td>\n",
       "      <td>7.500000e+04</td>\n",
       "      <td>5.000000</td>\n",
       "      <td>2.000000</td>\n",
       "      <td>6.000000</td>\n",
       "      <td>0.500000</td>\n",
       "      <td>0.000000</td>\n",
       "      <td>0.500000</td>\n",
       "      <td>0.000000</td>\n",
       "      <td>0.000000</td>\n",
       "      <td>36.000000</td>\n",
       "    </tr>\n",
       "    <tr>\n",
       "      <th>75%</th>\n",
       "      <td>1.000000</td>\n",
       "      <td>7.500000e+04</td>\n",
       "      <td>8.000000</td>\n",
       "      <td>6.000000</td>\n",
       "      <td>6.000000</td>\n",
       "      <td>2.000000</td>\n",
       "      <td>2.000000</td>\n",
       "      <td>6.000000</td>\n",
       "      <td>2.000000</td>\n",
       "      <td>0.500000</td>\n",
       "      <td>59.000000</td>\n",
       "    </tr>\n",
       "    <tr>\n",
       "      <th>max</th>\n",
       "      <td>1.000000</td>\n",
       "      <td>2.000000e+06</td>\n",
       "      <td>55.000000</td>\n",
       "      <td>30.000000</td>\n",
       "      <td>30.000000</td>\n",
       "      <td>30.000000</td>\n",
       "      <td>30.000000</td>\n",
       "      <td>30.000000</td>\n",
       "      <td>30.000000</td>\n",
       "      <td>30.000000</td>\n",
       "      <td>120.000000</td>\n",
       "    </tr>\n",
       "  </tbody>\n",
       "</table>\n",
       "</div>"
      ],
      "text/plain": [
       "             Gender        Income   No of Years       FreqBra       FreqATM  \\\n",
       "count  40563.000000  4.130000e+04  41386.000000  39959.000000  41920.000000   \n",
       "mean       0.463674  1.041023e+05      6.113227      3.919530      8.071601   \n",
       "std        0.498685  1.943508e+05      4.801078      6.208846      8.936301   \n",
       "min        0.000000  2.500000e+04      0.000000      0.000000      0.000000   \n",
       "25%        0.000000  2.500000e+04      3.000000      0.500000      2.000000   \n",
       "50%        0.000000  7.500000e+04      5.000000      2.000000      6.000000   \n",
       "75%        1.000000  7.500000e+04      8.000000      6.000000      6.000000   \n",
       "max        1.000000  2.000000e+06     55.000000     30.000000     30.000000   \n",
       "\n",
       "            FreqPOS       FreqInt       FreqMob      FreqUSSD       FreqTel  \\\n",
       "count  38561.000000  38777.000000  39087.000000  38074.000000  37902.000000   \n",
       "mean       2.237222      3.031784      4.146340      3.417398      0.674872   \n",
       "std        5.406533      7.305842      8.445696      8.012664      3.215450   \n",
       "min        0.000000      0.000000      0.000000      0.000000      0.000000   \n",
       "25%        0.000000      0.000000      0.000000      0.000000      0.000000   \n",
       "50%        0.500000      0.000000      0.500000      0.000000      0.000000   \n",
       "75%        2.000000      2.000000      6.000000      2.000000      0.500000   \n",
       "max       30.000000     30.000000     30.000000     30.000000     30.000000   \n",
       "\n",
       "       cust_care_score  \n",
       "count     36376.000000  \n",
       "mean         37.379783  \n",
       "std          34.889540  \n",
       "min        -120.000000  \n",
       "25%          17.000000  \n",
       "50%          36.000000  \n",
       "75%          59.000000  \n",
       "max         120.000000  "
      ]
     },
     "execution_count": 118,
     "metadata": {},
     "output_type": "execute_result"
    }
   ],
   "source": [
    "selected_data.iloc[:,:12].describe()"
   ]
  },
  {
   "cell_type": "code",
   "execution_count": 119,
   "metadata": {
    "scrolled": true
   },
   "outputs": [
    {
     "data": {
      "text/html": [
       "<div>\n",
       "<table border=\"1\" class=\"dataframe\">\n",
       "  <thead>\n",
       "    <tr style=\"text-align: right;\">\n",
       "      <th></th>\n",
       "      <th>complaints_score</th>\n",
       "      <th>branches_score</th>\n",
       "      <th>ATMs_score</th>\n",
       "      <th>mob_banking_score</th>\n",
       "      <th>int_banking_score</th>\n",
       "      <th>call_centre_score</th>\n",
       "      <th>soc_media_score</th>\n",
       "      <th>exec_eff_score</th>\n",
       "      <th>prod_score</th>\n",
       "      <th>ease_credit_score</th>\n",
       "      <th>val_for_money_score</th>\n",
       "    </tr>\n",
       "  </thead>\n",
       "  <tbody>\n",
       "    <tr>\n",
       "      <th>count</th>\n",
       "      <td>38715.000000</td>\n",
       "      <td>36379.000000</td>\n",
       "      <td>37488.000000</td>\n",
       "      <td>18273.000000</td>\n",
       "      <td>15255.000000</td>\n",
       "      <td>12197.000000</td>\n",
       "      <td>16054.000000</td>\n",
       "      <td>36873.000000</td>\n",
       "      <td>33922.000000</td>\n",
       "      <td>16312.000000</td>\n",
       "      <td>34050.000000</td>\n",
       "    </tr>\n",
       "    <tr>\n",
       "      <th>mean</th>\n",
       "      <td>18.487460</td>\n",
       "      <td>47.700844</td>\n",
       "      <td>41.328612</td>\n",
       "      <td>57.427078</td>\n",
       "      <td>53.598558</td>\n",
       "      <td>21.823071</td>\n",
       "      <td>14.457830</td>\n",
       "      <td>22.800586</td>\n",
       "      <td>16.738488</td>\n",
       "      <td>13.658718</td>\n",
       "      <td>8.499912</td>\n",
       "    </tr>\n",
       "    <tr>\n",
       "      <th>std</th>\n",
       "      <td>20.967451</td>\n",
       "      <td>49.480791</td>\n",
       "      <td>38.653564</td>\n",
       "      <td>53.043930</td>\n",
       "      <td>53.399985</td>\n",
       "      <td>27.993780</td>\n",
       "      <td>18.809495</td>\n",
       "      <td>20.036471</td>\n",
       "      <td>20.210425</td>\n",
       "      <td>20.573956</td>\n",
       "      <td>12.549324</td>\n",
       "    </tr>\n",
       "    <tr>\n",
       "      <th>min</th>\n",
       "      <td>-60.000000</td>\n",
       "      <td>-180.000000</td>\n",
       "      <td>-120.000000</td>\n",
       "      <td>-180.000000</td>\n",
       "      <td>-180.000000</td>\n",
       "      <td>-90.000000</td>\n",
       "      <td>-60.000000</td>\n",
       "      <td>-60.000000</td>\n",
       "      <td>-60.000000</td>\n",
       "      <td>-60.000000</td>\n",
       "      <td>-30.000000</td>\n",
       "    </tr>\n",
       "    <tr>\n",
       "      <th>25%</th>\n",
       "      <td>7.000000</td>\n",
       "      <td>18.000000</td>\n",
       "      <td>19.000000</td>\n",
       "      <td>23.000000</td>\n",
       "      <td>17.000000</td>\n",
       "      <td>0.000000</td>\n",
       "      <td>0.000000</td>\n",
       "      <td>11.000000</td>\n",
       "      <td>5.000000</td>\n",
       "      <td>0.000000</td>\n",
       "      <td>0.000000</td>\n",
       "    </tr>\n",
       "    <tr>\n",
       "      <th>50%</th>\n",
       "      <td>19.000000</td>\n",
       "      <td>46.000000</td>\n",
       "      <td>40.000000</td>\n",
       "      <td>54.000000</td>\n",
       "      <td>50.000000</td>\n",
       "      <td>20.000000</td>\n",
       "      <td>12.000000</td>\n",
       "      <td>20.000000</td>\n",
       "      <td>17.000000</td>\n",
       "      <td>12.000000</td>\n",
       "      <td>10.000000</td>\n",
       "    </tr>\n",
       "    <tr>\n",
       "      <th>75%</th>\n",
       "      <td>32.000000</td>\n",
       "      <td>78.000000</td>\n",
       "      <td>69.000000</td>\n",
       "      <td>90.000000</td>\n",
       "      <td>88.000000</td>\n",
       "      <td>39.000000</td>\n",
       "      <td>26.000000</td>\n",
       "      <td>36.000000</td>\n",
       "      <td>30.000000</td>\n",
       "      <td>27.000000</td>\n",
       "      <td>18.000000</td>\n",
       "    </tr>\n",
       "    <tr>\n",
       "      <th>max</th>\n",
       "      <td>60.000000</td>\n",
       "      <td>180.000000</td>\n",
       "      <td>120.000000</td>\n",
       "      <td>180.000000</td>\n",
       "      <td>180.000000</td>\n",
       "      <td>90.000000</td>\n",
       "      <td>60.000000</td>\n",
       "      <td>60.000000</td>\n",
       "      <td>70.000000</td>\n",
       "      <td>81.000000</td>\n",
       "      <td>30.000000</td>\n",
       "    </tr>\n",
       "  </tbody>\n",
       "</table>\n",
       "</div>"
      ],
      "text/plain": [
       "       complaints_score  branches_score    ATMs_score  mob_banking_score  \\\n",
       "count      38715.000000    36379.000000  37488.000000       18273.000000   \n",
       "mean          18.487460       47.700844     41.328612          57.427078   \n",
       "std           20.967451       49.480791     38.653564          53.043930   \n",
       "min          -60.000000     -180.000000   -120.000000        -180.000000   \n",
       "25%            7.000000       18.000000     19.000000          23.000000   \n",
       "50%           19.000000       46.000000     40.000000          54.000000   \n",
       "75%           32.000000       78.000000     69.000000          90.000000   \n",
       "max           60.000000      180.000000    120.000000         180.000000   \n",
       "\n",
       "       int_banking_score  call_centre_score  soc_media_score  exec_eff_score  \\\n",
       "count       15255.000000       12197.000000     16054.000000    36873.000000   \n",
       "mean           53.598558          21.823071        14.457830       22.800586   \n",
       "std            53.399985          27.993780        18.809495       20.036471   \n",
       "min          -180.000000         -90.000000       -60.000000      -60.000000   \n",
       "25%            17.000000           0.000000         0.000000       11.000000   \n",
       "50%            50.000000          20.000000        12.000000       20.000000   \n",
       "75%            88.000000          39.000000        26.000000       36.000000   \n",
       "max           180.000000          90.000000        60.000000       60.000000   \n",
       "\n",
       "         prod_score  ease_credit_score  val_for_money_score  \n",
       "count  33922.000000       16312.000000         34050.000000  \n",
       "mean      16.738488          13.658718             8.499912  \n",
       "std       20.210425          20.573956            12.549324  \n",
       "min      -60.000000         -60.000000           -30.000000  \n",
       "25%        5.000000           0.000000             0.000000  \n",
       "50%       17.000000          12.000000            10.000000  \n",
       "75%       30.000000          27.000000            18.000000  \n",
       "max       70.000000          81.000000            30.000000  "
      ]
     },
     "execution_count": 119,
     "metadata": {},
     "output_type": "execute_result"
    }
   ],
   "source": [
    "selected_data.iloc[:,12:].describe()"
   ]
  },
  {
   "cell_type": "markdown",
   "metadata": {},
   "source": [
    "We will drop the features with counts less than 30,000\n",
    "\n",
    "And use a different strategy for imputation. We will use drop instead of median"
   ]
  },
  {
   "cell_type": "code",
   "execution_count": 120,
   "metadata": {},
   "outputs": [
    {
     "name": "stderr",
     "output_type": "stream",
     "text": [
      "C:\\Users\\EshamogboOjuba\\.conda\\envs\\my_root\\lib\\site-packages\\ipykernel\\__main__.py:2: SettingWithCopyWarning: \n",
      "A value is trying to be set on a copy of a slice from a DataFrame\n",
      "\n",
      "See the caveats in the documentation: http://pandas.pydata.org/pandas-docs/stable/indexing.html#indexing-view-versus-copy\n",
      "  from ipykernel import kernelapp as app\n"
     ]
    }
   ],
   "source": [
    "selected_data.drop(['mob_banking_score', 'int_banking_score', 'call_centre_score', 'soc_media_score', 'ease_credit_score'], axis=1,\n",
    "                  inplace=True)"
   ]
  },
  {
   "cell_type": "code",
   "execution_count": 121,
   "metadata": {},
   "outputs": [
    {
     "name": "stderr",
     "output_type": "stream",
     "text": [
      "C:\\Users\\EshamogboOjuba\\.conda\\envs\\my_root\\lib\\site-packages\\ipykernel\\__main__.py:1: SettingWithCopyWarning: \n",
      "A value is trying to be set on a copy of a slice from a DataFrame\n",
      "\n",
      "See the caveats in the documentation: http://pandas.pydata.org/pandas-docs/stable/indexing.html#indexing-view-versus-copy\n",
      "  if __name__ == '__main__':\n"
     ]
    }
   ],
   "source": [
    "selected_data.dropna(inplace=True)"
   ]
  },
  {
   "cell_type": "code",
   "execution_count": 122,
   "metadata": {},
   "outputs": [
    {
     "data": {
      "text/html": [
       "<div>\n",
       "<table border=\"1\" class=\"dataframe\">\n",
       "  <thead>\n",
       "    <tr style=\"text-align: right;\">\n",
       "      <th></th>\n",
       "      <th>Gender</th>\n",
       "      <th>Income</th>\n",
       "      <th>No of Years</th>\n",
       "      <th>FreqBra</th>\n",
       "      <th>FreqATM</th>\n",
       "      <th>FreqPOS</th>\n",
       "      <th>FreqInt</th>\n",
       "      <th>FreqMob</th>\n",
       "      <th>FreqUSSD</th>\n",
       "      <th>FreqTel</th>\n",
       "      <th>cust_care_score</th>\n",
       "      <th>complaints_score</th>\n",
       "      <th>branches_score</th>\n",
       "      <th>ATMs_score</th>\n",
       "      <th>exec_eff_score</th>\n",
       "      <th>prod_score</th>\n",
       "      <th>val_for_money_score</th>\n",
       "    </tr>\n",
       "  </thead>\n",
       "  <tbody>\n",
       "    <tr>\n",
       "      <th>count</th>\n",
       "      <td>17267.000000</td>\n",
       "      <td>1.726700e+04</td>\n",
       "      <td>17267.000000</td>\n",
       "      <td>17267.000000</td>\n",
       "      <td>17267.000000</td>\n",
       "      <td>17267.000000</td>\n",
       "      <td>17267.000000</td>\n",
       "      <td>17267.000000</td>\n",
       "      <td>17267.000000</td>\n",
       "      <td>17267.000000</td>\n",
       "      <td>17267.000000</td>\n",
       "      <td>17267.000000</td>\n",
       "      <td>17267.000000</td>\n",
       "      <td>17267.000000</td>\n",
       "      <td>17267.000000</td>\n",
       "      <td>17267.000000</td>\n",
       "      <td>17267.000000</td>\n",
       "    </tr>\n",
       "    <tr>\n",
       "      <th>mean</th>\n",
       "      <td>0.454509</td>\n",
       "      <td>1.035472e+05</td>\n",
       "      <td>6.205971</td>\n",
       "      <td>3.681589</td>\n",
       "      <td>7.940146</td>\n",
       "      <td>2.050269</td>\n",
       "      <td>2.989054</td>\n",
       "      <td>3.919210</td>\n",
       "      <td>3.142932</td>\n",
       "      <td>0.534951</td>\n",
       "      <td>39.047258</td>\n",
       "      <td>19.050443</td>\n",
       "      <td>49.194475</td>\n",
       "      <td>42.551862</td>\n",
       "      <td>23.067470</td>\n",
       "      <td>17.478022</td>\n",
       "      <td>8.808189</td>\n",
       "    </tr>\n",
       "    <tr>\n",
       "      <th>std</th>\n",
       "      <td>0.497941</td>\n",
       "      <td>1.903558e+05</td>\n",
       "      <td>4.826077</td>\n",
       "      <td>5.804428</td>\n",
       "      <td>8.577025</td>\n",
       "      <td>4.858608</td>\n",
       "      <td>7.189457</td>\n",
       "      <td>8.035219</td>\n",
       "      <td>7.573814</td>\n",
       "      <td>2.431920</td>\n",
       "      <td>34.045565</td>\n",
       "      <td>20.377463</td>\n",
       "      <td>48.997465</td>\n",
       "      <td>37.781910</td>\n",
       "      <td>19.961634</td>\n",
       "      <td>19.524966</td>\n",
       "      <td>12.074081</td>\n",
       "    </tr>\n",
       "    <tr>\n",
       "      <th>min</th>\n",
       "      <td>0.000000</td>\n",
       "      <td>2.500000e+04</td>\n",
       "      <td>1.000000</td>\n",
       "      <td>0.500000</td>\n",
       "      <td>0.500000</td>\n",
       "      <td>0.000000</td>\n",
       "      <td>0.000000</td>\n",
       "      <td>0.000000</td>\n",
       "      <td>0.000000</td>\n",
       "      <td>0.000000</td>\n",
       "      <td>-120.000000</td>\n",
       "      <td>-60.000000</td>\n",
       "      <td>-180.000000</td>\n",
       "      <td>-120.000000</td>\n",
       "      <td>-60.000000</td>\n",
       "      <td>-60.000000</td>\n",
       "      <td>-30.000000</td>\n",
       "    </tr>\n",
       "    <tr>\n",
       "      <th>25%</th>\n",
       "      <td>0.000000</td>\n",
       "      <td>2.500000e+04</td>\n",
       "      <td>3.000000</td>\n",
       "      <td>0.500000</td>\n",
       "      <td>2.000000</td>\n",
       "      <td>0.000000</td>\n",
       "      <td>0.000000</td>\n",
       "      <td>0.000000</td>\n",
       "      <td>0.000000</td>\n",
       "      <td>0.000000</td>\n",
       "      <td>19.000000</td>\n",
       "      <td>8.000000</td>\n",
       "      <td>19.000000</td>\n",
       "      <td>20.000000</td>\n",
       "      <td>12.000000</td>\n",
       "      <td>6.000000</td>\n",
       "      <td>0.000000</td>\n",
       "    </tr>\n",
       "    <tr>\n",
       "      <th>50%</th>\n",
       "      <td>0.000000</td>\n",
       "      <td>7.500000e+04</td>\n",
       "      <td>5.000000</td>\n",
       "      <td>2.000000</td>\n",
       "      <td>6.000000</td>\n",
       "      <td>0.500000</td>\n",
       "      <td>0.500000</td>\n",
       "      <td>0.500000</td>\n",
       "      <td>0.000000</td>\n",
       "      <td>0.000000</td>\n",
       "      <td>37.000000</td>\n",
       "      <td>19.000000</td>\n",
       "      <td>47.000000</td>\n",
       "      <td>40.000000</td>\n",
       "      <td>20.000000</td>\n",
       "      <td>18.000000</td>\n",
       "      <td>10.000000</td>\n",
       "    </tr>\n",
       "    <tr>\n",
       "      <th>75%</th>\n",
       "      <td>1.000000</td>\n",
       "      <td>7.500000e+04</td>\n",
       "      <td>8.000000</td>\n",
       "      <td>6.000000</td>\n",
       "      <td>6.000000</td>\n",
       "      <td>2.000000</td>\n",
       "      <td>2.000000</td>\n",
       "      <td>6.000000</td>\n",
       "      <td>2.000000</td>\n",
       "      <td>0.500000</td>\n",
       "      <td>60.000000</td>\n",
       "      <td>32.000000</td>\n",
       "      <td>79.000000</td>\n",
       "      <td>70.000000</td>\n",
       "      <td>37.000000</td>\n",
       "      <td>30.000000</td>\n",
       "      <td>18.000000</td>\n",
       "    </tr>\n",
       "    <tr>\n",
       "      <th>max</th>\n",
       "      <td>1.000000</td>\n",
       "      <td>2.000000e+06</td>\n",
       "      <td>55.000000</td>\n",
       "      <td>30.000000</td>\n",
       "      <td>30.000000</td>\n",
       "      <td>30.000000</td>\n",
       "      <td>30.000000</td>\n",
       "      <td>30.000000</td>\n",
       "      <td>30.000000</td>\n",
       "      <td>30.000000</td>\n",
       "      <td>120.000000</td>\n",
       "      <td>60.000000</td>\n",
       "      <td>180.000000</td>\n",
       "      <td>120.000000</td>\n",
       "      <td>60.000000</td>\n",
       "      <td>70.000000</td>\n",
       "      <td>30.000000</td>\n",
       "    </tr>\n",
       "  </tbody>\n",
       "</table>\n",
       "</div>"
      ],
      "text/plain": [
       "             Gender        Income   No of Years       FreqBra       FreqATM  \\\n",
       "count  17267.000000  1.726700e+04  17267.000000  17267.000000  17267.000000   \n",
       "mean       0.454509  1.035472e+05      6.205971      3.681589      7.940146   \n",
       "std        0.497941  1.903558e+05      4.826077      5.804428      8.577025   \n",
       "min        0.000000  2.500000e+04      1.000000      0.500000      0.500000   \n",
       "25%        0.000000  2.500000e+04      3.000000      0.500000      2.000000   \n",
       "50%        0.000000  7.500000e+04      5.000000      2.000000      6.000000   \n",
       "75%        1.000000  7.500000e+04      8.000000      6.000000      6.000000   \n",
       "max        1.000000  2.000000e+06     55.000000     30.000000     30.000000   \n",
       "\n",
       "            FreqPOS       FreqInt       FreqMob      FreqUSSD       FreqTel  \\\n",
       "count  17267.000000  17267.000000  17267.000000  17267.000000  17267.000000   \n",
       "mean       2.050269      2.989054      3.919210      3.142932      0.534951   \n",
       "std        4.858608      7.189457      8.035219      7.573814      2.431920   \n",
       "min        0.000000      0.000000      0.000000      0.000000      0.000000   \n",
       "25%        0.000000      0.000000      0.000000      0.000000      0.000000   \n",
       "50%        0.500000      0.500000      0.500000      0.000000      0.000000   \n",
       "75%        2.000000      2.000000      6.000000      2.000000      0.500000   \n",
       "max       30.000000     30.000000     30.000000     30.000000     30.000000   \n",
       "\n",
       "       cust_care_score  complaints_score  branches_score    ATMs_score  \\\n",
       "count     17267.000000      17267.000000    17267.000000  17267.000000   \n",
       "mean         39.047258         19.050443       49.194475     42.551862   \n",
       "std          34.045565         20.377463       48.997465     37.781910   \n",
       "min        -120.000000        -60.000000     -180.000000   -120.000000   \n",
       "25%          19.000000          8.000000       19.000000     20.000000   \n",
       "50%          37.000000         19.000000       47.000000     40.000000   \n",
       "75%          60.000000         32.000000       79.000000     70.000000   \n",
       "max         120.000000         60.000000      180.000000    120.000000   \n",
       "\n",
       "       exec_eff_score    prod_score  val_for_money_score  \n",
       "count    17267.000000  17267.000000         17267.000000  \n",
       "mean        23.067470     17.478022             8.808189  \n",
       "std         19.961634     19.524966            12.074081  \n",
       "min        -60.000000    -60.000000           -30.000000  \n",
       "25%         12.000000      6.000000             0.000000  \n",
       "50%         20.000000     18.000000            10.000000  \n",
       "75%         37.000000     30.000000            18.000000  \n",
       "max         60.000000     70.000000            30.000000  "
      ]
     },
     "execution_count": 122,
     "metadata": {},
     "output_type": "execute_result"
    }
   ],
   "source": [
    "selected_data.describe()"
   ]
  },
  {
   "cell_type": "code",
   "execution_count": 123,
   "metadata": {},
   "outputs": [
    {
     "data": {
      "text/plain": [
       "<matplotlib.text.Text at 0x229379b8588>"
      ]
     },
     "execution_count": 123,
     "metadata": {},
     "output_type": "execute_result"
    },
    {
     "data": {
      "image/png": "[encoded data removed]",
      "text/plain": [
       "<matplotlib.figure.Figure at 0x22935e2a278>"
      ]
     },
     "metadata": {},
     "output_type": "display_data"
    }
   ],
   "source": [
    "corr_matrix = bank_chann_usage.corr()\n",
    "\n",
    "f, ax = plt.subplots(figsize=(18, 10))\n",
    "sns.heatmap(corr_matrix,linewidths=2.0, ax=ax , annot=True)\n",
    "ax.set_title('Correlation Mtrix')"
   ]
  },
  {
   "cell_type": "markdown",
   "metadata": {},
   "source": [
    "## Clustering and PCA"
   ]
  },
  {
   "cell_type": "code",
   "execution_count": 124,
   "metadata": {
    "collapsed": true
   },
   "outputs": [],
   "source": [
    "from sklearn.preprocessing import StandardScaler\n",
    "\n",
    "std_scaler = StandardScaler()\n",
    "std_scaler.fit(selected_data)\n",
    "\n",
    "selected_data_std = std_scaler.transform(selected_data)\n",
    "selected_data_std_df = pd.DataFrame(selected_data_std, columns = selected_data.columns)"
   ]
  },
  {
   "cell_type": "code",
   "execution_count": 125,
   "metadata": {},
   "outputs": [
    {
     "data": {
      "text/html": [
       "<div>\n",
       "<table border=\"1\" class=\"dataframe\">\n",
       "  <thead>\n",
       "    <tr style=\"text-align: right;\">\n",
       "      <th></th>\n",
       "      <th>Age</th>\n",
       "      <th>Gender</th>\n",
       "      <th>Income</th>\n",
       "      <th>No of Years</th>\n",
       "      <th>FreqBra</th>\n",
       "      <th>FreqATM</th>\n",
       "      <th>FreqPOS</th>\n",
       "      <th>FreqInt</th>\n",
       "      <th>FreqMob</th>\n",
       "      <th>FreqUSSD</th>\n",
       "      <th>FreqTel</th>\n",
       "      <th>cust_care_score</th>\n",
       "      <th>complaints_score</th>\n",
       "      <th>branches_score</th>\n",
       "      <th>ATMs_score</th>\n",
       "      <th>exec_eff_score</th>\n",
       "      <th>prod_score</th>\n",
       "      <th>val_for_money_score</th>\n",
       "    </tr>\n",
       "  </thead>\n",
       "  <tbody>\n",
       "    <tr>\n",
       "      <th>0</th>\n",
       "      <td>-0.066733</td>\n",
       "      <td>0.003786</td>\n",
       "      <td>-0.060536</td>\n",
       "      <td>-0.040303</td>\n",
       "      <td>-0.033301</td>\n",
       "      <td>-0.002897</td>\n",
       "      <td>-0.039658</td>\n",
       "      <td>0.004165</td>\n",
       "      <td>-0.021776</td>\n",
       "      <td>-0.048647</td>\n",
       "      <td>-0.017162</td>\n",
       "      <td>-0.390029</td>\n",
       "      <td>-0.374610</td>\n",
       "      <td>-0.398867</td>\n",
       "      <td>-0.366870</td>\n",
       "      <td>-0.363132</td>\n",
       "      <td>-0.381503</td>\n",
       "      <td>-0.347631</td>\n",
       "    </tr>\n",
       "    <tr>\n",
       "      <th>1</th>\n",
       "      <td>0.046252</td>\n",
       "      <td>-0.069350</td>\n",
       "      <td>0.188128</td>\n",
       "      <td>0.028271</td>\n",
       "      <td>0.255230</td>\n",
       "      <td>0.338434</td>\n",
       "      <td>0.397196</td>\n",
       "      <td>0.451353</td>\n",
       "      <td>0.459178</td>\n",
       "      <td>0.305537</td>\n",
       "      <td>0.322743</td>\n",
       "      <td>-0.010254</td>\n",
       "      <td>-0.012576</td>\n",
       "      <td>-0.008111</td>\n",
       "      <td>-0.020124</td>\n",
       "      <td>-0.042693</td>\n",
       "      <td>-0.039564</td>\n",
       "      <td>-0.056683</td>\n",
       "    </tr>\n",
       "    <tr>\n",
       "      <th>2</th>\n",
       "      <td>0.638830</td>\n",
       "      <td>-0.081607</td>\n",
       "      <td>0.412348</td>\n",
       "      <td>0.600346</td>\n",
       "      <td>0.098649</td>\n",
       "      <td>-0.054093</td>\n",
       "      <td>-0.032114</td>\n",
       "      <td>-0.084083</td>\n",
       "      <td>-0.111436</td>\n",
       "      <td>-0.101510</td>\n",
       "      <td>-0.028457</td>\n",
       "      <td>-0.001755</td>\n",
       "      <td>-0.029616</td>\n",
       "      <td>-0.062385</td>\n",
       "      <td>-0.061930</td>\n",
       "      <td>-0.024778</td>\n",
       "      <td>-0.030744</td>\n",
       "      <td>-0.018239</td>\n",
       "    </tr>\n",
       "    <tr>\n",
       "      <th>3</th>\n",
       "      <td>-0.115539</td>\n",
       "      <td>-0.257468</td>\n",
       "      <td>0.113171</td>\n",
       "      <td>-0.192914</td>\n",
       "      <td>0.674269</td>\n",
       "      <td>0.434477</td>\n",
       "      <td>0.010398</td>\n",
       "      <td>-0.320788</td>\n",
       "      <td>-0.294349</td>\n",
       "      <td>-0.174819</td>\n",
       "      <td>-0.050517</td>\n",
       "      <td>-0.008638</td>\n",
       "      <td>-0.041880</td>\n",
       "      <td>0.009148</td>\n",
       "      <td>-0.007707</td>\n",
       "      <td>-0.000352</td>\n",
       "      <td>0.000202</td>\n",
       "      <td>0.046793</td>\n",
       "    </tr>\n",
       "    <tr>\n",
       "      <th>4</th>\n",
       "      <td>0.024033</td>\n",
       "      <td>0.891937</td>\n",
       "      <td>0.010938</td>\n",
       "      <td>0.015228</td>\n",
       "      <td>0.215102</td>\n",
       "      <td>0.004775</td>\n",
       "      <td>0.147921</td>\n",
       "      <td>-0.112880</td>\n",
       "      <td>-0.185875</td>\n",
       "      <td>-0.051525</td>\n",
       "      <td>0.287598</td>\n",
       "      <td>0.005843</td>\n",
       "      <td>0.004399</td>\n",
       "      <td>0.015799</td>\n",
       "      <td>0.004600</td>\n",
       "      <td>-0.041191</td>\n",
       "      <td>-0.025533</td>\n",
       "      <td>0.003984</td>\n",
       "    </tr>\n",
       "  </tbody>\n",
       "</table>\n",
       "</div>"
      ],
      "text/plain": [
       "        Age    Gender    Income  No of Years   FreqBra   FreqATM   FreqPOS  \\\n",
       "0 -0.066733  0.003786 -0.060536    -0.040303 -0.033301 -0.002897 -0.039658   \n",
       "1  0.046252 -0.069350  0.188128     0.028271  0.255230  0.338434  0.397196   \n",
       "2  0.638830 -0.081607  0.412348     0.600346  0.098649 -0.054093 -0.032114   \n",
       "3 -0.115539 -0.257468  0.113171    -0.192914  0.674269  0.434477  0.010398   \n",
       "4  0.024033  0.891937  0.010938     0.015228  0.215102  0.004775  0.147921   \n",
       "\n",
       "    FreqInt   FreqMob  FreqUSSD   FreqTel  cust_care_score  complaints_score  \\\n",
       "0  0.004165 -0.021776 -0.048647 -0.017162        -0.390029         -0.374610   \n",
       "1  0.451353  0.459178  0.305537  0.322743        -0.010254         -0.012576   \n",
       "2 -0.084083 -0.111436 -0.101510 -0.028457        -0.001755         -0.029616   \n",
       "3 -0.320788 -0.294349 -0.174819 -0.050517        -0.008638         -0.041880   \n",
       "4 -0.112880 -0.185875 -0.051525  0.287598         0.005843          0.004399   \n",
       "\n",
       "   branches_score  ATMs_score  exec_eff_score  prod_score  val_for_money_score  \n",
       "0       -0.398867   -0.366870       -0.363132   -0.381503            -0.347631  \n",
       "1       -0.008111   -0.020124       -0.042693   -0.039564            -0.056683  \n",
       "2       -0.062385   -0.061930       -0.024778   -0.030744            -0.018239  \n",
       "3        0.009148   -0.007707       -0.000352    0.000202             0.046793  \n",
       "4        0.015799    0.004600       -0.041191   -0.025533             0.003984  "
      ]
     },
     "execution_count": 125,
     "metadata": {},
     "output_type": "execute_result"
    }
   ],
   "source": [
    "from sklearn.decomposition import PCA\n",
    "pca = PCA(n_components=11)\n",
    "pca.fit(selected_data_std)\n",
    "pca.components_\n",
    "X = pd.DataFrame(pca.components_, columns = selected_data.columns)\n",
    "X.head()"
   ]
  },
  {
   "cell_type": "code",
   "execution_count": 126,
   "metadata": {},
   "outputs": [
    {
     "data": {
      "text/plain": [
       "array([ 0.22836663,  0.12791783,  0.09833147,  0.05761267,  0.05566123,\n",
       "        0.05114725,  0.04630545,  0.04430855,  0.0440074 ,  0.04260376,\n",
       "        0.03696586])"
      ]
     },
     "execution_count": 126,
     "metadata": {},
     "output_type": "execute_result"
    }
   ],
   "source": [
    "pca.explained_variance_ratio_"
   ]
  },
  {
   "cell_type": "code",
   "execution_count": 127,
   "metadata": {},
   "outputs": [
    {
     "data": {
      "text/html": [
       "<div>\n",
       "<table border=\"1\" class=\"dataframe\">\n",
       "  <thead>\n",
       "    <tr style=\"text-align: right;\">\n",
       "      <th></th>\n",
       "      <th>pca1</th>\n",
       "      <th>pca2</th>\n",
       "      <th>pca3</th>\n",
       "      <th>pca4</th>\n",
       "      <th>pca5</th>\n",
       "      <th>pca6</th>\n",
       "      <th>pca7</th>\n",
       "      <th>pca8</th>\n",
       "      <th>pca9</th>\n",
       "      <th>pca10</th>\n",
       "      <th>pca11</th>\n",
       "    </tr>\n",
       "  </thead>\n",
       "  <tbody>\n",
       "    <tr>\n",
       "      <th>0</th>\n",
       "      <td>2.477496</td>\n",
       "      <td>-0.684724</td>\n",
       "      <td>-0.317795</td>\n",
       "      <td>0.331547</td>\n",
       "      <td>-0.835968</td>\n",
       "      <td>0.339197</td>\n",
       "      <td>0.231652</td>\n",
       "      <td>0.263345</td>\n",
       "      <td>-0.086281</td>\n",
       "      <td>-0.014955</td>\n",
       "      <td>-0.066203</td>\n",
       "    </tr>\n",
       "    <tr>\n",
       "      <th>1</th>\n",
       "      <td>0.862604</td>\n",
       "      <td>-0.790042</td>\n",
       "      <td>-0.105548</td>\n",
       "      <td>0.245458</td>\n",
       "      <td>-0.751238</td>\n",
       "      <td>0.365378</td>\n",
       "      <td>0.401415</td>\n",
       "      <td>0.462083</td>\n",
       "      <td>-0.398483</td>\n",
       "      <td>0.010112</td>\n",
       "      <td>0.019472</td>\n",
       "    </tr>\n",
       "    <tr>\n",
       "      <th>2</th>\n",
       "      <td>-4.054132</td>\n",
       "      <td>0.096758</td>\n",
       "      <td>-1.704274</td>\n",
       "      <td>1.528326</td>\n",
       "      <td>1.261695</td>\n",
       "      <td>-1.015390</td>\n",
       "      <td>-0.037311</td>\n",
       "      <td>0.594179</td>\n",
       "      <td>-0.812862</td>\n",
       "      <td>0.694452</td>\n",
       "      <td>1.625585</td>\n",
       "    </tr>\n",
       "    <tr>\n",
       "      <th>3</th>\n",
       "      <td>0.842839</td>\n",
       "      <td>-0.801025</td>\n",
       "      <td>-0.767931</td>\n",
       "      <td>-0.546953</td>\n",
       "      <td>0.787615</td>\n",
       "      <td>0.032256</td>\n",
       "      <td>-0.710908</td>\n",
       "      <td>0.001365</td>\n",
       "      <td>0.049571</td>\n",
       "      <td>0.372746</td>\n",
       "      <td>0.175498</td>\n",
       "    </tr>\n",
       "    <tr>\n",
       "      <th>4</th>\n",
       "      <td>0.982826</td>\n",
       "      <td>-1.003241</td>\n",
       "      <td>-0.592981</td>\n",
       "      <td>-0.145457</td>\n",
       "      <td>0.933239</td>\n",
       "      <td>-0.254969</td>\n",
       "      <td>-0.006011</td>\n",
       "      <td>-0.020754</td>\n",
       "      <td>0.069502</td>\n",
       "      <td>0.045700</td>\n",
       "      <td>0.025756</td>\n",
       "    </tr>\n",
       "  </tbody>\n",
       "</table>\n",
       "</div>"
      ],
      "text/plain": [
       "       pca1      pca2      pca3      pca4      pca5      pca6      pca7  \\\n",
       "0  2.477496 -0.684724 -0.317795  0.331547 -0.835968  0.339197  0.231652   \n",
       "1  0.862604 -0.790042 -0.105548  0.245458 -0.751238  0.365378  0.401415   \n",
       "2 -4.054132  0.096758 -1.704274  1.528326  1.261695 -1.015390 -0.037311   \n",
       "3  0.842839 -0.801025 -0.767931 -0.546953  0.787615  0.032256 -0.710908   \n",
       "4  0.982826 -1.003241 -0.592981 -0.145457  0.933239 -0.254969 -0.006011   \n",
       "\n",
       "       pca8      pca9     pca10     pca11  \n",
       "0  0.263345 -0.086281 -0.014955 -0.066203  \n",
       "1  0.462083 -0.398483  0.010112  0.019472  \n",
       "2  0.594179 -0.812862  0.694452  1.625585  \n",
       "3  0.001365  0.049571  0.372746  0.175498  \n",
       "4 -0.020754  0.069502  0.045700  0.025756  "
      ]
     },
     "execution_count": 127,
     "metadata": {},
     "output_type": "execute_result"
    }
   ],
   "source": [
    "selected_data_std_pca = pca.transform(selected_data_std)\n",
    "selected_data_std_pca = pd.DataFrame(selected_data_std_pca, columns = ['pca1', 'pca2', 'pca3', 'pca4', 'pca5', 'pca6', 'pca7', 'pca8', 'pca9', 'pca10', 'pca11'])\n",
    "selected_data_std_pca.head()"
   ]
  },
  {
   "cell_type": "code",
   "execution_count": 128,
   "metadata": {},
   "outputs": [
    {
     "data": {
      "text/plain": [
       "(array([ 2987.,  3311.,     0.,  1934.,     0.,   101.,  6860.,     0.,\n",
       "         1430.,   644.]),\n",
       " array([ 0. ,  0.6,  1.2,  1.8,  2.4,  3. ,  3.6,  4.2,  4.8,  5.4,  6. ]),\n",
       " <a list of 10 Patch objects>)"
      ]
     },
     "execution_count": 128,
     "metadata": {},
     "output_type": "execute_result"
    },
    {
     "data": {
      "image/png": "[encoded data removed]",
      "text/plain": [
       "<matplotlib.figure.Figure at 0x22934e88240>"
      ]
     },
     "metadata": {},
     "output_type": "display_data"
    }
   ],
   "source": [
    "from sklearn.cluster import KMeans\n",
    "\n",
    "kmeans = KMeans(n_clusters=7, random_state=0).fit(selected_data_std_pca)\n",
    "\n",
    "import seaborn as sns\n",
    "import matplotlib.pyplot as plt\n",
    "\n",
    "plt.hist(kmeans.labels_)"
   ]
  },
  {
   "cell_type": "code",
   "execution_count": 129,
   "metadata": {
    "scrolled": true
   },
   "outputs": [
    {
     "data": {
      "text/html": [
       "<div>\n",
       "<table border=\"1\" class=\"dataframe\">\n",
       "  <thead>\n",
       "    <tr style=\"text-align: right;\">\n",
       "      <th></th>\n",
       "      <th>Age</th>\n",
       "      <th>Gender</th>\n",
       "      <th>Income</th>\n",
       "      <th>No of Years</th>\n",
       "      <th>FreqBra</th>\n",
       "      <th>FreqATM</th>\n",
       "      <th>FreqPOS</th>\n",
       "      <th>FreqInt</th>\n",
       "      <th>FreqMob</th>\n",
       "      <th>FreqUSSD</th>\n",
       "      <th>FreqTel</th>\n",
       "      <th>cust_care_score</th>\n",
       "      <th>complaints_score</th>\n",
       "      <th>branches_score</th>\n",
       "      <th>ATMs_score</th>\n",
       "      <th>exec_eff_score</th>\n",
       "      <th>prod_score</th>\n",
       "      <th>val_for_money_score</th>\n",
       "    </tr>\n",
       "  </thead>\n",
       "  <tbody>\n",
       "    <tr>\n",
       "      <th>0</th>\n",
       "      <td>-0.105803</td>\n",
       "      <td>0.007767</td>\n",
       "      <td>-0.067449</td>\n",
       "      <td>-0.152626</td>\n",
       "      <td>-0.176866</td>\n",
       "      <td>-0.038871</td>\n",
       "      <td>0.019024</td>\n",
       "      <td>-0.161389</td>\n",
       "      <td>-0.067234</td>\n",
       "      <td>0.056445</td>\n",
       "      <td>-0.063758</td>\n",
       "      <td>1.123863</td>\n",
       "      <td>1.097919</td>\n",
       "      <td>1.168284</td>\n",
       "      <td>1.083728</td>\n",
       "      <td>1.035550</td>\n",
       "      <td>1.076326</td>\n",
       "      <td>0.972175</td>\n",
       "    </tr>\n",
       "    <tr>\n",
       "      <th>1</th>\n",
       "      <td>-0.211401</td>\n",
       "      <td>0.002801</td>\n",
       "      <td>-0.165571</td>\n",
       "      <td>-0.146486</td>\n",
       "      <td>-0.179816</td>\n",
       "      <td>-0.052510</td>\n",
       "      <td>-0.140083</td>\n",
       "      <td>-0.215464</td>\n",
       "      <td>-0.261742</td>\n",
       "      <td>-0.111605</td>\n",
       "      <td>-0.070213</td>\n",
       "      <td>-1.011085</td>\n",
       "      <td>-0.973698</td>\n",
       "      <td>-1.041232</td>\n",
       "      <td>-0.949453</td>\n",
       "      <td>-0.958365</td>\n",
       "      <td>-1.017934</td>\n",
       "      <td>-0.929095</td>\n",
       "    </tr>\n",
       "    <tr>\n",
       "      <th>2</th>\n",
       "      <td>1.714459</td>\n",
       "      <td>-0.057540</td>\n",
       "      <td>0.837229</td>\n",
       "      <td>1.707223</td>\n",
       "      <td>-0.134902</td>\n",
       "      <td>-0.176755</td>\n",
       "      <td>-0.081282</td>\n",
       "      <td>-0.220339</td>\n",
       "      <td>-0.272507</td>\n",
       "      <td>-0.129091</td>\n",
       "      <td>-0.058722</td>\n",
       "      <td>0.203837</td>\n",
       "      <td>0.131634</td>\n",
       "      <td>0.039488</td>\n",
       "      <td>0.044635</td>\n",
       "      <td>0.152485</td>\n",
       "      <td>0.131007</td>\n",
       "      <td>0.128301</td>\n",
       "    </tr>\n",
       "    <tr>\n",
       "      <th>3</th>\n",
       "      <td>0.185346</td>\n",
       "      <td>0.054819</td>\n",
       "      <td>0.395190</td>\n",
       "      <td>-0.381152</td>\n",
       "      <td>1.398637</td>\n",
       "      <td>1.100904</td>\n",
       "      <td>2.617089</td>\n",
       "      <td>2.535995</td>\n",
       "      <td>1.576601</td>\n",
       "      <td>2.209916</td>\n",
       "      <td>12.073203</td>\n",
       "      <td>0.056064</td>\n",
       "      <td>0.151215</td>\n",
       "      <td>0.372255</td>\n",
       "      <td>-0.100266</td>\n",
       "      <td>0.015509</td>\n",
       "      <td>-0.099091</td>\n",
       "      <td>0.060543</td>\n",
       "    </tr>\n",
       "    <tr>\n",
       "      <th>4</th>\n",
       "      <td>-0.331297</td>\n",
       "      <td>0.033204</td>\n",
       "      <td>-0.223644</td>\n",
       "      <td>-0.323172</td>\n",
       "      <td>-0.225693</td>\n",
       "      <td>-0.155065</td>\n",
       "      <td>-0.167145</td>\n",
       "      <td>-0.302664</td>\n",
       "      <td>-0.284893</td>\n",
       "      <td>-0.101107</td>\n",
       "      <td>-0.112286</td>\n",
       "      <td>-0.037505</td>\n",
       "      <td>-0.026940</td>\n",
       "      <td>-0.008640</td>\n",
       "      <td>0.004388</td>\n",
       "      <td>0.015933</td>\n",
       "      <td>0.008476</td>\n",
       "      <td>0.015964</td>\n",
       "    </tr>\n",
       "    <tr>\n",
       "      <th>5</th>\n",
       "      <td>-0.169105</td>\n",
       "      <td>-0.062205</td>\n",
       "      <td>0.137330</td>\n",
       "      <td>-0.085004</td>\n",
       "      <td>-0.080380</td>\n",
       "      <td>0.783121</td>\n",
       "      <td>0.824440</td>\n",
       "      <td>2.265267</td>\n",
       "      <td>2.263564</td>\n",
       "      <td>0.498766</td>\n",
       "      <td>0.028229</td>\n",
       "      <td>-0.236691</td>\n",
       "      <td>-0.162446</td>\n",
       "      <td>-0.191950</td>\n",
       "      <td>-0.189168</td>\n",
       "      <td>-0.231743</td>\n",
       "      <td>-0.198316</td>\n",
       "      <td>-0.302774</td>\n",
       "    </tr>\n",
       "    <tr>\n",
       "      <th>6</th>\n",
       "      <td>0.302523</td>\n",
       "      <td>-0.102038</td>\n",
       "      <td>0.664097</td>\n",
       "      <td>0.024135</td>\n",
       "      <td>4.513639</td>\n",
       "      <td>0.722562</td>\n",
       "      <td>0.415378</td>\n",
       "      <td>0.315174</td>\n",
       "      <td>0.237104</td>\n",
       "      <td>0.322235</td>\n",
       "      <td>0.073426</td>\n",
       "      <td>0.273953</td>\n",
       "      <td>0.127138</td>\n",
       "      <td>0.259514</td>\n",
       "      <td>0.094798</td>\n",
       "      <td>-0.006749</td>\n",
       "      <td>0.197291</td>\n",
       "      <td>0.360211</td>\n",
       "    </tr>\n",
       "  </tbody>\n",
       "</table>\n",
       "</div>"
      ],
      "text/plain": [
       "        Age    Gender    Income  No of Years   FreqBra   FreqATM   FreqPOS  \\\n",
       "0 -0.105803  0.007767 -0.067449    -0.152626 -0.176866 -0.038871  0.019024   \n",
       "1 -0.211401  0.002801 -0.165571    -0.146486 -0.179816 -0.052510 -0.140083   \n",
       "2  1.714459 -0.057540  0.837229     1.707223 -0.134902 -0.176755 -0.081282   \n",
       "3  0.185346  0.054819  0.395190    -0.381152  1.398637  1.100904  2.617089   \n",
       "4 -0.331297  0.033204 -0.223644    -0.323172 -0.225693 -0.155065 -0.167145   \n",
       "5 -0.169105 -0.062205  0.137330    -0.085004 -0.080380  0.783121  0.824440   \n",
       "6  0.302523 -0.102038  0.664097     0.024135  4.513639  0.722562  0.415378   \n",
       "\n",
       "    FreqInt   FreqMob  FreqUSSD    FreqTel  cust_care_score  complaints_score  \\\n",
       "0 -0.161389 -0.067234  0.056445  -0.063758         1.123863          1.097919   \n",
       "1 -0.215464 -0.261742 -0.111605  -0.070213        -1.011085         -0.973698   \n",
       "2 -0.220339 -0.272507 -0.129091  -0.058722         0.203837          0.131634   \n",
       "3  2.535995  1.576601  2.209916  12.073203         0.056064          0.151215   \n",
       "4 -0.302664 -0.284893 -0.101107  -0.112286        -0.037505         -0.026940   \n",
       "5  2.265267  2.263564  0.498766   0.028229        -0.236691         -0.162446   \n",
       "6  0.315174  0.237104  0.322235   0.073426         0.273953          0.127138   \n",
       "\n",
       "   branches_score  ATMs_score  exec_eff_score  prod_score  val_for_money_score  \n",
       "0        1.168284    1.083728        1.035550    1.076326             0.972175  \n",
       "1       -1.041232   -0.949453       -0.958365   -1.017934            -0.929095  \n",
       "2        0.039488    0.044635        0.152485    0.131007             0.128301  \n",
       "3        0.372255   -0.100266        0.015509   -0.099091             0.060543  \n",
       "4       -0.008640    0.004388        0.015933    0.008476             0.015964  \n",
       "5       -0.191950   -0.189168       -0.231743   -0.198316            -0.302774  \n",
       "6        0.259514    0.094798       -0.006749    0.197291             0.360211  "
      ]
     },
     "execution_count": 129,
     "metadata": {},
     "output_type": "execute_result"
    }
   ],
   "source": [
    "kmeans_cluster_centers_reg = pca.inverse_transform(kmeans.cluster_centers_)\n",
    "\n",
    "cluster_df_std = pd.DataFrame(kmeans_cluster_centers_reg, columns=selected_data.columns)\n",
    "cluster_df_std"
   ]
  },
  {
   "cell_type": "code",
   "execution_count": 135,
   "metadata": {},
   "outputs": [
    {
     "data": {
      "text/html": [
       "<div>\n",
       "<table border=\"1\" class=\"dataframe\">\n",
       "  <thead>\n",
       "    <tr style=\"text-align: right;\">\n",
       "      <th></th>\n",
       "      <th>Age</th>\n",
       "      <th>Gender</th>\n",
       "      <th>Income</th>\n",
       "      <th>No of Years</th>\n",
       "      <th>FreqBra</th>\n",
       "      <th>FreqATM</th>\n",
       "      <th>FreqPOS</th>\n",
       "      <th>FreqInt</th>\n",
       "      <th>FreqMob</th>\n",
       "      <th>FreqUSSD</th>\n",
       "      <th>FreqTel</th>\n",
       "      <th>cust_care_score</th>\n",
       "      <th>complaints_score</th>\n",
       "      <th>branches_score</th>\n",
       "      <th>ATMs_score</th>\n",
       "      <th>exec_eff_score</th>\n",
       "      <th>prod_score</th>\n",
       "      <th>val_for_money_score</th>\n",
       "    </tr>\n",
       "  </thead>\n",
       "  <tbody>\n",
       "    <tr>\n",
       "      <th>0</th>\n",
       "      <td>31.252535</td>\n",
       "      <td>0.458376</td>\n",
       "      <td>90708.318724</td>\n",
       "      <td>5.469408</td>\n",
       "      <td>2.655010</td>\n",
       "      <td>7.606756</td>\n",
       "      <td>2.142696</td>\n",
       "      <td>1.828787</td>\n",
       "      <td>3.378986</td>\n",
       "      <td>3.570424</td>\n",
       "      <td>0.379900</td>\n",
       "      <td>77.308711</td>\n",
       "      <td>41.422606</td>\n",
       "      <td>106.435765</td>\n",
       "      <td>83.495994</td>\n",
       "      <td>43.738150</td>\n",
       "      <td>38.492634</td>\n",
       "      <td>20.545971</td>\n",
       "    </tr>\n",
       "    <tr>\n",
       "      <th>1</th>\n",
       "      <td>30.134052</td>\n",
       "      <td>0.455903</td>\n",
       "      <td>72030.773284</td>\n",
       "      <td>5.499039</td>\n",
       "      <td>2.637889</td>\n",
       "      <td>7.489778</td>\n",
       "      <td>1.369680</td>\n",
       "      <td>1.440033</td>\n",
       "      <td>1.816115</td>\n",
       "      <td>2.297680</td>\n",
       "      <td>0.364203</td>\n",
       "      <td>4.625283</td>\n",
       "      <td>-0.790476</td>\n",
       "      <td>-1.821769</td>\n",
       "      <td>6.680747</td>\n",
       "      <td>3.937495</td>\n",
       "      <td>-2.396533</td>\n",
       "      <td>-2.409451</td>\n",
       "    </tr>\n",
       "    <tr>\n",
       "      <th>2</th>\n",
       "      <td>50.532634</td>\n",
       "      <td>0.425858</td>\n",
       "      <td>262914.043812</td>\n",
       "      <td>14.444922</td>\n",
       "      <td>2.898580</td>\n",
       "      <td>6.424160</td>\n",
       "      <td>1.655366</td>\n",
       "      <td>1.404979</td>\n",
       "      <td>1.729618</td>\n",
       "      <td>2.165248</td>\n",
       "      <td>0.392148</td>\n",
       "      <td>45.986814</td>\n",
       "      <td>21.732734</td>\n",
       "      <td>51.129239</td>\n",
       "      <td>44.238208</td>\n",
       "      <td>26.111235</td>\n",
       "      <td>20.035855</td>\n",
       "      <td>10.357265</td>\n",
       "    </tr>\n",
       "    <tr>\n",
       "      <th>3</th>\n",
       "      <td>34.336367</td>\n",
       "      <td>0.481804</td>\n",
       "      <td>178771.673126</td>\n",
       "      <td>4.366557</td>\n",
       "      <td>11.799639</td>\n",
       "      <td>17.382353</td>\n",
       "      <td>14.765308</td>\n",
       "      <td>21.220953</td>\n",
       "      <td>16.587173</td>\n",
       "      <td>19.879937</td>\n",
       "      <td>29.895162</td>\n",
       "      <td>40.955927</td>\n",
       "      <td>22.131725</td>\n",
       "      <td>67.433478</td>\n",
       "      <td>38.763747</td>\n",
       "      <td>23.377043</td>\n",
       "      <td>15.543332</td>\n",
       "      <td>9.539167</td>\n",
       "    </tr>\n",
       "    <tr>\n",
       "      <th>4</th>\n",
       "      <td>28.864123</td>\n",
       "      <td>0.471042</td>\n",
       "      <td>60976.604360</td>\n",
       "      <td>4.646361</td>\n",
       "      <td>2.371607</td>\n",
       "      <td>6.610192</td>\n",
       "      <td>1.238199</td>\n",
       "      <td>0.813130</td>\n",
       "      <td>1.630101</td>\n",
       "      <td>2.377187</td>\n",
       "      <td>0.261889</td>\n",
       "      <td>37.770422</td>\n",
       "      <td>18.501495</td>\n",
       "      <td>48.771152</td>\n",
       "      <td>42.717649</td>\n",
       "      <td>23.385501</td>\n",
       "      <td>17.643509</td>\n",
       "      <td>9.000933</td>\n",
       "    </tr>\n",
       "    <tr>\n",
       "      <th>5</th>\n",
       "      <td>30.582045</td>\n",
       "      <td>0.423535</td>\n",
       "      <td>129687.980958</td>\n",
       "      <td>5.795747</td>\n",
       "      <td>3.215043</td>\n",
       "      <td>14.656802</td>\n",
       "      <td>6.055783</td>\n",
       "      <td>19.274625</td>\n",
       "      <td>22.106914</td>\n",
       "      <td>6.920382</td>\n",
       "      <td>0.603599</td>\n",
       "      <td>30.989226</td>\n",
       "      <td>15.740294</td>\n",
       "      <td>39.789681</td>\n",
       "      <td>35.404936</td>\n",
       "      <td>18.441640</td>\n",
       "      <td>13.606013</td>\n",
       "      <td>5.152581</td>\n",
       "    </tr>\n",
       "    <tr>\n",
       "      <th>6</th>\n",
       "      <td>35.577502</td>\n",
       "      <td>0.403701</td>\n",
       "      <td>229958.325458</td>\n",
       "      <td>6.322447</td>\n",
       "      <td>29.879923</td>\n",
       "      <td>14.137395</td>\n",
       "      <td>4.068370</td>\n",
       "      <td>5.254916</td>\n",
       "      <td>5.824339</td>\n",
       "      <td>5.583407</td>\n",
       "      <td>0.713512</td>\n",
       "      <td>48.373863</td>\n",
       "      <td>21.641109</td>\n",
       "      <td>61.909652</td>\n",
       "      <td>46.133411</td>\n",
       "      <td>22.932760</td>\n",
       "      <td>21.330016</td>\n",
       "      <td>13.157280</td>\n",
       "    </tr>\n",
       "  </tbody>\n",
       "</table>\n",
       "</div>"
      ],
      "text/plain": [
       "         Age    Gender         Income  No of Years    FreqBra    FreqATM  \\\n",
       "0  31.252535  0.458376   90708.318724     5.469408   2.655010   7.606756   \n",
       "1  30.134052  0.455903   72030.773284     5.499039   2.637889   7.489778   \n",
       "2  50.532634  0.425858  262914.043812    14.444922   2.898580   6.424160   \n",
       "3  34.336367  0.481804  178771.673126     4.366557  11.799639  17.382353   \n",
       "4  28.864123  0.471042   60976.604360     4.646361   2.371607   6.610192   \n",
       "5  30.582045  0.423535  129687.980958     5.795747   3.215043  14.656802   \n",
       "6  35.577502  0.403701  229958.325458     6.322447  29.879923  14.137395   \n",
       "\n",
       "     FreqPOS    FreqInt    FreqMob   FreqUSSD    FreqTel  cust_care_score  \\\n",
       "0   2.142696   1.828787   3.378986   3.570424   0.379900        77.308711   \n",
       "1   1.369680   1.440033   1.816115   2.297680   0.364203         4.625283   \n",
       "2   1.655366   1.404979   1.729618   2.165248   0.392148        45.986814   \n",
       "3  14.765308  21.220953  16.587173  19.879937  29.895162        40.955927   \n",
       "4   1.238199   0.813130   1.630101   2.377187   0.261889        37.770422   \n",
       "5   6.055783  19.274625  22.106914   6.920382   0.603599        30.989226   \n",
       "6   4.068370   5.254916   5.824339   5.583407   0.713512        48.373863   \n",
       "\n",
       "   complaints_score  branches_score  ATMs_score  exec_eff_score  prod_score  \\\n",
       "0         41.422606      106.435765   83.495994       43.738150   38.492634   \n",
       "1         -0.790476       -1.821769    6.680747        3.937495   -2.396533   \n",
       "2         21.732734       51.129239   44.238208       26.111235   20.035855   \n",
       "3         22.131725       67.433478   38.763747       23.377043   15.543332   \n",
       "4         18.501495       48.771152   42.717649       23.385501   17.643509   \n",
       "5         15.740294       39.789681   35.404936       18.441640   13.606013   \n",
       "6         21.641109       61.909652   46.133411       22.932760   21.330016   \n",
       "\n",
       "   val_for_money_score  \n",
       "0            20.545971  \n",
       "1            -2.409451  \n",
       "2            10.357265  \n",
       "3             9.539167  \n",
       "4             9.000933  \n",
       "5             5.152581  \n",
       "6            13.157280  "
      ]
     },
     "execution_count": 135,
     "metadata": {},
     "output_type": "execute_result"
    }
   ],
   "source": [
    "cluster_df = pd.DataFrame(std_scaler.inverse_transform(kmeans_cluster_centers_reg), columns=selected_data.columns)\n",
    "cluster_df.to_csv('11 PCA before clustering.csv')\n",
    "cluster_df"
   ]
  },
  {
   "cell_type": "code",
   "execution_count": 131,
   "metadata": {},
   "outputs": [
    {
     "name": "stdout",
     "output_type": "stream",
     "text": [
      "Selected data has 18 features\n",
      "9 principal components has 0.753658481237 total variance explanation\n"
     ]
    }
   ],
   "source": [
    "print('Selected data has', len(selected_data.columns), 'features')\n",
    "print('9 principal components has', np.sum(pca.explained_variance_ratio_[:9]), 'total variance explanation')"
   ]
  },
  {
   "cell_type": "code",
   "execution_count": 132,
   "metadata": {},
   "outputs": [
    {
     "data": {
      "text/plain": [
       "<matplotlib.collections.PathCollection at 0x2292a4b7898>"
      ]
     },
     "execution_count": 132,
     "metadata": {},
     "output_type": "execute_result"
    },
    {
     "data": {
      "image/png": "[encoded data removed]",
      "text/plain": [
       "<matplotlib.figure.Figure at 0x22935eb7eb8>"
      ]
     },
     "metadata": {},
     "output_type": "display_data"
    }
   ],
   "source": [
    "plt.scatter(selected_data_std_pca['pca1'], selected_data_std_pca['pca2'], c=kmeans.labels_, cmap='Paired', alpha=0.8, s=2\n",
    "            , marker='x')\n",
    "#plt.legend(['1', '2', '3', '4', '5', '6'])"
   ]
  },
  {
   "cell_type": "markdown",
   "metadata": {},
   "source": [
    "PCA not really working for separating the clusters"
   ]
  },
  {
   "cell_type": "code",
   "execution_count": 133,
   "metadata": {},
   "outputs": [
    {
     "name": "stderr",
     "output_type": "stream",
     "text": [
      "C:\\Users\\EshamogboOjuba\\.conda\\envs\\my_root\\lib\\site-packages\\matplotlib\\collections.py:865: RuntimeWarning: invalid value encountered in sqrt\n",
      "  scale = np.sqrt(self._sizes) * dpi / 72.0 * self._factor\n"
     ]
    },
    {
     "data": {
      "text/plain": [
       "<mpl_toolkits.mplot3d.art3d.Path3DCollection at 0x2292a9e6cf8>"
      ]
     },
     "execution_count": 133,
     "metadata": {},
     "output_type": "execute_result"
    },
    {
     "data": {
      "image/png": "[encoded data removed]",
      "text/plain": [
       "<matplotlib.figure.Figure at 0x2292a4ed710>"
      ]
     },
     "metadata": {},
     "output_type": "display_data"
    }
   ],
   "source": [
    "import matplotlib.pyplot as plt\n",
    "from mpl_toolkits.mplot3d import Axes3D\n",
    "\n",
    "\n",
    "fig = plt.figure()\n",
    "ax = fig.add_subplot(111, projection='3d')\n",
    "plt.scatter(selected_data_std_pca['pca1'], selected_data_std_pca['pca2'], selected_data_std_pca['pca3'], c=kmeans.labels_, cmap='Paired')"
   ]
  },
  {
   "cell_type": "markdown",
   "metadata": {},
   "source": [
    "## t-SNE"
   ]
  },
  {
   "cell_type": "code",
   "execution_count": 46,
   "metadata": {
    "collapsed": true
   },
   "outputs": [],
   "source": [
    "np.random.seed(9)\n",
    "selected_data_std_pca_rd = np.random.permutation(selected_data_std_pca)"
   ]
  },
  {
   "cell_type": "code",
   "execution_count": 47,
   "metadata": {},
   "outputs": [
    {
     "data": {
      "text/plain": [
       "102.8313136100769"
      ]
     },
     "execution_count": 47,
     "metadata": {},
     "output_type": "execute_result"
    }
   ],
   "source": [
    "import time\n",
    "from sklearn.manifold import TSNE\n",
    "\n",
    "time_start = time.time()\n",
    "tsne = TSNE(n_components=2, n_iter=300)\n",
    "tsne_result = tsne.fit_transform(selected_data_std_pca_rd[:5000])\n",
    "\n",
    "time_elapsed = time.time() - time_start\n",
    "time_elapsed\n"
   ]
  },
  {
   "cell_type": "code",
   "execution_count": 48,
   "metadata": {},
   "outputs": [
    {
     "data": {
      "text/plain": [
       "(5000, 2)"
      ]
     },
     "execution_count": 48,
     "metadata": {},
     "output_type": "execute_result"
    }
   ],
   "source": [
    "tsne_result.shape"
   ]
  },
  {
   "cell_type": "code",
   "execution_count": 49,
   "metadata": {},
   "outputs": [
    {
     "data": {
      "text/plain": [
       "<matplotlib.collections.PathCollection at 0x229350a8940>"
      ]
     },
     "execution_count": 49,
     "metadata": {},
     "output_type": "execute_result"
    },
    {
     "data": {
      "image/png": "[encoded data removed]",
      "text/plain": [
       "<matplotlib.figure.Figure at 0x22934ef5e48>"
      ]
     },
     "metadata": {},
     "output_type": "display_data"
    }
   ],
   "source": [
    "plt.scatter(tsne_result[:,0], tsne_result[:,1], c=kmeans.labels_[:5000], cmap='Paired', s=2, alpha=0.8)"
   ]
  },
  {
   "cell_type": "code",
   "execution_count": null,
   "metadata": {
    "collapsed": true
   },
   "outputs": [],
   "source": []
  }
 ],
 "metadata": {
  "kernelspec": {
   "display_name": "Python [conda env:my_root]",
   "language": "python",
   "name": "conda-env-my_root-py"
  },
  "language_info": {
   "codemirror_mode": {
    "name": "ipython",
    "version": 3
   },
   "file_extension": ".py",
   "mimetype": "text/x-python",
   "name": "python",
   "nbconvert_exporter": "python",
   "pygments_lexer": "ipython3",
   "version": "3.6.0"
  }
 },
 "nbformat": 4,
 "nbformat_minor": 2
}
