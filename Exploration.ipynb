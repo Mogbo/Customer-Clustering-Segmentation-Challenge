{
 "cells": [
  {
   "cell_type": "markdown",
   "metadata": {},
   "source": [
    "# First run\n",
    "\n",
    "In this first run we will select some variables based on my intuition:\n"
   ]
  },
  {
   "cell_type": "markdown",
   "metadata": {},
   "source": [
    "### Exploration"
   ]
  },
  {
   "cell_type": "code",
   "execution_count": 115,
   "metadata": {},
   "outputs": [
    {
     "data": {
      "text/plain": [
       "\"import os\\nos.getcwd()\\nos.chdir('C:/Anacond')\\n\""
      ]
     },
     "execution_count": 115,
     "metadata": {},
     "output_type": "execute_result"
    }
   ],
   "source": [
    "'''import os\n",
    "os.getcwd()\n",
    "os.chdir('C:/Anacond')\n",
    "'''"
   ]
  },
  {
   "cell_type": "code",
   "execution_count": 116,
   "metadata": {},
   "outputs": [
    {
     "data": {
      "text/plain": [
       "(42653, 152)"
      ]
     },
     "execution_count": 116,
     "metadata": {},
     "output_type": "execute_result"
    }
   ],
   "source": [
    "%matplotlib inline\n",
    "\n",
    "import pandas as pd\n",
    "import numpy as np\n",
    "np.set_printoptions(suppress=True)\n",
    "import seaborn as sns\n",
    "import matplotlib.pyplot as plt\n",
    "\n",
    "sns.set()\n",
    "sns.set_style('whitegrid')\n",
    "\n",
    "data = pd.read_csv('Data Science Bootcamp Data_2.0.csv')\n",
    "data = data.rename(columns=lambda x: x.strip())   \n",
    "data.shape"
   ]
  },
  {
   "cell_type": "code",
   "execution_count": 117,
   "metadata": {},
   "outputs": [
    {
     "name": "stdout",
     "output_type": "stream",
     "text": [
      "<class 'pandas.core.frame.DataFrame'>\n",
      "RangeIndex: 42653 entries, 0 to 42652\n",
      "Columns: 152 entries, Quest No to ChangeReasons\n",
      "dtypes: float64(89), object(63)\n",
      "memory usage: 49.5+ MB\n"
     ]
    }
   ],
   "source": [
    "data.info()"
   ]
  },
  {
   "cell_type": "code",
   "execution_count": 118,
   "metadata": {},
   "outputs": [
    {
     "name": "stdout",
     "output_type": "stream",
     "text": [
      "25.5    16503\n",
      "33.0     9277\n",
      "38.0     5734\n",
      "50.5     5010\n",
      "19.0     4471\n",
      "65.0     1398\n",
      "Name: Age, dtype: int64\n",
      "<class 'pandas.core.frame.DataFrame'>\n",
      "RangeIndex: 42653 entries, 0 to 42652\n",
      "Data columns (total 1 columns):\n",
      "Age    42393 non-null object\n",
      "dtypes: object(1)\n",
      "memory usage: 333.3+ KB\n"
     ]
    }
   ],
   "source": [
    "recoded_Age = {'Age': {'21-30':25.5, '31-35':33, '36-40':38, '41-60':50.5, 'Above 60':65, 'No Response': None}}\n",
    "data.replace(recoded_Age, inplace=True)\n",
    "data.loc[data['Age'] == '18-20', 'Age'] = 19\n",
    "\n",
    "print(data.Age.value_counts())\n",
    "data[['Age']].info()"
   ]
  },
  {
   "cell_type": "code",
   "execution_count": 119,
   "metadata": {
    "collapsed": true
   },
   "outputs": [],
   "source": [
    "recoded_Gender = {'Gender': {'Male':0, 'Female':1, 'No Response':None}}\n",
    "data.replace(recoded_Gender, inplace=True)"
   ]
  },
  {
   "cell_type": "code",
   "execution_count": 120,
   "metadata": {},
   "outputs": [
    {
     "data": {
      "text/plain": [
       "25000.0      19042\n",
       "75000.0      13415\n",
       "175000.0      5995\n",
       "375000.0      1881\n",
       "750000.0       697\n",
       "2000000.0      270\n",
       "Name: Income, dtype: int64"
      ]
     },
     "execution_count": 120,
     "metadata": {},
     "output_type": "execute_result"
    }
   ],
   "source": [
    "recoded_Income = {'Income': {'N50,000 - N100,000':75000, 'Below N50,000':25000, 'N101,000 - N250,000':175000,\n",
    "                             'N251,000 - N500,000':375000, 'N501,000 - N1 Million':750000, 'No Response': None, 'Greater than N1 million':2000000}}\n",
    "data.replace(recoded_Income, inplace=True)\n",
    "data.Income.value_counts()"
   ]
  },
  {
   "cell_type": "code",
   "execution_count": 121,
   "metadata": {
    "collapsed": true
   },
   "outputs": [],
   "source": [
    "recoded_FreqBra = {'FreqBra': {'Never':0, 'Rarely':0.5, 'Monthly':2, 'At least once a week':6, \n",
    "                               'At Least once a day':30, 'No Response': None}}\n",
    "data.replace(recoded_FreqBra, inplace=True)\n",
    "\n",
    "recoded_FreqATM = {'FreqATM': {'Never':0, 'Rarely':0.5, 'Monthly':2, 'At least once a week':6, \n",
    "                               'At Least once a day':30, 'No Response': None}}\n",
    "data.replace(recoded_FreqATM, inplace=True)\n",
    "\n",
    "recoded_FreqPOS = {'FreqPOS': {'Never':0, 'Rarely':0.5, 'Monthly':2, 'At least once a week':6, \n",
    "                               'At Least once a day':30, 'No Response': None}}\n",
    "data.replace(recoded_FreqPOS, inplace=True)\n",
    "\n",
    "recoded_FreqInt = {'FreqInt': {'Never':0, 'Rarely':0.5, 'Monthly':2, 'At least once a week':6, \n",
    "                               'At Least once a day':30, 'No Response': None}}\n",
    "data.replace(recoded_FreqInt, inplace=True)\n",
    "\n",
    "recoded_FreqMob = {'FreqMob': {'Never':0, 'Rarely':0.5, 'Monthly':2, 'At least once a week':6, \n",
    "                               'At Least once a day':30, 'No Response': None}}\n",
    "data.replace(recoded_FreqMob, inplace=True)\n",
    "\n",
    "recoded_FreqUSSD = {'FreqUSSD': {'Never':0, 'Rarely':0.5, 'Monthly':2, 'At least once a week':6, \n",
    "                               'At Least once a day':30, 'No Response': None}}\n",
    "data.replace(recoded_FreqUSSD, inplace=True)\n",
    "\n",
    "recoded_FreqTel = {'FreqTel': {'Never':0, 'Rarely':0.5, 'Monthly':2, 'At least once a week':6, \n",
    "                               'At Least once a day':30, 'No Response': None}}\n",
    "data.replace(recoded_FreqTel, inplace=True)"
   ]
  },
  {
   "cell_type": "markdown",
   "metadata": {},
   "source": [
    "We will skip Bank from variables in the clustering analysis. When the analysis is done, we will see the banks that each cluster belongs to\n",
    "\n",
    "We will also skip Devices used in mobile banking in this first run"
   ]
  },
  {
   "cell_type": "code",
   "execution_count": 122,
   "metadata": {
    "collapsed": true
   },
   "outputs": [],
   "source": [
    "selected_data = data[['Age', 'Gender', 'Income', 'No of Years', 'FreqBra', 'FreqATM', 'FreqPOS', 'FreqInt', \n",
    "                      'FreqMob', 'FreqUSSD', 'FreqTel']]"
   ]
  },
  {
   "cell_type": "code",
   "execution_count": 123,
   "metadata": {
    "collapsed": true
   },
   "outputs": [],
   "source": [
    "demographic = data.iloc[:,:10]\n",
    "banking_rel_reasons = data.iloc[:,10:16]\n",
    "bank_chann_usage = data.iloc[:,16:23]\n",
    "most_freq_ATM = data.iloc[:,23:24]\n",
    "reas_for_freq_ATM = data.iloc[:,24:28]\n",
    "dev_used_onl_banking = data.iloc[:,28:32]\n",
    "bank_activ_engaged = data.iloc[:,32:41]\n",
    "bank_activ_will_like = data.iloc[:,41:50]\n",
    "\n",
    "# Customer Experience\n",
    "cust_care = data.iloc[:,50:58]\n",
    "complaints = data.iloc[:,58:62]\n",
    "branches = data.iloc[:,62:74]\n",
    "ATMs = data.iloc[:,74:82]\n",
    "mob_banking = data.iloc[:,82:94]\n",
    "int_banking = data.iloc[:,94:106]\n",
    "call_centre = data.iloc[:,106:112]\n",
    "soc_media = data.iloc[:,112:116]\n",
    "cards = data.iloc[:,116:124]\n",
    "exec_eff = data.iloc[:,124:128]\n",
    "prod = data.iloc[:,128:132]\n",
    "ease_credit = data.iloc[:, 132:136]\n",
    "val_for_money = data.iloc[:,136:138]\n",
    "\n",
    "# Payments\n",
    "pay_settl_wit_cash = data.iloc[:,138:141]\n",
    "pay_settl_wo_cash = data.iloc[:,141:144]\n",
    "pay_will_like_cashless = data.iloc[:,144:147]\n",
    "\n",
    "#Loyalty\n",
    "bank_recommendation = data.iloc[:,147:148]\n",
    "bank_switch_plan = data.iloc[:,148:149]\n",
    "from_bank = data.iloc[:,149:150]\n",
    "to_bank = data.iloc[:,150:151]\n",
    "reason_for_switch = data.iloc[:,151:152]"
   ]
  },
  {
   "cell_type": "code",
   "execution_count": 124,
   "metadata": {},
   "outputs": [
    {
     "data": {
      "text/plain": [
       "Int64Index([    2,     3,     5,    12,    15,    16,    18,    19,    32,\n",
       "               33,\n",
       "            ...\n",
       "            42599, 42600, 42601, 42611, 42612, 42613, 42614, 42615, 42617,\n",
       "            42618],\n",
       "           dtype='int64', length=6849)"
      ]
     },
     "execution_count": 124,
     "metadata": {},
     "output_type": "execute_result"
    }
   ],
   "source": [
    "null_rows = reas_for_freq_ATM.index[reas_for_freq_ATM.isnull().all(1)]\n",
    "null_rows"
   ]
  },
  {
   "cell_type": "markdown",
   "metadata": {},
   "source": [
    "Decision to discard this reasons for freq ATM due to judgement of analyst"
   ]
  },
  {
   "cell_type": "code",
   "execution_count": 125,
   "metadata": {},
   "outputs": [
    {
     "data": {
      "text/plain": [
       "Int64Index([    0,     1,     2,     3,     5,    12,    18,    19,    28,\n",
       "               32,\n",
       "            ...\n",
       "            42618, 42630, 42635, 42636, 42637, 42638, 42644, 42645, 42646,\n",
       "            42647],\n",
       "           dtype='int64', length=20914)"
      ]
     },
     "execution_count": 125,
     "metadata": {},
     "output_type": "execute_result"
    }
   ],
   "source": [
    "null_rows = dev_used_onl_banking.index[dev_used_onl_banking.isnull().all(1)]\n",
    "null_rows"
   ]
  },
  {
   "cell_type": "code",
   "execution_count": 126,
   "metadata": {},
   "outputs": [
    {
     "data": {
      "text/plain": [
       "count    42653.000000\n",
       "mean         0.517431\n",
       "std          0.517496\n",
       "min          0.000000\n",
       "25%          0.000000\n",
       "50%          1.000000\n",
       "75%          1.000000\n",
       "max          4.000000\n",
       "dtype: float64"
      ]
     },
     "execution_count": 126,
     "metadata": {},
     "output_type": "execute_result"
    }
   ],
   "source": [
    "dev_used_onl_banking.describe()\n",
    "dev_per_person = np.sum(dev_used_onl_banking =='Yes', axis=1)\n",
    "dev_per_person.describe()"
   ]
  },
  {
   "cell_type": "code",
   "execution_count": 127,
   "metadata": {},
   "outputs": [
    {
     "data": {
      "text/plain": [
       "(array([ 20914.,      0.,  21454.,      0.,      0.,    248.,      0.,\n",
       "            28.,      0.,      9.]),\n",
       " array([ 0. ,  0.4,  0.8,  1.2,  1.6,  2. ,  2.4,  2.8,  3.2,  3.6,  4. ]),\n",
       " <a list of 10 Patch objects>)"
      ]
     },
     "execution_count": 127,
     "metadata": {},
     "output_type": "execute_result"
    },
    {
     "data": {
      "image/png": "[encoded data removed]",
      "text/plain": [
       "<matplotlib.figure.Figure at 0x207b3b22a58>"
      ]
     },
     "metadata": {},
     "output_type": "display_data"
    }
   ],
   "source": [
    "plt.hist(dev_per_person)"
   ]
  },
  {
   "cell_type": "markdown",
   "metadata": {},
   "source": [
    "There are a lot of nulls for devices used in online banking, but it is a safe assumption that blanks mean that no device is used for online banking given the poor distribution of literacy in Nigeria\n",
    "\n",
    "bank_activ_engaged will be ignored for now. Each of the columns represent an activity and the value in each role is the primary channel used to execute such activity. Initial idea was to get some count of the channel usage and use that rather than the activity itself, but this is already mostly covered by bank_chann_usage. It might be interesting to see which activities are carried out be each cluster. \n",
    "\n",
    "bank_activ_will_like too will be ignored for now. It might be interesting still to see the activites the various clusters will like"
   ]
  },
  {
   "cell_type": "markdown",
   "metadata": {},
   "source": [
    "#### Customer  Experience (Customer Care, Complaints, Branches, etc)"
   ]
  },
  {
   "cell_type": "markdown",
   "metadata": {},
   "source": [
    "We will shift the data (all ratings by -4 so that neutral is zero)\n",
    "\n",
    "We will multiply the importance by the rating for each criteron and get a single score for each subsection"
   ]
  },
  {
   "cell_type": "code",
   "execution_count": 128,
   "metadata": {},
   "outputs": [
    {
     "data": {
      "text/plain": [
       "Index(['impcc1a', 'cc1a', 'impcc1b', 'cc1b', 'impcc2', 'cc2', 'impcc3', 'cc3'], dtype='object')"
      ]
     },
     "execution_count": 128,
     "metadata": {},
     "output_type": "execute_result"
    }
   ],
   "source": [
    "cust_care.columns"
   ]
  },
  {
   "cell_type": "code",
   "execution_count": 129,
   "metadata": {},
   "outputs": [
    {
     "name": "stderr",
     "output_type": "stream",
     "text": [
      "C:\\Users\\EshamogboOjuba\\.conda\\envs\\my_root\\lib\\site-packages\\ipykernel\\__main__.py:4: SettingWithCopyWarning: \n",
      "A value is trying to be set on a copy of a slice from a DataFrame.\n",
      "Try using .loc[row_indexer,col_indexer] = value instead\n",
      "\n",
      "See the caveats in the documentation: http://pandas.pydata.org/pandas-docs/stable/indexing.html#indexing-view-versus-copy\n"
     ]
    }
   ],
   "source": [
    "cust_care.iloc[:,1::2] -=  4\n",
    "cust_care_score = np.sum(cust_care.iloc[:,0::2].values * cust_care.iloc[:,1::2].values, axis=1)\n",
    "# multiplying the two dfs did not do element-wise multiplication\n",
    "selected_data['cust_care_score'] = cust_care_score"
   ]
  },
  {
   "cell_type": "code",
   "execution_count": 130,
   "metadata": {},
   "outputs": [
    {
     "name": "stderr",
     "output_type": "stream",
     "text": [
      "C:\\Users\\EshamogboOjuba\\.conda\\envs\\my_root\\lib\\site-packages\\ipykernel\\__main__.py:4: SettingWithCopyWarning: \n",
      "A value is trying to be set on a copy of a slice from a DataFrame.\n",
      "Try using .loc[row_indexer,col_indexer] = value instead\n",
      "\n",
      "See the caveats in the documentation: http://pandas.pydata.org/pandas-docs/stable/indexing.html#indexing-view-versus-copy\n"
     ]
    }
   ],
   "source": [
    "complaints.iloc[:,1::2] -=  4\n",
    "complaints_score = np.sum(complaints.iloc[:,0::2].values * complaints.iloc[:,1::2].values, axis=1)\n",
    "# multiplying the two dfs did not do element-wise multiplication\n",
    "selected_data['complaints_score'] = complaints_score"
   ]
  },
  {
   "cell_type": "code",
   "execution_count": 131,
   "metadata": {},
   "outputs": [
    {
     "name": "stderr",
     "output_type": "stream",
     "text": [
      "C:\\Users\\EshamogboOjuba\\.conda\\envs\\my_root\\lib\\site-packages\\ipykernel\\__main__.py:4: SettingWithCopyWarning: \n",
      "A value is trying to be set on a copy of a slice from a DataFrame.\n",
      "Try using .loc[row_indexer,col_indexer] = value instead\n",
      "\n",
      "See the caveats in the documentation: http://pandas.pydata.org/pandas-docs/stable/indexing.html#indexing-view-versus-copy\n"
     ]
    }
   ],
   "source": [
    "branches.iloc[:,1::2] -=  4\n",
    "branches_score = np.sum(branches.iloc[:,0::2].values * branches.iloc[:,1::2].values, axis=1)\n",
    "# multiplying the two dfs did not do element-wise multiplication\n",
    "selected_data['branches_score'] = branches_score"
   ]
  },
  {
   "cell_type": "code",
   "execution_count": 132,
   "metadata": {},
   "outputs": [
    {
     "name": "stderr",
     "output_type": "stream",
     "text": [
      "C:\\Users\\EshamogboOjuba\\.conda\\envs\\my_root\\lib\\site-packages\\ipykernel\\__main__.py:4: SettingWithCopyWarning: \n",
      "A value is trying to be set on a copy of a slice from a DataFrame.\n",
      "Try using .loc[row_indexer,col_indexer] = value instead\n",
      "\n",
      "See the caveats in the documentation: http://pandas.pydata.org/pandas-docs/stable/indexing.html#indexing-view-versus-copy\n"
     ]
    }
   ],
   "source": [
    "ATMs.iloc[:,1::2] -=  4\n",
    "ATMs_score = np.sum(ATMs.iloc[:,0::2].values * ATMs.iloc[:,1::2].values, axis=1)\n",
    "# multiplying the two dfs did not do element-wise multiplication\n",
    "selected_data['ATMs_score'] = ATMs_score"
   ]
  },
  {
   "cell_type": "code",
   "execution_count": 133,
   "metadata": {},
   "outputs": [
    {
     "name": "stderr",
     "output_type": "stream",
     "text": [
      "C:\\Users\\EshamogboOjuba\\.conda\\envs\\my_root\\lib\\site-packages\\ipykernel\\__main__.py:4: SettingWithCopyWarning: \n",
      "A value is trying to be set on a copy of a slice from a DataFrame.\n",
      "Try using .loc[row_indexer,col_indexer] = value instead\n",
      "\n",
      "See the caveats in the documentation: http://pandas.pydata.org/pandas-docs/stable/indexing.html#indexing-view-versus-copy\n"
     ]
    }
   ],
   "source": [
    "mob_banking.iloc[:,1::2] -=  4\n",
    "mob_banking_score = np.sum(mob_banking.iloc[:,0::2].values * mob_banking.iloc[:,1::2].values, axis=1)\n",
    "# multiplying the two dfs did not do element-wise multiplication\n",
    "selected_data['mob_banking_score'] = mob_banking_score"
   ]
  },
  {
   "cell_type": "code",
   "execution_count": 134,
   "metadata": {},
   "outputs": [
    {
     "name": "stderr",
     "output_type": "stream",
     "text": [
      "C:\\Users\\EshamogboOjuba\\.conda\\envs\\my_root\\lib\\site-packages\\ipykernel\\__main__.py:4: SettingWithCopyWarning: \n",
      "A value is trying to be set on a copy of a slice from a DataFrame.\n",
      "Try using .loc[row_indexer,col_indexer] = value instead\n",
      "\n",
      "See the caveats in the documentation: http://pandas.pydata.org/pandas-docs/stable/indexing.html#indexing-view-versus-copy\n"
     ]
    }
   ],
   "source": [
    "int_banking.iloc[:,1::2] -=  4\n",
    "int_banking_score = np.sum(int_banking.iloc[:,0::2].values * int_banking.iloc[:,1::2].values, axis=1)\n",
    "# multiplying the two dfs did not do element-wise multiplication\n",
    "selected_data['int_banking_score'] = int_banking_score"
   ]
  },
  {
   "cell_type": "code",
   "execution_count": 135,
   "metadata": {},
   "outputs": [
    {
     "name": "stderr",
     "output_type": "stream",
     "text": [
      "C:\\Users\\EshamogboOjuba\\.conda\\envs\\my_root\\lib\\site-packages\\ipykernel\\__main__.py:4: SettingWithCopyWarning: \n",
      "A value is trying to be set on a copy of a slice from a DataFrame.\n",
      "Try using .loc[row_indexer,col_indexer] = value instead\n",
      "\n",
      "See the caveats in the documentation: http://pandas.pydata.org/pandas-docs/stable/indexing.html#indexing-view-versus-copy\n"
     ]
    }
   ],
   "source": [
    "call_centre.iloc[:,1::2] -=  4\n",
    "call_centre_score = np.sum(call_centre.iloc[:,0::2].values * call_centre.iloc[:,1::2].values, axis=1)\n",
    "# multiplying the two dfs did not do element-wise multiplication\n",
    "selected_data['call_centre_score'] = call_centre_score"
   ]
  },
  {
   "cell_type": "code",
   "execution_count": 136,
   "metadata": {},
   "outputs": [
    {
     "name": "stderr",
     "output_type": "stream",
     "text": [
      "C:\\Users\\EshamogboOjuba\\.conda\\envs\\my_root\\lib\\site-packages\\ipykernel\\__main__.py:4: SettingWithCopyWarning: \n",
      "A value is trying to be set on a copy of a slice from a DataFrame.\n",
      "Try using .loc[row_indexer,col_indexer] = value instead\n",
      "\n",
      "See the caveats in the documentation: http://pandas.pydata.org/pandas-docs/stable/indexing.html#indexing-view-versus-copy\n"
     ]
    }
   ],
   "source": [
    "soc_media.iloc[:,1::2] -=  4\n",
    "soc_media_score = np.sum(soc_media.iloc[:,0::2].values * soc_media.iloc[:,1::2].values, axis=1)\n",
    "# multiplying the two dfs did not do element-wise multiplication\n",
    "selected_data['soc_media_score'] = soc_media_score"
   ]
  },
  {
   "cell_type": "code",
   "execution_count": 137,
   "metadata": {},
   "outputs": [
    {
     "name": "stderr",
     "output_type": "stream",
     "text": [
      "C:\\Users\\EshamogboOjuba\\.conda\\envs\\my_root\\lib\\site-packages\\ipykernel\\__main__.py:4: SettingWithCopyWarning: \n",
      "A value is trying to be set on a copy of a slice from a DataFrame.\n",
      "Try using .loc[row_indexer,col_indexer] = value instead\n",
      "\n",
      "See the caveats in the documentation: http://pandas.pydata.org/pandas-docs/stable/indexing.html#indexing-view-versus-copy\n"
     ]
    }
   ],
   "source": [
    "exec_eff.iloc[:,1::2] -=  4\n",
    "exec_eff_score = np.sum(exec_eff.iloc[:,0::2].values * exec_eff.iloc[:,1::2].values, axis=1)\n",
    "# multiplying the two dfs did not do element-wise multiplication\n",
    "selected_data['exec_eff_score'] = exec_eff_score"
   ]
  },
  {
   "cell_type": "code",
   "execution_count": 138,
   "metadata": {},
   "outputs": [
    {
     "name": "stderr",
     "output_type": "stream",
     "text": [
      "C:\\Users\\EshamogboOjuba\\.conda\\envs\\my_root\\lib\\site-packages\\ipykernel\\__main__.py:4: SettingWithCopyWarning: \n",
      "A value is trying to be set on a copy of a slice from a DataFrame.\n",
      "Try using .loc[row_indexer,col_indexer] = value instead\n",
      "\n",
      "See the caveats in the documentation: http://pandas.pydata.org/pandas-docs/stable/indexing.html#indexing-view-versus-copy\n"
     ]
    }
   ],
   "source": [
    "prod.iloc[:,1::2] -=  4\n",
    "prod_score = np.sum(prod.iloc[:,0::2].values * prod.iloc[:,1::2].values, axis=1)\n",
    "# multiplying the two dfs did not do element-wise multiplication\n",
    "selected_data['prod_score'] = prod_score"
   ]
  },
  {
   "cell_type": "code",
   "execution_count": 139,
   "metadata": {},
   "outputs": [
    {
     "name": "stderr",
     "output_type": "stream",
     "text": [
      "C:\\Users\\EshamogboOjuba\\.conda\\envs\\my_root\\lib\\site-packages\\ipykernel\\__main__.py:4: SettingWithCopyWarning: \n",
      "A value is trying to be set on a copy of a slice from a DataFrame.\n",
      "Try using .loc[row_indexer,col_indexer] = value instead\n",
      "\n",
      "See the caveats in the documentation: http://pandas.pydata.org/pandas-docs/stable/indexing.html#indexing-view-versus-copy\n"
     ]
    }
   ],
   "source": [
    "ease_credit.iloc[:,1::2] -=  4\n",
    "ease_credit_score = np.sum(ease_credit.iloc[:,0::2].values * ease_credit.iloc[:,1::2].values, axis=1)\n",
    "# multiplying the two dfs did not do element-wise multiplication\n",
    "selected_data['ease_credit_score'] = ease_credit_score"
   ]
  },
  {
   "cell_type": "code",
   "execution_count": 140,
   "metadata": {},
   "outputs": [
    {
     "name": "stderr",
     "output_type": "stream",
     "text": [
      "C:\\Users\\EshamogboOjuba\\.conda\\envs\\my_root\\lib\\site-packages\\ipykernel\\__main__.py:4: SettingWithCopyWarning: \n",
      "A value is trying to be set on a copy of a slice from a DataFrame.\n",
      "Try using .loc[row_indexer,col_indexer] = value instead\n",
      "\n",
      "See the caveats in the documentation: http://pandas.pydata.org/pandas-docs/stable/indexing.html#indexing-view-versus-copy\n"
     ]
    }
   ],
   "source": [
    "val_for_money.iloc[:,1::2] -=  4\n",
    "val_for_money_score = np.sum(val_for_money.iloc[:,0::2].values * val_for_money.iloc[:,1::2].values, axis=1)\n",
    "# multiplying the two dfs did not do element-wise multiplication\n",
    "selected_data['val_for_money_score'] = val_for_money_score"
   ]
  },
  {
   "cell_type": "code",
   "execution_count": 142,
   "metadata": {},
   "outputs": [
    {
     "data": {
      "text/html": [
       "<div>\n",
       "<table border=\"1\" class=\"dataframe\">\n",
       "  <thead>\n",
       "    <tr style=\"text-align: right;\">\n",
       "      <th></th>\n",
       "      <th>Gender</th>\n",
       "      <th>Income</th>\n",
       "      <th>No of Years</th>\n",
       "      <th>FreqBra</th>\n",
       "      <th>FreqATM</th>\n",
       "      <th>FreqPOS</th>\n",
       "      <th>FreqInt</th>\n",
       "      <th>FreqMob</th>\n",
       "      <th>FreqUSSD</th>\n",
       "      <th>FreqTel</th>\n",
       "      <th>cust_care_score</th>\n",
       "    </tr>\n",
       "  </thead>\n",
       "  <tbody>\n",
       "    <tr>\n",
       "      <th>count</th>\n",
       "      <td>40563.000000</td>\n",
       "      <td>4.130000e+04</td>\n",
       "      <td>41386.000000</td>\n",
       "      <td>39959.000000</td>\n",
       "      <td>41920.000000</td>\n",
       "      <td>38561.000000</td>\n",
       "      <td>38777.000000</td>\n",
       "      <td>39087.000000</td>\n",
       "      <td>38074.000000</td>\n",
       "      <td>37902.000000</td>\n",
       "      <td>36376.000000</td>\n",
       "    </tr>\n",
       "    <tr>\n",
       "      <th>mean</th>\n",
       "      <td>0.463674</td>\n",
       "      <td>1.041023e+05</td>\n",
       "      <td>6.113227</td>\n",
       "      <td>3.919530</td>\n",
       "      <td>8.071601</td>\n",
       "      <td>2.237222</td>\n",
       "      <td>3.031784</td>\n",
       "      <td>4.146340</td>\n",
       "      <td>3.417398</td>\n",
       "      <td>0.674872</td>\n",
       "      <td>37.379783</td>\n",
       "    </tr>\n",
       "    <tr>\n",
       "      <th>std</th>\n",
       "      <td>0.498685</td>\n",
       "      <td>1.943508e+05</td>\n",
       "      <td>4.801078</td>\n",
       "      <td>6.208846</td>\n",
       "      <td>8.936301</td>\n",
       "      <td>5.406533</td>\n",
       "      <td>7.305842</td>\n",
       "      <td>8.445696</td>\n",
       "      <td>8.012664</td>\n",
       "      <td>3.215450</td>\n",
       "      <td>34.889540</td>\n",
       "    </tr>\n",
       "    <tr>\n",
       "      <th>min</th>\n",
       "      <td>0.000000</td>\n",
       "      <td>2.500000e+04</td>\n",
       "      <td>0.000000</td>\n",
       "      <td>0.000000</td>\n",
       "      <td>0.000000</td>\n",
       "      <td>0.000000</td>\n",
       "      <td>0.000000</td>\n",
       "      <td>0.000000</td>\n",
       "      <td>0.000000</td>\n",
       "      <td>0.000000</td>\n",
       "      <td>-120.000000</td>\n",
       "    </tr>\n",
       "    <tr>\n",
       "      <th>25%</th>\n",
       "      <td>0.000000</td>\n",
       "      <td>2.500000e+04</td>\n",
       "      <td>3.000000</td>\n",
       "      <td>0.500000</td>\n",
       "      <td>2.000000</td>\n",
       "      <td>0.000000</td>\n",
       "      <td>0.000000</td>\n",
       "      <td>0.000000</td>\n",
       "      <td>0.000000</td>\n",
       "      <td>0.000000</td>\n",
       "      <td>17.000000</td>\n",
       "    </tr>\n",
       "    <tr>\n",
       "      <th>50%</th>\n",
       "      <td>0.000000</td>\n",
       "      <td>7.500000e+04</td>\n",
       "      <td>5.000000</td>\n",
       "      <td>2.000000</td>\n",
       "      <td>6.000000</td>\n",
       "      <td>0.500000</td>\n",
       "      <td>0.000000</td>\n",
       "      <td>0.500000</td>\n",
       "      <td>0.000000</td>\n",
       "      <td>0.000000</td>\n",
       "      <td>36.000000</td>\n",
       "    </tr>\n",
       "    <tr>\n",
       "      <th>75%</th>\n",
       "      <td>1.000000</td>\n",
       "      <td>7.500000e+04</td>\n",
       "      <td>8.000000</td>\n",
       "      <td>6.000000</td>\n",
       "      <td>6.000000</td>\n",
       "      <td>2.000000</td>\n",
       "      <td>2.000000</td>\n",
       "      <td>6.000000</td>\n",
       "      <td>2.000000</td>\n",
       "      <td>0.500000</td>\n",
       "      <td>59.000000</td>\n",
       "    </tr>\n",
       "    <tr>\n",
       "      <th>max</th>\n",
       "      <td>1.000000</td>\n",
       "      <td>2.000000e+06</td>\n",
       "      <td>55.000000</td>\n",
       "      <td>30.000000</td>\n",
       "      <td>30.000000</td>\n",
       "      <td>30.000000</td>\n",
       "      <td>30.000000</td>\n",
       "      <td>30.000000</td>\n",
       "      <td>30.000000</td>\n",
       "      <td>30.000000</td>\n",
       "      <td>120.000000</td>\n",
       "    </tr>\n",
       "  </tbody>\n",
       "</table>\n",
       "</div>"
      ],
      "text/plain": [
       "             Gender        Income   No of Years       FreqBra       FreqATM  \\\n",
       "count  40563.000000  4.130000e+04  41386.000000  39959.000000  41920.000000   \n",
       "mean       0.463674  1.041023e+05      6.113227      3.919530      8.071601   \n",
       "std        0.498685  1.943508e+05      4.801078      6.208846      8.936301   \n",
       "min        0.000000  2.500000e+04      0.000000      0.000000      0.000000   \n",
       "25%        0.000000  2.500000e+04      3.000000      0.500000      2.000000   \n",
       "50%        0.000000  7.500000e+04      5.000000      2.000000      6.000000   \n",
       "75%        1.000000  7.500000e+04      8.000000      6.000000      6.000000   \n",
       "max        1.000000  2.000000e+06     55.000000     30.000000     30.000000   \n",
       "\n",
       "            FreqPOS       FreqInt       FreqMob      FreqUSSD       FreqTel  \\\n",
       "count  38561.000000  38777.000000  39087.000000  38074.000000  37902.000000   \n",
       "mean       2.237222      3.031784      4.146340      3.417398      0.674872   \n",
       "std        5.406533      7.305842      8.445696      8.012664      3.215450   \n",
       "min        0.000000      0.000000      0.000000      0.000000      0.000000   \n",
       "25%        0.000000      0.000000      0.000000      0.000000      0.000000   \n",
       "50%        0.500000      0.000000      0.500000      0.000000      0.000000   \n",
       "75%        2.000000      2.000000      6.000000      2.000000      0.500000   \n",
       "max       30.000000     30.000000     30.000000     30.000000     30.000000   \n",
       "\n",
       "       cust_care_score  \n",
       "count     36376.000000  \n",
       "mean         37.379783  \n",
       "std          34.889540  \n",
       "min        -120.000000  \n",
       "25%          17.000000  \n",
       "50%          36.000000  \n",
       "75%          59.000000  \n",
       "max         120.000000  "
      ]
     },
     "execution_count": 142,
     "metadata": {},
     "output_type": "execute_result"
    }
   ],
   "source": [
    "selected_data.iloc[:,:12].describe()"
   ]
  },
  {
   "cell_type": "code",
   "execution_count": 144,
   "metadata": {},
   "outputs": [
    {
     "data": {
      "text/html": [
       "<div>\n",
       "<table border=\"1\" class=\"dataframe\">\n",
       "  <thead>\n",
       "    <tr style=\"text-align: right;\">\n",
       "      <th></th>\n",
       "      <th>complaints_score</th>\n",
       "      <th>branches_score</th>\n",
       "      <th>ATMs_score</th>\n",
       "      <th>mob_banking_score</th>\n",
       "      <th>int_banking_score</th>\n",
       "      <th>call_centre_score</th>\n",
       "      <th>soc_media_score</th>\n",
       "      <th>exec_eff_score</th>\n",
       "      <th>prod_score</th>\n",
       "      <th>ease_credit_score</th>\n",
       "      <th>val_for_money_score</th>\n",
       "    </tr>\n",
       "  </thead>\n",
       "  <tbody>\n",
       "    <tr>\n",
       "      <th>count</th>\n",
       "      <td>38715.000000</td>\n",
       "      <td>36379.000000</td>\n",
       "      <td>37488.000000</td>\n",
       "      <td>18273.000000</td>\n",
       "      <td>15255.000000</td>\n",
       "      <td>12197.000000</td>\n",
       "      <td>16054.000000</td>\n",
       "      <td>36873.000000</td>\n",
       "      <td>33922.000000</td>\n",
       "      <td>16312.000000</td>\n",
       "      <td>34050.000000</td>\n",
       "    </tr>\n",
       "    <tr>\n",
       "      <th>mean</th>\n",
       "      <td>18.487460</td>\n",
       "      <td>47.700844</td>\n",
       "      <td>41.328612</td>\n",
       "      <td>57.427078</td>\n",
       "      <td>53.598558</td>\n",
       "      <td>21.823071</td>\n",
       "      <td>14.457830</td>\n",
       "      <td>22.800586</td>\n",
       "      <td>16.738488</td>\n",
       "      <td>13.658718</td>\n",
       "      <td>8.499912</td>\n",
       "    </tr>\n",
       "    <tr>\n",
       "      <th>std</th>\n",
       "      <td>20.967451</td>\n",
       "      <td>49.480791</td>\n",
       "      <td>38.653564</td>\n",
       "      <td>53.043930</td>\n",
       "      <td>53.399985</td>\n",
       "      <td>27.993780</td>\n",
       "      <td>18.809495</td>\n",
       "      <td>20.036471</td>\n",
       "      <td>20.210425</td>\n",
       "      <td>20.573956</td>\n",
       "      <td>12.549324</td>\n",
       "    </tr>\n",
       "    <tr>\n",
       "      <th>min</th>\n",
       "      <td>-60.000000</td>\n",
       "      <td>-180.000000</td>\n",
       "      <td>-120.000000</td>\n",
       "      <td>-180.000000</td>\n",
       "      <td>-180.000000</td>\n",
       "      <td>-90.000000</td>\n",
       "      <td>-60.000000</td>\n",
       "      <td>-60.000000</td>\n",
       "      <td>-60.000000</td>\n",
       "      <td>-60.000000</td>\n",
       "      <td>-30.000000</td>\n",
       "    </tr>\n",
       "    <tr>\n",
       "      <th>25%</th>\n",
       "      <td>7.000000</td>\n",
       "      <td>18.000000</td>\n",
       "      <td>19.000000</td>\n",
       "      <td>23.000000</td>\n",
       "      <td>17.000000</td>\n",
       "      <td>0.000000</td>\n",
       "      <td>0.000000</td>\n",
       "      <td>11.000000</td>\n",
       "      <td>5.000000</td>\n",
       "      <td>0.000000</td>\n",
       "      <td>0.000000</td>\n",
       "    </tr>\n",
       "    <tr>\n",
       "      <th>50%</th>\n",
       "      <td>19.000000</td>\n",
       "      <td>46.000000</td>\n",
       "      <td>40.000000</td>\n",
       "      <td>54.000000</td>\n",
       "      <td>50.000000</td>\n",
       "      <td>20.000000</td>\n",
       "      <td>12.000000</td>\n",
       "      <td>20.000000</td>\n",
       "      <td>17.000000</td>\n",
       "      <td>12.000000</td>\n",
       "      <td>10.000000</td>\n",
       "    </tr>\n",
       "    <tr>\n",
       "      <th>75%</th>\n",
       "      <td>32.000000</td>\n",
       "      <td>78.000000</td>\n",
       "      <td>69.000000</td>\n",
       "      <td>90.000000</td>\n",
       "      <td>88.000000</td>\n",
       "      <td>39.000000</td>\n",
       "      <td>26.000000</td>\n",
       "      <td>36.000000</td>\n",
       "      <td>30.000000</td>\n",
       "      <td>27.000000</td>\n",
       "      <td>18.000000</td>\n",
       "    </tr>\n",
       "    <tr>\n",
       "      <th>max</th>\n",
       "      <td>60.000000</td>\n",
       "      <td>180.000000</td>\n",
       "      <td>120.000000</td>\n",
       "      <td>180.000000</td>\n",
       "      <td>180.000000</td>\n",
       "      <td>90.000000</td>\n",
       "      <td>60.000000</td>\n",
       "      <td>60.000000</td>\n",
       "      <td>70.000000</td>\n",
       "      <td>81.000000</td>\n",
       "      <td>30.000000</td>\n",
       "    </tr>\n",
       "  </tbody>\n",
       "</table>\n",
       "</div>"
      ],
      "text/plain": [
       "       complaints_score  branches_score    ATMs_score  mob_banking_score  \\\n",
       "count      38715.000000    36379.000000  37488.000000       18273.000000   \n",
       "mean          18.487460       47.700844     41.328612          57.427078   \n",
       "std           20.967451       49.480791     38.653564          53.043930   \n",
       "min          -60.000000     -180.000000   -120.000000        -180.000000   \n",
       "25%            7.000000       18.000000     19.000000          23.000000   \n",
       "50%           19.000000       46.000000     40.000000          54.000000   \n",
       "75%           32.000000       78.000000     69.000000          90.000000   \n",
       "max           60.000000      180.000000    120.000000         180.000000   \n",
       "\n",
       "       int_banking_score  call_centre_score  soc_media_score  exec_eff_score  \\\n",
       "count       15255.000000       12197.000000     16054.000000    36873.000000   \n",
       "mean           53.598558          21.823071        14.457830       22.800586   \n",
       "std            53.399985          27.993780        18.809495       20.036471   \n",
       "min          -180.000000         -90.000000       -60.000000      -60.000000   \n",
       "25%            17.000000           0.000000         0.000000       11.000000   \n",
       "50%            50.000000          20.000000        12.000000       20.000000   \n",
       "75%            88.000000          39.000000        26.000000       36.000000   \n",
       "max           180.000000          90.000000        60.000000       60.000000   \n",
       "\n",
       "         prod_score  ease_credit_score  val_for_money_score  \n",
       "count  33922.000000       16312.000000         34050.000000  \n",
       "mean      16.738488          13.658718             8.499912  \n",
       "std       20.210425          20.573956            12.549324  \n",
       "min      -60.000000         -60.000000           -30.000000  \n",
       "25%        5.000000           0.000000             0.000000  \n",
       "50%       17.000000          12.000000            10.000000  \n",
       "75%       30.000000          27.000000            18.000000  \n",
       "max       70.000000          81.000000            30.000000  "
      ]
     },
     "execution_count": 144,
     "metadata": {},
     "output_type": "execute_result"
    }
   ],
   "source": [
    "selected_data.iloc[:,12:].describe()"
   ]
  },
  {
   "cell_type": "code",
   "execution_count": 145,
   "metadata": {
    "collapsed": true
   },
   "outputs": [],
   "source": [
    "from sklearn.preprocessing import Imputer\n",
    "imputer = Imputer(strategy=\"median\")\n",
    "imputer.fit(selected_data)\n",
    "X = imputer.transform(selected_data)\n",
    "selected_data = pd.DataFrame(X, columns=selected_data.columns)"
   ]
  },
  {
   "cell_type": "code",
   "execution_count": 146,
   "metadata": {},
   "outputs": [
    {
     "data": {
      "text/html": [
       "<div>\n",
       "<table border=\"1\" class=\"dataframe\">\n",
       "  <thead>\n",
       "    <tr style=\"text-align: right;\">\n",
       "      <th></th>\n",
       "      <th>Age</th>\n",
       "      <th>Gender</th>\n",
       "      <th>Income</th>\n",
       "      <th>No of Years</th>\n",
       "      <th>FreqBra</th>\n",
       "      <th>FreqATM</th>\n",
       "      <th>FreqPOS</th>\n",
       "      <th>FreqInt</th>\n",
       "      <th>FreqMob</th>\n",
       "      <th>FreqUSSD</th>\n",
       "      <th>...</th>\n",
       "      <th>branches_score</th>\n",
       "      <th>ATMs_score</th>\n",
       "      <th>mob_banking_score</th>\n",
       "      <th>int_banking_score</th>\n",
       "      <th>call_centre_score</th>\n",
       "      <th>soc_media_score</th>\n",
       "      <th>exec_eff_score</th>\n",
       "      <th>prod_score</th>\n",
       "      <th>ease_credit_score</th>\n",
       "      <th>val_for_money_score</th>\n",
       "    </tr>\n",
       "  </thead>\n",
       "  <tbody>\n",
       "    <tr>\n",
       "      <th>count</th>\n",
       "      <td>42653.000000</td>\n",
       "      <td>42653.000000</td>\n",
       "      <td>4.265300e+04</td>\n",
       "      <td>42653.000000</td>\n",
       "      <td>42653.000000</td>\n",
       "      <td>42653.000000</td>\n",
       "      <td>42653.000000</td>\n",
       "      <td>42653.000000</td>\n",
       "      <td>42653.000000</td>\n",
       "      <td>42653.000000</td>\n",
       "      <td>...</td>\n",
       "      <td>42653.00000</td>\n",
       "      <td>42653.000000</td>\n",
       "      <td>42653.000000</td>\n",
       "      <td>42653.000000</td>\n",
       "      <td>42653.000000</td>\n",
       "      <td>42653.000000</td>\n",
       "      <td>42653.000000</td>\n",
       "      <td>42653.000000</td>\n",
       "      <td>42653.000000</td>\n",
       "      <td>42653.000000</td>\n",
       "    </tr>\n",
       "    <tr>\n",
       "      <th>mean</th>\n",
       "      <td>32.407181</td>\n",
       "      <td>0.440954</td>\n",
       "      <td>1.031791e+05</td>\n",
       "      <td>6.080158</td>\n",
       "      <td>3.798291</td>\n",
       "      <td>8.036000</td>\n",
       "      <td>2.070558</td>\n",
       "      <td>2.756277</td>\n",
       "      <td>3.841488</td>\n",
       "      <td>3.050524</td>\n",
       "      <td>...</td>\n",
       "      <td>47.45066</td>\n",
       "      <td>41.167726</td>\n",
       "      <td>55.468197</td>\n",
       "      <td>51.287037</td>\n",
       "      <td>20.521323</td>\n",
       "      <td>12.925093</td>\n",
       "      <td>22.421072</td>\n",
       "      <td>16.792019</td>\n",
       "      <td>12.634352</td>\n",
       "      <td>8.802476</td>\n",
       "    </tr>\n",
       "    <tr>\n",
       "      <th>std</th>\n",
       "      <td>10.717085</td>\n",
       "      <td>0.496507</td>\n",
       "      <td>1.913114e+05</td>\n",
       "      <td>4.733007</td>\n",
       "      <td>6.027678</td>\n",
       "      <td>8.863271</td>\n",
       "      <td>5.166043</td>\n",
       "      <td>7.020273</td>\n",
       "      <td>8.147687</td>\n",
       "      <td>7.643909</td>\n",
       "      <td>...</td>\n",
       "      <td>45.70083</td>\n",
       "      <td>36.240256</td>\n",
       "      <td>34.759743</td>\n",
       "      <td>31.981281</td>\n",
       "      <td>14.991918</td>\n",
       "      <td>11.600738</td>\n",
       "      <td>18.654088</td>\n",
       "      <td>18.023848</td>\n",
       "      <td>12.748479</td>\n",
       "      <td>11.228655</td>\n",
       "    </tr>\n",
       "    <tr>\n",
       "      <th>min</th>\n",
       "      <td>19.000000</td>\n",
       "      <td>0.000000</td>\n",
       "      <td>2.500000e+04</td>\n",
       "      <td>0.000000</td>\n",
       "      <td>0.000000</td>\n",
       "      <td>0.000000</td>\n",
       "      <td>0.000000</td>\n",
       "      <td>0.000000</td>\n",
       "      <td>0.000000</td>\n",
       "      <td>0.000000</td>\n",
       "      <td>...</td>\n",
       "      <td>-180.00000</td>\n",
       "      <td>-120.000000</td>\n",
       "      <td>-180.000000</td>\n",
       "      <td>-180.000000</td>\n",
       "      <td>-90.000000</td>\n",
       "      <td>-60.000000</td>\n",
       "      <td>-60.000000</td>\n",
       "      <td>-60.000000</td>\n",
       "      <td>-60.000000</td>\n",
       "      <td>-30.000000</td>\n",
       "    </tr>\n",
       "    <tr>\n",
       "      <th>25%</th>\n",
       "      <td>25.500000</td>\n",
       "      <td>0.000000</td>\n",
       "      <td>2.500000e+04</td>\n",
       "      <td>3.000000</td>\n",
       "      <td>2.000000</td>\n",
       "      <td>2.000000</td>\n",
       "      <td>0.000000</td>\n",
       "      <td>0.000000</td>\n",
       "      <td>0.000000</td>\n",
       "      <td>0.000000</td>\n",
       "      <td>...</td>\n",
       "      <td>23.00000</td>\n",
       "      <td>20.000000</td>\n",
       "      <td>54.000000</td>\n",
       "      <td>50.000000</td>\n",
       "      <td>20.000000</td>\n",
       "      <td>12.000000</td>\n",
       "      <td>14.000000</td>\n",
       "      <td>9.000000</td>\n",
       "      <td>12.000000</td>\n",
       "      <td>3.000000</td>\n",
       "    </tr>\n",
       "    <tr>\n",
       "      <th>50%</th>\n",
       "      <td>33.000000</td>\n",
       "      <td>0.000000</td>\n",
       "      <td>7.500000e+04</td>\n",
       "      <td>5.000000</td>\n",
       "      <td>2.000000</td>\n",
       "      <td>6.000000</td>\n",
       "      <td>0.500000</td>\n",
       "      <td>0.000000</td>\n",
       "      <td>0.500000</td>\n",
       "      <td>0.000000</td>\n",
       "      <td>...</td>\n",
       "      <td>46.00000</td>\n",
       "      <td>40.000000</td>\n",
       "      <td>54.000000</td>\n",
       "      <td>50.000000</td>\n",
       "      <td>20.000000</td>\n",
       "      <td>12.000000</td>\n",
       "      <td>20.000000</td>\n",
       "      <td>17.000000</td>\n",
       "      <td>12.000000</td>\n",
       "      <td>10.000000</td>\n",
       "    </tr>\n",
       "    <tr>\n",
       "      <th>75%</th>\n",
       "      <td>38.000000</td>\n",
       "      <td>1.000000</td>\n",
       "      <td>7.500000e+04</td>\n",
       "      <td>8.000000</td>\n",
       "      <td>6.000000</td>\n",
       "      <td>6.000000</td>\n",
       "      <td>2.000000</td>\n",
       "      <td>2.000000</td>\n",
       "      <td>2.000000</td>\n",
       "      <td>2.000000</td>\n",
       "      <td>...</td>\n",
       "      <td>70.00000</td>\n",
       "      <td>61.000000</td>\n",
       "      <td>54.000000</td>\n",
       "      <td>50.000000</td>\n",
       "      <td>20.000000</td>\n",
       "      <td>12.000000</td>\n",
       "      <td>32.000000</td>\n",
       "      <td>24.000000</td>\n",
       "      <td>12.000000</td>\n",
       "      <td>12.000000</td>\n",
       "    </tr>\n",
       "    <tr>\n",
       "      <th>max</th>\n",
       "      <td>65.000000</td>\n",
       "      <td>1.000000</td>\n",
       "      <td>2.000000e+06</td>\n",
       "      <td>55.000000</td>\n",
       "      <td>30.000000</td>\n",
       "      <td>30.000000</td>\n",
       "      <td>30.000000</td>\n",
       "      <td>30.000000</td>\n",
       "      <td>30.000000</td>\n",
       "      <td>30.000000</td>\n",
       "      <td>...</td>\n",
       "      <td>180.00000</td>\n",
       "      <td>120.000000</td>\n",
       "      <td>180.000000</td>\n",
       "      <td>180.000000</td>\n",
       "      <td>90.000000</td>\n",
       "      <td>60.000000</td>\n",
       "      <td>60.000000</td>\n",
       "      <td>70.000000</td>\n",
       "      <td>81.000000</td>\n",
       "      <td>30.000000</td>\n",
       "    </tr>\n",
       "  </tbody>\n",
       "</table>\n",
       "<p>8 rows × 23 columns</p>\n",
       "</div>"
      ],
      "text/plain": [
       "                Age        Gender        Income   No of Years       FreqBra  \\\n",
       "count  42653.000000  42653.000000  4.265300e+04  42653.000000  42653.000000   \n",
       "mean      32.407181      0.440954  1.031791e+05      6.080158      3.798291   \n",
       "std       10.717085      0.496507  1.913114e+05      4.733007      6.027678   \n",
       "min       19.000000      0.000000  2.500000e+04      0.000000      0.000000   \n",
       "25%       25.500000      0.000000  2.500000e+04      3.000000      2.000000   \n",
       "50%       33.000000      0.000000  7.500000e+04      5.000000      2.000000   \n",
       "75%       38.000000      1.000000  7.500000e+04      8.000000      6.000000   \n",
       "max       65.000000      1.000000  2.000000e+06     55.000000     30.000000   \n",
       "\n",
       "            FreqATM       FreqPOS       FreqInt       FreqMob      FreqUSSD  \\\n",
       "count  42653.000000  42653.000000  42653.000000  42653.000000  42653.000000   \n",
       "mean       8.036000      2.070558      2.756277      3.841488      3.050524   \n",
       "std        8.863271      5.166043      7.020273      8.147687      7.643909   \n",
       "min        0.000000      0.000000      0.000000      0.000000      0.000000   \n",
       "25%        2.000000      0.000000      0.000000      0.000000      0.000000   \n",
       "50%        6.000000      0.500000      0.000000      0.500000      0.000000   \n",
       "75%        6.000000      2.000000      2.000000      2.000000      2.000000   \n",
       "max       30.000000     30.000000     30.000000     30.000000     30.000000   \n",
       "\n",
       "              ...           branches_score    ATMs_score  mob_banking_score  \\\n",
       "count         ...              42653.00000  42653.000000       42653.000000   \n",
       "mean          ...                 47.45066     41.167726          55.468197   \n",
       "std           ...                 45.70083     36.240256          34.759743   \n",
       "min           ...               -180.00000   -120.000000        -180.000000   \n",
       "25%           ...                 23.00000     20.000000          54.000000   \n",
       "50%           ...                 46.00000     40.000000          54.000000   \n",
       "75%           ...                 70.00000     61.000000          54.000000   \n",
       "max           ...                180.00000    120.000000         180.000000   \n",
       "\n",
       "       int_banking_score  call_centre_score  soc_media_score  exec_eff_score  \\\n",
       "count       42653.000000       42653.000000     42653.000000    42653.000000   \n",
       "mean           51.287037          20.521323        12.925093       22.421072   \n",
       "std            31.981281          14.991918        11.600738       18.654088   \n",
       "min          -180.000000         -90.000000       -60.000000      -60.000000   \n",
       "25%            50.000000          20.000000        12.000000       14.000000   \n",
       "50%            50.000000          20.000000        12.000000       20.000000   \n",
       "75%            50.000000          20.000000        12.000000       32.000000   \n",
       "max           180.000000          90.000000        60.000000       60.000000   \n",
       "\n",
       "         prod_score  ease_credit_score  val_for_money_score  \n",
       "count  42653.000000       42653.000000         42653.000000  \n",
       "mean      16.792019          12.634352             8.802476  \n",
       "std       18.023848          12.748479            11.228655  \n",
       "min      -60.000000         -60.000000           -30.000000  \n",
       "25%        9.000000          12.000000             3.000000  \n",
       "50%       17.000000          12.000000            10.000000  \n",
       "75%       24.000000          12.000000            12.000000  \n",
       "max       70.000000          81.000000            30.000000  \n",
       "\n",
       "[8 rows x 23 columns]"
      ]
     },
     "execution_count": 146,
     "metadata": {},
     "output_type": "execute_result"
    }
   ],
   "source": [
    "selected_data.describe()"
   ]
  },
  {
   "cell_type": "code",
   "execution_count": 147,
   "metadata": {},
   "outputs": [
    {
     "data": {
      "text/plain": [
       "<matplotlib.text.Text at 0x207b90bf8d0>"
      ]
     },
     "execution_count": 147,
     "metadata": {},
     "output_type": "execute_result"
    },
    {
     "data": {
      "image/png": "[encoded data removed]",
      "text/plain": [
       "<matplotlib.figure.Figure at 0x207b7667160>"
      ]
     },
     "metadata": {},
     "output_type": "display_data"
    }
   ],
   "source": [
    "corr_matrix = bank_chann_usage.corr()\n",
    "\n",
    "f, ax = plt.subplots(figsize=(18, 10))\n",
    "sns.heatmap(corr_matrix,linewidths=2.0, ax=ax , annot=True)\n",
    "ax.set_title('Correlation Mtrix')"
   ]
  },
  {
   "cell_type": "markdown",
   "metadata": {},
   "source": [
    "## Clustering and PCA"
   ]
  },
  {
   "cell_type": "code",
   "execution_count": 148,
   "metadata": {
    "collapsed": true
   },
   "outputs": [],
   "source": [
    "from sklearn.preprocessing import StandardScaler\n",
    "\n",
    "std_scaler = StandardScaler()\n",
    "std_scaler.fit(selected_data)\n",
    "\n",
    "selected_data_std = std_scaler.transform(selected_data)\n",
    "selected_data_std_df = pd.DataFrame(selected_data_std, columns = selected_data.columns)"
   ]
  },
  {
   "cell_type": "code",
   "execution_count": 149,
   "metadata": {},
   "outputs": [
    {
     "data": {
      "text/plain": [
       "(array([  5601.,   6302.,      0.,   4345.,      0.,  12136.,   3071.,\n",
       "             0.,  10781.,    417.]),\n",
       " array([ 0. ,  0.6,  1.2,  1.8,  2.4,  3. ,  3.6,  4.2,  4.8,  5.4,  6. ]),\n",
       " <a list of 10 Patch objects>)"
      ]
     },
     "execution_count": 149,
     "metadata": {},
     "output_type": "execute_result"
    },
    {
     "data": {
      "image/png": "[encoded data removed]",
      "text/plain": [
       "<matplotlib.figure.Figure at 0x207afbff8d0>"
      ]
     },
     "metadata": {},
     "output_type": "display_data"
    }
   ],
   "source": [
    "from sklearn.cluster import KMeans\n",
    "\n",
    "kmeans = KMeans(n_clusters=7, random_state=0).fit(selected_data_std)\n",
    "\n",
    "import seaborn as sns\n",
    "import matplotlib.pyplot as plt\n",
    "\n",
    "plt.hist(kmeans.labels_)"
   ]
  },
  {
   "cell_type": "code",
   "execution_count": 150,
   "metadata": {},
   "outputs": [
    {
     "data": {
      "text/html": [
       "<div>\n",
       "<table border=\"1\" class=\"dataframe\">\n",
       "  <thead>\n",
       "    <tr style=\"text-align: right;\">\n",
       "      <th></th>\n",
       "      <th>Age</th>\n",
       "      <th>Gender</th>\n",
       "      <th>Income</th>\n",
       "      <th>No of Years</th>\n",
       "      <th>FreqBra</th>\n",
       "      <th>FreqATM</th>\n",
       "      <th>FreqPOS</th>\n",
       "      <th>FreqInt</th>\n",
       "      <th>FreqMob</th>\n",
       "      <th>FreqUSSD</th>\n",
       "      <th>...</th>\n",
       "      <th>branches_score</th>\n",
       "      <th>ATMs_score</th>\n",
       "      <th>mob_banking_score</th>\n",
       "      <th>int_banking_score</th>\n",
       "      <th>call_centre_score</th>\n",
       "      <th>soc_media_score</th>\n",
       "      <th>exec_eff_score</th>\n",
       "      <th>prod_score</th>\n",
       "      <th>ease_credit_score</th>\n",
       "      <th>val_for_money_score</th>\n",
       "    </tr>\n",
       "  </thead>\n",
       "  <tbody>\n",
       "    <tr>\n",
       "      <th>0</th>\n",
       "      <td>-0.019457</td>\n",
       "      <td>-0.016667</td>\n",
       "      <td>0.019949</td>\n",
       "      <td>-0.045290</td>\n",
       "      <td>0.096996</td>\n",
       "      <td>0.089393</td>\n",
       "      <td>0.092566</td>\n",
       "      <td>-0.029078</td>\n",
       "      <td>0.044013</td>\n",
       "      <td>0.059153</td>\n",
       "      <td>...</td>\n",
       "      <td>1.271418</td>\n",
       "      <td>1.145473</td>\n",
       "      <td>1.068305</td>\n",
       "      <td>1.019898</td>\n",
       "      <td>0.884268</td>\n",
       "      <td>0.965905</td>\n",
       "      <td>1.046259</td>\n",
       "      <td>1.145863</td>\n",
       "      <td>1.009385</td>\n",
       "      <td>0.961807</td>\n",
       "    </tr>\n",
       "    <tr>\n",
       "      <th>1</th>\n",
       "      <td>-0.170489</td>\n",
       "      <td>-0.004439</td>\n",
       "      <td>-0.124798</td>\n",
       "      <td>-0.135118</td>\n",
       "      <td>-0.024031</td>\n",
       "      <td>0.016214</td>\n",
       "      <td>-0.046509</td>\n",
       "      <td>-0.104406</td>\n",
       "      <td>-0.099902</td>\n",
       "      <td>-0.093051</td>\n",
       "      <td>...</td>\n",
       "      <td>-1.051103</td>\n",
       "      <td>-0.991469</td>\n",
       "      <td>-0.783812</td>\n",
       "      <td>-0.758460</td>\n",
       "      <td>-0.657533</td>\n",
       "      <td>-0.682574</td>\n",
       "      <td>-1.033413</td>\n",
       "      <td>-1.086907</td>\n",
       "      <td>-0.753693</td>\n",
       "      <td>-1.058648</td>\n",
       "    </tr>\n",
       "    <tr>\n",
       "      <th>2</th>\n",
       "      <td>1.829517</td>\n",
       "      <td>-0.151089</td>\n",
       "      <td>1.001111</td>\n",
       "      <td>1.676988</td>\n",
       "      <td>0.150093</td>\n",
       "      <td>-0.187817</td>\n",
       "      <td>-0.075673</td>\n",
       "      <td>-0.243553</td>\n",
       "      <td>-0.269122</td>\n",
       "      <td>-0.159038</td>\n",
       "      <td>...</td>\n",
       "      <td>0.030981</td>\n",
       "      <td>0.034784</td>\n",
       "      <td>-0.060514</td>\n",
       "      <td>-0.036631</td>\n",
       "      <td>0.001088</td>\n",
       "      <td>-0.033460</td>\n",
       "      <td>0.088616</td>\n",
       "      <td>0.089432</td>\n",
       "      <td>0.013860</td>\n",
       "      <td>0.146373</td>\n",
       "    </tr>\n",
       "    <tr>\n",
       "      <th>3</th>\n",
       "      <td>-0.239933</td>\n",
       "      <td>-0.888122</td>\n",
       "      <td>-0.181148</td>\n",
       "      <td>-0.250878</td>\n",
       "      <td>-0.083688</td>\n",
       "      <td>-0.093058</td>\n",
       "      <td>-0.154201</td>\n",
       "      <td>-0.271741</td>\n",
       "      <td>-0.257557</td>\n",
       "      <td>-0.108046</td>\n",
       "      <td>...</td>\n",
       "      <td>-0.002179</td>\n",
       "      <td>0.015599</td>\n",
       "      <td>-0.023442</td>\n",
       "      <td>-0.037786</td>\n",
       "      <td>-0.016176</td>\n",
       "      <td>-0.035156</td>\n",
       "      <td>0.030064</td>\n",
       "      <td>0.022250</td>\n",
       "      <td>-0.039671</td>\n",
       "      <td>0.042804</td>\n",
       "    </tr>\n",
       "    <tr>\n",
       "      <th>4</th>\n",
       "      <td>-0.100115</td>\n",
       "      <td>-0.175221</td>\n",
       "      <td>0.258654</td>\n",
       "      <td>-0.062619</td>\n",
       "      <td>0.337233</td>\n",
       "      <td>0.849136</td>\n",
       "      <td>0.907725</td>\n",
       "      <td>2.461499</td>\n",
       "      <td>2.261529</td>\n",
       "      <td>0.778146</td>\n",
       "      <td>...</td>\n",
       "      <td>-0.128276</td>\n",
       "      <td>-0.198433</td>\n",
       "      <td>-0.002837</td>\n",
       "      <td>0.071156</td>\n",
       "      <td>-0.102020</td>\n",
       "      <td>-0.022567</td>\n",
       "      <td>-0.131011</td>\n",
       "      <td>-0.111693</td>\n",
       "      <td>-0.121177</td>\n",
       "      <td>-0.168908</td>\n",
       "    </tr>\n",
       "    <tr>\n",
       "      <th>5</th>\n",
       "      <td>-0.329920</td>\n",
       "      <td>1.125971</td>\n",
       "      <td>-0.222799</td>\n",
       "      <td>-0.271121</td>\n",
       "      <td>-0.129408</td>\n",
       "      <td>-0.152094</td>\n",
       "      <td>-0.143617</td>\n",
       "      <td>-0.284938</td>\n",
       "      <td>-0.270843</td>\n",
       "      <td>-0.086499</td>\n",
       "      <td>...</td>\n",
       "      <td>-0.020915</td>\n",
       "      <td>0.010542</td>\n",
       "      <td>-0.043157</td>\n",
       "      <td>-0.047605</td>\n",
       "      <td>-0.034100</td>\n",
       "      <td>-0.049129</td>\n",
       "      <td>0.032597</td>\n",
       "      <td>0.014709</td>\n",
       "      <td>-0.016210</td>\n",
       "      <td>0.061629</td>\n",
       "    </tr>\n",
       "    <tr>\n",
       "      <th>6</th>\n",
       "      <td>0.025220</td>\n",
       "      <td>-0.105668</td>\n",
       "      <td>0.314623</td>\n",
       "      <td>-0.050884</td>\n",
       "      <td>0.794551</td>\n",
       "      <td>0.898685</td>\n",
       "      <td>1.764484</td>\n",
       "      <td>1.654232</td>\n",
       "      <td>1.566454</td>\n",
       "      <td>1.919368</td>\n",
       "      <td>...</td>\n",
       "      <td>0.036841</td>\n",
       "      <td>-0.026730</td>\n",
       "      <td>-0.051553</td>\n",
       "      <td>-0.045868</td>\n",
       "      <td>0.154459</td>\n",
       "      <td>0.152402</td>\n",
       "      <td>-0.109092</td>\n",
       "      <td>-0.099160</td>\n",
       "      <td>0.156785</td>\n",
       "      <td>-0.037723</td>\n",
       "    </tr>\n",
       "  </tbody>\n",
       "</table>\n",
       "<p>7 rows × 23 columns</p>\n",
       "</div>"
      ],
      "text/plain": [
       "        Age    Gender    Income  No of Years   FreqBra   FreqATM   FreqPOS  \\\n",
       "0 -0.019457 -0.016667  0.019949    -0.045290  0.096996  0.089393  0.092566   \n",
       "1 -0.170489 -0.004439 -0.124798    -0.135118 -0.024031  0.016214 -0.046509   \n",
       "2  1.829517 -0.151089  1.001111     1.676988  0.150093 -0.187817 -0.075673   \n",
       "3 -0.239933 -0.888122 -0.181148    -0.250878 -0.083688 -0.093058 -0.154201   \n",
       "4 -0.100115 -0.175221  0.258654    -0.062619  0.337233  0.849136  0.907725   \n",
       "5 -0.329920  1.125971 -0.222799    -0.271121 -0.129408 -0.152094 -0.143617   \n",
       "6  0.025220 -0.105668  0.314623    -0.050884  0.794551  0.898685  1.764484   \n",
       "\n",
       "    FreqInt   FreqMob  FreqUSSD         ...           branches_score  \\\n",
       "0 -0.029078  0.044013  0.059153         ...                 1.271418   \n",
       "1 -0.104406 -0.099902 -0.093051         ...                -1.051103   \n",
       "2 -0.243553 -0.269122 -0.159038         ...                 0.030981   \n",
       "3 -0.271741 -0.257557 -0.108046         ...                -0.002179   \n",
       "4  2.461499  2.261529  0.778146         ...                -0.128276   \n",
       "5 -0.284938 -0.270843 -0.086499         ...                -0.020915   \n",
       "6  1.654232  1.566454  1.919368         ...                 0.036841   \n",
       "\n",
       "   ATMs_score  mob_banking_score  int_banking_score  call_centre_score  \\\n",
       "0    1.145473           1.068305           1.019898           0.884268   \n",
       "1   -0.991469          -0.783812          -0.758460          -0.657533   \n",
       "2    0.034784          -0.060514          -0.036631           0.001088   \n",
       "3    0.015599          -0.023442          -0.037786          -0.016176   \n",
       "4   -0.198433          -0.002837           0.071156          -0.102020   \n",
       "5    0.010542          -0.043157          -0.047605          -0.034100   \n",
       "6   -0.026730          -0.051553          -0.045868           0.154459   \n",
       "\n",
       "   soc_media_score  exec_eff_score  prod_score  ease_credit_score  \\\n",
       "0         0.965905        1.046259    1.145863           1.009385   \n",
       "1        -0.682574       -1.033413   -1.086907          -0.753693   \n",
       "2        -0.033460        0.088616    0.089432           0.013860   \n",
       "3        -0.035156        0.030064    0.022250          -0.039671   \n",
       "4        -0.022567       -0.131011   -0.111693          -0.121177   \n",
       "5        -0.049129        0.032597    0.014709          -0.016210   \n",
       "6         0.152402       -0.109092   -0.099160           0.156785   \n",
       "\n",
       "   val_for_money_score  \n",
       "0             0.961807  \n",
       "1            -1.058648  \n",
       "2             0.146373  \n",
       "3             0.042804  \n",
       "4            -0.168908  \n",
       "5             0.061629  \n",
       "6            -0.037723  \n",
       "\n",
       "[7 rows x 23 columns]"
      ]
     },
     "execution_count": 150,
     "metadata": {},
     "output_type": "execute_result"
    }
   ],
   "source": [
    "cluster_df_std = pd.DataFrame(kmeans.cluster_centers_, columns=selected_data.columns)\n",
    "cluster_df_std"
   ]
  },
  {
   "cell_type": "code",
   "execution_count": 151,
   "metadata": {},
   "outputs": [
    {
     "data": {
      "text/html": [
       "<div>\n",
       "<table border=\"1\" class=\"dataframe\">\n",
       "  <thead>\n",
       "    <tr style=\"text-align: right;\">\n",
       "      <th></th>\n",
       "      <th>Age</th>\n",
       "      <th>Gender</th>\n",
       "      <th>Income</th>\n",
       "      <th>No of Years</th>\n",
       "      <th>FreqBra</th>\n",
       "      <th>FreqATM</th>\n",
       "      <th>FreqPOS</th>\n",
       "      <th>FreqInt</th>\n",
       "      <th>FreqMob</th>\n",
       "      <th>FreqUSSD</th>\n",
       "      <th>...</th>\n",
       "      <th>branches_score</th>\n",
       "      <th>ATMs_score</th>\n",
       "      <th>mob_banking_score</th>\n",
       "      <th>int_banking_score</th>\n",
       "      <th>call_centre_score</th>\n",
       "      <th>soc_media_score</th>\n",
       "      <th>exec_eff_score</th>\n",
       "      <th>prod_score</th>\n",
       "      <th>ease_credit_score</th>\n",
       "      <th>val_for_money_score</th>\n",
       "    </tr>\n",
       "  </thead>\n",
       "  <tbody>\n",
       "    <tr>\n",
       "      <th>0</th>\n",
       "      <td>32.198661</td>\n",
       "      <td>4.326786e-01</td>\n",
       "      <td>106995.535714</td>\n",
       "      <td>5.865804</td>\n",
       "      <td>4.382946</td>\n",
       "      <td>8.828304</td>\n",
       "      <td>2.548750</td>\n",
       "      <td>2.552143</td>\n",
       "      <td>4.200089</td>\n",
       "      <td>3.502679</td>\n",
       "      <td>...</td>\n",
       "      <td>105.554821</td>\n",
       "      <td>82.679464</td>\n",
       "      <td>92.601786</td>\n",
       "      <td>83.904286</td>\n",
       "      <td>33.778036</td>\n",
       "      <td>24.130179</td>\n",
       "      <td>41.937857</td>\n",
       "      <td>37.444643</td>\n",
       "      <td>25.502321</td>\n",
       "      <td>19.602143</td>\n",
       "    </tr>\n",
       "    <tr>\n",
       "      <th>1</th>\n",
       "      <td>30.580054</td>\n",
       "      <td>4.387496e-01</td>\n",
       "      <td>79304.189146</td>\n",
       "      <td>5.440654</td>\n",
       "      <td>3.653443</td>\n",
       "      <td>8.179705</td>\n",
       "      <td>1.830292</td>\n",
       "      <td>2.023326</td>\n",
       "      <td>3.027531</td>\n",
       "      <td>2.339257</td>\n",
       "      <td>...</td>\n",
       "      <td>-0.585052</td>\n",
       "      <td>5.237068</td>\n",
       "      <td>28.223421</td>\n",
       "      <td>27.030784</td>\n",
       "      <td>10.663758</td>\n",
       "      <td>5.006823</td>\n",
       "      <td>3.143923</td>\n",
       "      <td>-2.798001</td>\n",
       "      <td>3.026023</td>\n",
       "      <td>-3.084576</td>\n",
       "    </tr>\n",
       "    <tr>\n",
       "      <th>2</th>\n",
       "      <td>52.014039</td>\n",
       "      <td>3.659379e-01</td>\n",
       "      <td>294700.805524</td>\n",
       "      <td>14.017261</td>\n",
       "      <td>4.702992</td>\n",
       "      <td>6.371346</td>\n",
       "      <td>1.679632</td>\n",
       "      <td>1.046490</td>\n",
       "      <td>1.648792</td>\n",
       "      <td>1.834868</td>\n",
       "      <td>...</td>\n",
       "      <td>48.866513</td>\n",
       "      <td>42.428308</td>\n",
       "      <td>53.364787</td>\n",
       "      <td>50.115535</td>\n",
       "      <td>20.537629</td>\n",
       "      <td>12.536939</td>\n",
       "      <td>24.074108</td>\n",
       "      <td>18.403913</td>\n",
       "      <td>12.811047</td>\n",
       "      <td>10.446030</td>\n",
       "    </tr>\n",
       "    <tr>\n",
       "      <th>3</th>\n",
       "      <td>29.835833</td>\n",
       "      <td>8.421042e-14</td>\n",
       "      <td>68523.935075</td>\n",
       "      <td>4.892766</td>\n",
       "      <td>3.293854</td>\n",
       "      <td>7.211214</td>\n",
       "      <td>1.273956</td>\n",
       "      <td>0.848603</td>\n",
       "      <td>1.743017</td>\n",
       "      <td>2.224644</td>\n",
       "      <td>...</td>\n",
       "      <td>47.351075</td>\n",
       "      <td>41.733048</td>\n",
       "      <td>54.653374</td>\n",
       "      <td>50.078603</td>\n",
       "      <td>20.278817</td>\n",
       "      <td>12.517261</td>\n",
       "      <td>22.981874</td>\n",
       "      <td>17.193046</td>\n",
       "      <td>12.128615</td>\n",
       "      <td>9.283101</td>\n",
       "    </tr>\n",
       "    <tr>\n",
       "      <th>4</th>\n",
       "      <td>31.334256</td>\n",
       "      <td>3.539564e-01</td>\n",
       "      <td>152661.999349</td>\n",
       "      <td>5.783784</td>\n",
       "      <td>5.831000</td>\n",
       "      <td>15.562032</td>\n",
       "      <td>6.759850</td>\n",
       "      <td>20.036470</td>\n",
       "      <td>22.267502</td>\n",
       "      <td>8.998535</td>\n",
       "      <td>...</td>\n",
       "      <td>41.588408</td>\n",
       "      <td>33.976555</td>\n",
       "      <td>55.369586</td>\n",
       "      <td>53.562683</td>\n",
       "      <td>18.991859</td>\n",
       "      <td>12.663302</td>\n",
       "      <td>19.977206</td>\n",
       "      <td>14.778899</td>\n",
       "      <td>11.089547</td>\n",
       "      <td>6.905894</td>\n",
       "    </tr>\n",
       "    <tr>\n",
       "      <th>5</th>\n",
       "      <td>28.871440</td>\n",
       "      <td>1.000000e+00</td>\n",
       "      <td>60555.607087</td>\n",
       "      <td>4.796958</td>\n",
       "      <td>3.018273</td>\n",
       "      <td>6.687970</td>\n",
       "      <td>1.328634</td>\n",
       "      <td>0.755960</td>\n",
       "      <td>1.634774</td>\n",
       "      <td>2.389342</td>\n",
       "      <td>...</td>\n",
       "      <td>46.494852</td>\n",
       "      <td>41.549763</td>\n",
       "      <td>53.968092</td>\n",
       "      <td>49.764586</td>\n",
       "      <td>20.010110</td>\n",
       "      <td>12.355162</td>\n",
       "      <td>23.029125</td>\n",
       "      <td>17.057138</td>\n",
       "      <td>12.427697</td>\n",
       "      <td>9.494481</td>\n",
       "    </tr>\n",
       "    <tr>\n",
       "      <th>6</th>\n",
       "      <td>32.677458</td>\n",
       "      <td>3.884892e-01</td>\n",
       "      <td>163369.304556</td>\n",
       "      <td>5.839329</td>\n",
       "      <td>8.587530</td>\n",
       "      <td>16.001199</td>\n",
       "      <td>11.185851</td>\n",
       "      <td>14.369305</td>\n",
       "      <td>16.604317</td>\n",
       "      <td>17.721823</td>\n",
       "      <td>...</td>\n",
       "      <td>49.134293</td>\n",
       "      <td>40.199041</td>\n",
       "      <td>53.676259</td>\n",
       "      <td>49.820144</td>\n",
       "      <td>22.836930</td>\n",
       "      <td>14.693046</td>\n",
       "      <td>20.386091</td>\n",
       "      <td>15.004796</td>\n",
       "      <td>14.633094</td>\n",
       "      <td>8.378897</td>\n",
       "    </tr>\n",
       "  </tbody>\n",
       "</table>\n",
       "<p>7 rows × 23 columns</p>\n",
       "</div>"
      ],
      "text/plain": [
       "         Age        Gender         Income  No of Years   FreqBra    FreqATM  \\\n",
       "0  32.198661  4.326786e-01  106995.535714     5.865804  4.382946   8.828304   \n",
       "1  30.580054  4.387496e-01   79304.189146     5.440654  3.653443   8.179705   \n",
       "2  52.014039  3.659379e-01  294700.805524    14.017261  4.702992   6.371346   \n",
       "3  29.835833  8.421042e-14   68523.935075     4.892766  3.293854   7.211214   \n",
       "4  31.334256  3.539564e-01  152661.999349     5.783784  5.831000  15.562032   \n",
       "5  28.871440  1.000000e+00   60555.607087     4.796958  3.018273   6.687970   \n",
       "6  32.677458  3.884892e-01  163369.304556     5.839329  8.587530  16.001199   \n",
       "\n",
       "     FreqPOS    FreqInt    FreqMob   FreqUSSD         ...           \\\n",
       "0   2.548750   2.552143   4.200089   3.502679         ...            \n",
       "1   1.830292   2.023326   3.027531   2.339257         ...            \n",
       "2   1.679632   1.046490   1.648792   1.834868         ...            \n",
       "3   1.273956   0.848603   1.743017   2.224644         ...            \n",
       "4   6.759850  20.036470  22.267502   8.998535         ...            \n",
       "5   1.328634   0.755960   1.634774   2.389342         ...            \n",
       "6  11.185851  14.369305  16.604317  17.721823         ...            \n",
       "\n",
       "   branches_score  ATMs_score  mob_banking_score  int_banking_score  \\\n",
       "0      105.554821   82.679464          92.601786          83.904286   \n",
       "1       -0.585052    5.237068          28.223421          27.030784   \n",
       "2       48.866513   42.428308          53.364787          50.115535   \n",
       "3       47.351075   41.733048          54.653374          50.078603   \n",
       "4       41.588408   33.976555          55.369586          53.562683   \n",
       "5       46.494852   41.549763          53.968092          49.764586   \n",
       "6       49.134293   40.199041          53.676259          49.820144   \n",
       "\n",
       "   call_centre_score  soc_media_score  exec_eff_score  prod_score  \\\n",
       "0          33.778036        24.130179       41.937857   37.444643   \n",
       "1          10.663758         5.006823        3.143923   -2.798001   \n",
       "2          20.537629        12.536939       24.074108   18.403913   \n",
       "3          20.278817        12.517261       22.981874   17.193046   \n",
       "4          18.991859        12.663302       19.977206   14.778899   \n",
       "5          20.010110        12.355162       23.029125   17.057138   \n",
       "6          22.836930        14.693046       20.386091   15.004796   \n",
       "\n",
       "   ease_credit_score  val_for_money_score  \n",
       "0          25.502321            19.602143  \n",
       "1           3.026023            -3.084576  \n",
       "2          12.811047            10.446030  \n",
       "3          12.128615             9.283101  \n",
       "4          11.089547             6.905894  \n",
       "5          12.427697             9.494481  \n",
       "6          14.633094             8.378897  \n",
       "\n",
       "[7 rows x 23 columns]"
      ]
     },
     "execution_count": 151,
     "metadata": {},
     "output_type": "execute_result"
    }
   ],
   "source": [
    "cluster_df = pd.DataFrame(std_scaler.inverse_transform(kmeans.cluster_centers_), columns=selected_data.columns)\n",
    "cluster_df"
   ]
  },
  {
   "cell_type": "code",
   "execution_count": 152,
   "metadata": {},
   "outputs": [
    {
     "data": {
      "text/html": [
       "<div>\n",
       "<table border=\"1\" class=\"dataframe\">\n",
       "  <thead>\n",
       "    <tr style=\"text-align: right;\">\n",
       "      <th></th>\n",
       "      <th>Age</th>\n",
       "      <th>Gender</th>\n",
       "      <th>Income</th>\n",
       "      <th>No of Years</th>\n",
       "      <th>FreqBra</th>\n",
       "      <th>FreqATM</th>\n",
       "      <th>FreqPOS</th>\n",
       "      <th>FreqInt</th>\n",
       "      <th>FreqMob</th>\n",
       "      <th>FreqUSSD</th>\n",
       "      <th>...</th>\n",
       "      <th>branches_score</th>\n",
       "      <th>ATMs_score</th>\n",
       "      <th>mob_banking_score</th>\n",
       "      <th>int_banking_score</th>\n",
       "      <th>call_centre_score</th>\n",
       "      <th>soc_media_score</th>\n",
       "      <th>exec_eff_score</th>\n",
       "      <th>prod_score</th>\n",
       "      <th>ease_credit_score</th>\n",
       "      <th>val_for_money_score</th>\n",
       "    </tr>\n",
       "  </thead>\n",
       "  <tbody>\n",
       "    <tr>\n",
       "      <th>0</th>\n",
       "      <td>-0.041514</td>\n",
       "      <td>0.005392</td>\n",
       "      <td>-0.034641</td>\n",
       "      <td>-0.026634</td>\n",
       "      <td>-0.018544</td>\n",
       "      <td>-0.006819</td>\n",
       "      <td>-0.022874</td>\n",
       "      <td>-0.006948</td>\n",
       "      <td>-0.017918</td>\n",
       "      <td>-0.023188</td>\n",
       "      <td>...</td>\n",
       "      <td>-0.325727</td>\n",
       "      <td>-0.301976</td>\n",
       "      <td>-0.280920</td>\n",
       "      <td>-0.271614</td>\n",
       "      <td>-0.238383</td>\n",
       "      <td>-0.248547</td>\n",
       "      <td>-0.296488</td>\n",
       "      <td>-0.314272</td>\n",
       "      <td>-0.258320</td>\n",
       "      <td>-0.278924</td>\n",
       "    </tr>\n",
       "    <tr>\n",
       "      <th>1</th>\n",
       "      <td>0.032578</td>\n",
       "      <td>-0.088832</td>\n",
       "      <td>0.196073</td>\n",
       "      <td>0.029998</td>\n",
       "      <td>0.211655</td>\n",
       "      <td>0.331203</td>\n",
       "      <td>0.379625</td>\n",
       "      <td>0.462958</td>\n",
       "      <td>0.463036</td>\n",
       "      <td>0.317535</td>\n",
       "      <td>...</td>\n",
       "      <td>-0.027150</td>\n",
       "      <td>-0.040065</td>\n",
       "      <td>0.034302</td>\n",
       "      <td>0.041402</td>\n",
       "      <td>0.040301</td>\n",
       "      <td>0.054030</td>\n",
       "      <td>-0.055390</td>\n",
       "      <td>-0.051629</td>\n",
       "      <td>-0.012322</td>\n",
       "      <td>-0.073289</td>\n",
       "    </tr>\n",
       "    <tr>\n",
       "      <th>2</th>\n",
       "      <td>0.642641</td>\n",
       "      <td>-0.137134</td>\n",
       "      <td>0.404094</td>\n",
       "      <td>0.594661</td>\n",
       "      <td>0.098456</td>\n",
       "      <td>-0.058647</td>\n",
       "      <td>-0.011375</td>\n",
       "      <td>-0.072804</td>\n",
       "      <td>-0.103319</td>\n",
       "      <td>-0.090112</td>\n",
       "      <td>...</td>\n",
       "      <td>-0.021500</td>\n",
       "      <td>-0.023530</td>\n",
       "      <td>-0.065704</td>\n",
       "      <td>-0.058429</td>\n",
       "      <td>-0.021364</td>\n",
       "      <td>-0.039476</td>\n",
       "      <td>-0.004835</td>\n",
       "      <td>-0.003994</td>\n",
       "      <td>-0.021848</td>\n",
       "      <td>0.005084</td>\n",
       "    </tr>\n",
       "    <tr>\n",
       "      <th>3</th>\n",
       "      <td>-0.049864</td>\n",
       "      <td>0.047360</td>\n",
       "      <td>0.028376</td>\n",
       "      <td>-0.100091</td>\n",
       "      <td>0.178970</td>\n",
       "      <td>0.158783</td>\n",
       "      <td>0.096736</td>\n",
       "      <td>-0.019217</td>\n",
       "      <td>-0.056332</td>\n",
       "      <td>0.008594</td>\n",
       "      <td>...</td>\n",
       "      <td>0.144289</td>\n",
       "      <td>0.104398</td>\n",
       "      <td>-0.444598</td>\n",
       "      <td>-0.489170</td>\n",
       "      <td>-0.316422</td>\n",
       "      <td>-0.301894</td>\n",
       "      <td>0.220861</td>\n",
       "      <td>0.251875</td>\n",
       "      <td>0.046050</td>\n",
       "      <td>0.296122</td>\n",
       "    </tr>\n",
       "    <tr>\n",
       "      <th>4</th>\n",
       "      <td>-0.067109</td>\n",
       "      <td>-0.345709</td>\n",
       "      <td>0.037826</td>\n",
       "      <td>-0.145881</td>\n",
       "      <td>0.405483</td>\n",
       "      <td>0.365114</td>\n",
       "      <td>0.007926</td>\n",
       "      <td>-0.107673</td>\n",
       "      <td>-0.151617</td>\n",
       "      <td>-0.218282</td>\n",
       "      <td>...</td>\n",
       "      <td>0.186859</td>\n",
       "      <td>0.202552</td>\n",
       "      <td>0.149480</td>\n",
       "      <td>0.125723</td>\n",
       "      <td>-0.106388</td>\n",
       "      <td>-0.131291</td>\n",
       "      <td>-0.134919</td>\n",
       "      <td>-0.188725</td>\n",
       "      <td>-0.323015</td>\n",
       "      <td>-0.242020</td>\n",
       "    </tr>\n",
       "  </tbody>\n",
       "</table>\n",
       "<p>5 rows × 23 columns</p>\n",
       "</div>"
      ],
      "text/plain": [
       "        Age    Gender    Income  No of Years   FreqBra   FreqATM   FreqPOS  \\\n",
       "0 -0.041514  0.005392 -0.034641    -0.026634 -0.018544 -0.006819 -0.022874   \n",
       "1  0.032578 -0.088832  0.196073     0.029998  0.211655  0.331203  0.379625   \n",
       "2  0.642641 -0.137134  0.404094     0.594661  0.098456 -0.058647 -0.011375   \n",
       "3 -0.049864  0.047360  0.028376    -0.100091  0.178970  0.158783  0.096736   \n",
       "4 -0.067109 -0.345709  0.037826    -0.145881  0.405483  0.365114  0.007926   \n",
       "\n",
       "    FreqInt   FreqMob  FreqUSSD         ...           branches_score  \\\n",
       "0 -0.006948 -0.017918 -0.023188         ...                -0.325727   \n",
       "1  0.462958  0.463036  0.317535         ...                -0.027150   \n",
       "2 -0.072804 -0.103319 -0.090112         ...                -0.021500   \n",
       "3 -0.019217 -0.056332  0.008594         ...                 0.144289   \n",
       "4 -0.107673 -0.151617 -0.218282         ...                 0.186859   \n",
       "\n",
       "   ATMs_score  mob_banking_score  int_banking_score  call_centre_score  \\\n",
       "0   -0.301976          -0.280920          -0.271614          -0.238383   \n",
       "1   -0.040065           0.034302           0.041402           0.040301   \n",
       "2   -0.023530          -0.065704          -0.058429          -0.021364   \n",
       "3    0.104398          -0.444598          -0.489170          -0.316422   \n",
       "4    0.202552           0.149480           0.125723          -0.106388   \n",
       "\n",
       "   soc_media_score  exec_eff_score  prod_score  ease_credit_score  \\\n",
       "0        -0.248547       -0.296488   -0.314272          -0.258320   \n",
       "1         0.054030       -0.055390   -0.051629          -0.012322   \n",
       "2        -0.039476       -0.004835   -0.003994          -0.021848   \n",
       "3        -0.301894        0.220861    0.251875           0.046050   \n",
       "4        -0.131291       -0.134919   -0.188725          -0.323015   \n",
       "\n",
       "   val_for_money_score  \n",
       "0            -0.278924  \n",
       "1            -0.073289  \n",
       "2             0.005084  \n",
       "3             0.296122  \n",
       "4            -0.242020  \n",
       "\n",
       "[5 rows x 23 columns]"
      ]
     },
     "execution_count": 152,
     "metadata": {},
     "output_type": "execute_result"
    }
   ],
   "source": [
    "from sklearn.decomposition import PCA\n",
    "pca = PCA(n_components=11)\n",
    "pca.fit(selected_data_std)\n",
    "pca.components_\n",
    "X = pd.DataFrame(pca.components_, columns = selected_data.columns)\n",
    "X.head()"
   ]
  },
  {
   "cell_type": "code",
   "execution_count": 153,
   "metadata": {},
   "outputs": [
    {
     "data": {
      "text/plain": [
       "array([ 0.2154806 ,  0.09725285,  0.07545103,  0.05162445,  0.0466027 ,\n",
       "        0.04595785,  0.04246887,  0.0402036 ,  0.0373673 ,  0.03597965,\n",
       "        0.03521353])"
      ]
     },
     "execution_count": 153,
     "metadata": {},
     "output_type": "execute_result"
    }
   ],
   "source": [
    "pca.explained_variance_ratio_"
   ]
  },
  {
   "cell_type": "code",
   "execution_count": 154,
   "metadata": {},
   "outputs": [
    {
     "data": {
      "text/html": [
       "<div>\n",
       "<table border=\"1\" class=\"dataframe\">\n",
       "  <thead>\n",
       "    <tr style=\"text-align: right;\">\n",
       "      <th></th>\n",
       "      <th>pca1</th>\n",
       "      <th>pca2</th>\n",
       "      <th>pca3</th>\n",
       "      <th>pca4</th>\n",
       "      <th>pca5</th>\n",
       "      <th>pca6</th>\n",
       "      <th>pca7</th>\n",
       "      <th>pca8</th>\n",
       "      <th>pca9</th>\n",
       "      <th>pca10</th>\n",
       "      <th>pca11</th>\n",
       "    </tr>\n",
       "  </thead>\n",
       "  <tbody>\n",
       "    <tr>\n",
       "      <th>0</th>\n",
       "      <td>0.685452</td>\n",
       "      <td>-0.934512</td>\n",
       "      <td>0.982842</td>\n",
       "      <td>-0.613727</td>\n",
       "      <td>-0.337742</td>\n",
       "      <td>0.127264</td>\n",
       "      <td>-0.832581</td>\n",
       "      <td>0.388927</td>\n",
       "      <td>-0.175900</td>\n",
       "      <td>0.020366</td>\n",
       "      <td>-0.448181</td>\n",
       "    </tr>\n",
       "    <tr>\n",
       "      <th>1</th>\n",
       "      <td>0.137457</td>\n",
       "      <td>-1.039384</td>\n",
       "      <td>0.209881</td>\n",
       "      <td>-0.214288</td>\n",
       "      <td>0.063710</td>\n",
       "      <td>0.263108</td>\n",
       "      <td>-0.866954</td>\n",
       "      <td>0.435311</td>\n",
       "      <td>-0.224620</td>\n",
       "      <td>0.153892</td>\n",
       "      <td>-0.052165</td>\n",
       "    </tr>\n",
       "    <tr>\n",
       "      <th>2</th>\n",
       "      <td>-0.416968</td>\n",
       "      <td>0.095574</td>\n",
       "      <td>-0.744596</td>\n",
       "      <td>0.241983</td>\n",
       "      <td>-0.661742</td>\n",
       "      <td>1.030644</td>\n",
       "      <td>-0.671261</td>\n",
       "      <td>2.130306</td>\n",
       "      <td>1.257122</td>\n",
       "      <td>-1.019028</td>\n",
       "      <td>1.404983</td>\n",
       "    </tr>\n",
       "    <tr>\n",
       "      <th>3</th>\n",
       "      <td>1.901729</td>\n",
       "      <td>0.380967</td>\n",
       "      <td>-0.332108</td>\n",
       "      <td>-1.039078</td>\n",
       "      <td>-1.408181</td>\n",
       "      <td>0.091953</td>\n",
       "      <td>-0.827371</td>\n",
       "      <td>2.096093</td>\n",
       "      <td>1.591234</td>\n",
       "      <td>-1.006660</td>\n",
       "      <td>1.243568</td>\n",
       "    </tr>\n",
       "    <tr>\n",
       "      <th>4</th>\n",
       "      <td>3.463338</td>\n",
       "      <td>-0.687081</td>\n",
       "      <td>-0.214154</td>\n",
       "      <td>0.483685</td>\n",
       "      <td>0.268343</td>\n",
       "      <td>-0.100400</td>\n",
       "      <td>-0.757544</td>\n",
       "      <td>0.598487</td>\n",
       "      <td>-0.944446</td>\n",
       "      <td>-0.475255</td>\n",
       "      <td>0.014457</td>\n",
       "    </tr>\n",
       "  </tbody>\n",
       "</table>\n",
       "</div>"
      ],
      "text/plain": [
       "       pca1      pca2      pca3      pca4      pca5      pca6      pca7  \\\n",
       "0  0.685452 -0.934512  0.982842 -0.613727 -0.337742  0.127264 -0.832581   \n",
       "1  0.137457 -1.039384  0.209881 -0.214288  0.063710  0.263108 -0.866954   \n",
       "2 -0.416968  0.095574 -0.744596  0.241983 -0.661742  1.030644 -0.671261   \n",
       "3  1.901729  0.380967 -0.332108 -1.039078 -1.408181  0.091953 -0.827371   \n",
       "4  3.463338 -0.687081 -0.214154  0.483685  0.268343 -0.100400 -0.757544   \n",
       "\n",
       "       pca8      pca9     pca10     pca11  \n",
       "0  0.388927 -0.175900  0.020366 -0.448181  \n",
       "1  0.435311 -0.224620  0.153892 -0.052165  \n",
       "2  2.130306  1.257122 -1.019028  1.404983  \n",
       "3  2.096093  1.591234 -1.006660  1.243568  \n",
       "4  0.598487 -0.944446 -0.475255  0.014457  "
      ]
     },
     "execution_count": 154,
     "metadata": {},
     "output_type": "execute_result"
    }
   ],
   "source": [
    "selected_data_std_pca = pca.transform(selected_data_std)\n",
    "selected_data_std_pca = pd.DataFrame(selected_data_std_pca, columns = ['pca1', 'pca2', 'pca3', 'pca4', 'pca5', 'pca6', 'pca7', 'pca8', 'pca9', 'pca10', 'pca11'])\n",
    "selected_data_std_pca.head()"
   ]
  },
  {
   "cell_type": "code",
   "execution_count": 155,
   "metadata": {},
   "outputs": [
    {
     "data": {
      "text/plain": [
       "<matplotlib.collections.PathCollection at 0x207b78450b8>"
      ]
     },
     "execution_count": 155,
     "metadata": {},
     "output_type": "execute_result"
    },
    {
     "data": {
      "image/png": "[encoded data removed]",
      "text/plain": [
       "<matplotlib.figure.Figure at 0x207b09220b8>"
      ]
     },
     "metadata": {},
     "output_type": "display_data"
    }
   ],
   "source": [
    "plt.scatter(selected_data_std_pca['pca1'], selected_data_std_pca['pca2'], c=kmeans.labels_, cmap='Paired', alpha=0.8)\n",
    "#plt.legend(['1', '2', '3', '4', '5', '6'])"
   ]
  },
  {
   "cell_type": "markdown",
   "metadata": {},
   "source": [
    "PCA not really working for separating the clusters"
   ]
  },
  {
   "cell_type": "code",
   "execution_count": 156,
   "metadata": {},
   "outputs": [
    {
     "name": "stderr",
     "output_type": "stream",
     "text": [
      "C:\\Users\\EshamogboOjuba\\.conda\\envs\\my_root\\lib\\site-packages\\matplotlib\\collections.py:865: RuntimeWarning: invalid value encountered in sqrt\n",
      "  scale = np.sqrt(self._sizes) * dpi / 72.0 * self._factor\n"
     ]
    },
    {
     "data": {
      "text/plain": [
       "<mpl_toolkits.mplot3d.art3d.Path3DCollection at 0x207a9bd6828>"
      ]
     },
     "execution_count": 156,
     "metadata": {},
     "output_type": "execute_result"
    },
    {
     "data": {
      "image/png": "[encoded data removed]",
      "text/plain": [
       "<matplotlib.figure.Figure at 0x207b7845cf8>"
      ]
     },
     "metadata": {},
     "output_type": "display_data"
    }
   ],
   "source": [
    "import matplotlib.pyplot as plt\n",
    "from mpl_toolkits.mplot3d import Axes3D\n",
    "\n",
    "\n",
    "fig = plt.figure()\n",
    "ax = fig.add_subplot(111, projection='3d')\n",
    "plt.scatter(selected_data_std_pca['pca1'], selected_data_std_pca['pca2'], selected_data_std_pca['pca3'], c=kmeans.labels_, cmap='Paired')"
   ]
  },
  {
   "cell_type": "markdown",
   "metadata": {},
   "source": [
    "## t-SNE"
   ]
  },
  {
   "cell_type": "code",
   "execution_count": 72,
   "metadata": {
    "collapsed": true
   },
   "outputs": [],
   "source": [
    "np.random.seed(9)\n",
    "selected_data_std_rd = np.random.permutation(selected_data_std)"
   ]
  },
  {
   "cell_type": "code",
   "execution_count": 73,
   "metadata": {},
   "outputs": [
    {
     "data": {
      "text/plain": [
       "99.65059614181519"
      ]
     },
     "execution_count": 73,
     "metadata": {},
     "output_type": "execute_result"
    }
   ],
   "source": [
    "import time\n",
    "from sklearn.manifold import TSNE\n",
    "\n",
    "time_start = time.time()\n",
    "tsne = TSNE(n_components=2, n_iter=300)\n",
    "tsne_result = tsne.fit_transform(selected_data_std_rd[:5000])\n",
    "\n",
    "time_elapsed = time.time() - time_start\n",
    "time_elapsed\n"
   ]
  },
  {
   "cell_type": "code",
   "execution_count": 74,
   "metadata": {},
   "outputs": [
    {
     "data": {
      "text/plain": [
       "(5000, 2)"
      ]
     },
     "execution_count": 74,
     "metadata": {},
     "output_type": "execute_result"
    }
   ],
   "source": [
    "tsne_result.shape"
   ]
  },
  {
   "cell_type": "code",
   "execution_count": 75,
   "metadata": {},
   "outputs": [
    {
     "data": {
      "text/plain": [
       "<matplotlib.collections.PathCollection at 0x207b8ee3908>"
      ]
     },
     "execution_count": 75,
     "metadata": {},
     "output_type": "execute_result"
    },
    {
     "data": {
      "image/png": "[encoded data removed]",
      "text/plain": [
       "<matplotlib.figure.Figure at 0x207afdf8b00>"
      ]
     },
     "metadata": {},
     "output_type": "display_data"
    }
   ],
   "source": [
    "plt.scatter(tsne_result[:,0], tsne_result[:,1], c=kmeans.labels_[:5000], cmap='Paired')"
   ]
  },
  {
   "cell_type": "code",
   "execution_count": null,
   "metadata": {
    "collapsed": true
   },
   "outputs": [],
   "source": []
  }
 ],
 "metadata": {
  "kernelspec": {
   "display_name": "Python [conda env:my_root]",
   "language": "python",
   "name": "conda-env-my_root-py"
  },
  "language_info": {
   "codemirror_mode": {
    "name": "ipython",
    "version": 3
   },
   "file_extension": ".py",
   "mimetype": "text/x-python",
   "name": "python",
   "nbconvert_exporter": "python",
   "pygments_lexer": "ipython3",
   "version": "3.6.0"
  }
 },
 "nbformat": 4,
 "nbformat_minor": 2
}
