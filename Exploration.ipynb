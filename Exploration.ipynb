{
 "cells": [
  {
   "cell_type": "markdown",
   "metadata": {},
   "source": [
    "# First run\n",
    "\n",
    "In this first run we will select some variables based on my intuition:\n"
   ]
  },
  {
   "cell_type": "markdown",
   "metadata": {},
   "source": [
    "### Exploration"
   ]
  },
  {
   "cell_type": "code",
   "execution_count": 212,
   "metadata": {},
   "outputs": [
    {
     "data": {
      "text/plain": [
       "\"import os\\nos.getcwd()\\nos.chdir('C:/Anacond')\\n\""
      ]
     },
     "execution_count": 212,
     "metadata": {},
     "output_type": "execute_result"
    }
   ],
   "source": [
    "'''import os\n",
    "os.getcwd()\n",
    "os.chdir('C:/Anacond')\n",
    "'''"
   ]
  },
  {
   "cell_type": "code",
   "execution_count": 213,
   "metadata": {},
   "outputs": [
    {
     "data": {
      "text/plain": [
       "(42653, 152)"
      ]
     },
     "execution_count": 213,
     "metadata": {},
     "output_type": "execute_result"
    }
   ],
   "source": [
    "%matplotlib inline\n",
    "\n",
    "import pandas as pd\n",
    "import numpy as np\n",
    "np.set_printoptions(suppress=True)\n",
    "import seaborn as sns\n",
    "import matplotlib.pyplot as plt\n",
    "\n",
    "sns.set()\n",
    "sns.set_style('whitegrid')\n",
    "\n",
    "data = pd.read_csv('Data Science Bootcamp Data_2.0.csv')\n",
    "data = data.rename(columns=lambda x: x.strip())   \n",
    "data.shape"
   ]
  },
  {
   "cell_type": "code",
   "execution_count": 214,
   "metadata": {},
   "outputs": [
    {
     "name": "stdout",
     "output_type": "stream",
     "text": [
      "<class 'pandas.core.frame.DataFrame'>\n",
      "RangeIndex: 42653 entries, 0 to 42652\n",
      "Columns: 152 entries, Quest No to ChangeReasons\n",
      "dtypes: float64(89), object(63)\n",
      "memory usage: 49.5+ MB\n"
     ]
    }
   ],
   "source": [
    "data.info()"
   ]
  },
  {
   "cell_type": "code",
   "execution_count": 215,
   "metadata": {},
   "outputs": [
    {
     "name": "stdout",
     "output_type": "stream",
     "text": [
      "25.5    16503\n",
      "33.0     9277\n",
      "38.0     5734\n",
      "50.5     5010\n",
      "19.0     4471\n",
      "65.0     1398\n",
      "Name: Age, dtype: int64\n",
      "<class 'pandas.core.frame.DataFrame'>\n",
      "RangeIndex: 42653 entries, 0 to 42652\n",
      "Data columns (total 1 columns):\n",
      "Age    42393 non-null object\n",
      "dtypes: object(1)\n",
      "memory usage: 333.3+ KB\n"
     ]
    }
   ],
   "source": [
    "recoded_Age = {'Age': {'21-30':25.5, '31-35':33, '36-40':38, '41-60':50.5, 'Above 60':65, 'No Response': None}}\n",
    "data.replace(recoded_Age, inplace=True)\n",
    "data.loc[data['Age'] == '18-20', 'Age'] = 19\n",
    "\n",
    "print(data.Age.value_counts())\n",
    "data[['Age']].info()"
   ]
  },
  {
   "cell_type": "code",
   "execution_count": 216,
   "metadata": {
    "collapsed": true
   },
   "outputs": [],
   "source": [
    "recoded_Gender = {'Gender': {'Male':0, 'Female':1, 'No Response':None}}\n",
    "data.replace(recoded_Gender, inplace=True)"
   ]
  },
  {
   "cell_type": "code",
   "execution_count": 217,
   "metadata": {},
   "outputs": [
    {
     "data": {
      "text/plain": [
       "25000.0      19042\n",
       "75000.0      13415\n",
       "175000.0      5995\n",
       "375000.0      1881\n",
       "750000.0       697\n",
       "2000000.0      270\n",
       "Name: Income, dtype: int64"
      ]
     },
     "execution_count": 217,
     "metadata": {},
     "output_type": "execute_result"
    }
   ],
   "source": [
    "recoded_Income = {'Income': {'N50,000 - N100,000':75000, 'Below N50,000':25000, 'N101,000 - N250,000':175000,\n",
    "                             'N251,000 - N500,000':375000, 'N501,000 - N1 Million':750000, 'No Response': None, 'Greater than N1 million':2000000}}\n",
    "data.replace(recoded_Income, inplace=True)\n",
    "data.Income.value_counts()"
   ]
  },
  {
   "cell_type": "code",
   "execution_count": 218,
   "metadata": {
    "collapsed": true
   },
   "outputs": [],
   "source": [
    "recoded_FreqBra = {'FreqBra': {'Never':0, 'Rarely':0.5, 'Monthly':2, 'At least once a week':6, \n",
    "                               'At Least once a day':30, 'No Response': None}}\n",
    "data.replace(recoded_FreqBra, inplace=True)\n",
    "\n",
    "recoded_FreqATM = {'FreqATM': {'Never':0, 'Rarely':0.5, 'Monthly':2, 'At least once a week':6, \n",
    "                               'At Least once a day':30, 'No Response': None}}\n",
    "data.replace(recoded_FreqATM, inplace=True)\n",
    "\n",
    "recoded_FreqPOS = {'FreqPOS': {'Never':0, 'Rarely':0.5, 'Monthly':2, 'At least once a week':6, \n",
    "                               'At Least once a day':30, 'No Response': None}}\n",
    "data.replace(recoded_FreqPOS, inplace=True)\n",
    "\n",
    "recoded_FreqInt = {'FreqInt': {'Never':0, 'Rarely':0.5, 'Monthly':2, 'At least once a week':6, \n",
    "                               'At Least once a day':30, 'No Response': None}}\n",
    "data.replace(recoded_FreqInt, inplace=True)\n",
    "\n",
    "recoded_FreqMob = {'FreqMob': {'Never':0, 'Rarely':0.5, 'Monthly':2, 'At least once a week':6, \n",
    "                               'At Least once a day':30, 'No Response': None}}\n",
    "data.replace(recoded_FreqMob, inplace=True)\n",
    "\n",
    "recoded_FreqUSSD = {'FreqUSSD': {'Never':0, 'Rarely':0.5, 'Monthly':2, 'At least once a week':6, \n",
    "                               'At Least once a day':30, 'No Response': None}}\n",
    "data.replace(recoded_FreqUSSD, inplace=True)\n",
    "\n",
    "recoded_FreqTel = {'FreqTel': {'Never':0, 'Rarely':0.5, 'Monthly':2, 'At least once a week':6, \n",
    "                               'At Least once a day':30, 'No Response': None}}\n",
    "data.replace(recoded_FreqTel, inplace=True)"
   ]
  },
  {
   "cell_type": "markdown",
   "metadata": {},
   "source": [
    "We will skip Bank from variables in the clustering analysis. When the analysis is done, we will see the banks that each cluster belongs to\n",
    "\n",
    "We will also skip Devices used in mobile banking in this first run"
   ]
  },
  {
   "cell_type": "code",
   "execution_count": 219,
   "metadata": {
    "collapsed": true
   },
   "outputs": [],
   "source": [
    "selected_data = data[['Age', 'Gender', 'Income', 'No of Years', 'FreqBra', 'FreqATM', 'FreqPOS', 'FreqInt', \n",
    "                      'FreqMob', 'FreqUSSD', 'FreqTel']]"
   ]
  },
  {
   "cell_type": "code",
   "execution_count": 220,
   "metadata": {
    "collapsed": true
   },
   "outputs": [],
   "source": [
    "demographic = data.iloc[:,:10]\n",
    "banking_rel_reasons = data.iloc[:,10:16]\n",
    "bank_chann_usage = data.iloc[:,16:23]\n",
    "most_freq_ATM = data.iloc[:,23:24]\n",
    "reas_for_freq_ATM = data.iloc[:,24:28]\n",
    "dev_used_onl_banking = data.iloc[:,28:32]\n",
    "bank_activ_engaged = data.iloc[:,32:41]\n",
    "bank_activ_will_like = data.iloc[:,41:50]\n",
    "\n",
    "# Customer Experience\n",
    "cust_care = data.iloc[:,50:58]\n",
    "complaints = data.iloc[:,58:62]\n",
    "branches = data.iloc[:,62:74]\n",
    "ATMs = data.iloc[:,74:82]\n",
    "mob_banking = data.iloc[:,82:94]\n",
    "int_banking = data.iloc[:,94:106]\n",
    "call_centre = data.iloc[:,106:112]\n",
    "soc_media = data.iloc[:,112:116]\n",
    "cards = data.iloc[:,116:124]\n",
    "exec_eff = data.iloc[:,124:128]\n",
    "prod = data.iloc[:,128:132]\n",
    "ease_credit = data.iloc[:, 132:136]\n",
    "val_for_money = data.iloc[:,136:138]\n",
    "\n",
    "# Payments\n",
    "pay_settl_wit_cash = data.iloc[:,138:141]\n",
    "pay_settl_wo_cash = data.iloc[:,141:144]\n",
    "pay_will_like_cashless = data.iloc[:,144:147]\n",
    "\n",
    "#Loyalty\n",
    "bank_recommendation = data.iloc[:,147:148]\n",
    "bank_switch_plan = data.iloc[:,148:149]\n",
    "from_bank = data.iloc[:,149:150]\n",
    "to_bank = data.iloc[:,150:151]\n",
    "reason_for_switch = data.iloc[:,151:152]"
   ]
  },
  {
   "cell_type": "code",
   "execution_count": 221,
   "metadata": {},
   "outputs": [
    {
     "data": {
      "text/plain": [
       "Int64Index([    2,     3,     5,    12,    15,    16,    18,    19,    32,\n",
       "               33,\n",
       "            ...\n",
       "            42599, 42600, 42601, 42611, 42612, 42613, 42614, 42615, 42617,\n",
       "            42618],\n",
       "           dtype='int64', length=6849)"
      ]
     },
     "execution_count": 221,
     "metadata": {},
     "output_type": "execute_result"
    }
   ],
   "source": [
    "null_rows = reas_for_freq_ATM.index[reas_for_freq_ATM.isnull().all(1)]\n",
    "null_rows"
   ]
  },
  {
   "cell_type": "markdown",
   "metadata": {},
   "source": [
    "Decision to discard this reasons for freq ATM due to judgement of analyst"
   ]
  },
  {
   "cell_type": "code",
   "execution_count": 222,
   "metadata": {},
   "outputs": [
    {
     "data": {
      "text/plain": [
       "Int64Index([    0,     1,     2,     3,     5,    12,    18,    19,    28,\n",
       "               32,\n",
       "            ...\n",
       "            42618, 42630, 42635, 42636, 42637, 42638, 42644, 42645, 42646,\n",
       "            42647],\n",
       "           dtype='int64', length=20914)"
      ]
     },
     "execution_count": 222,
     "metadata": {},
     "output_type": "execute_result"
    }
   ],
   "source": [
    "null_rows = dev_used_onl_banking.index[dev_used_onl_banking.isnull().all(1)]\n",
    "null_rows"
   ]
  },
  {
   "cell_type": "code",
   "execution_count": 223,
   "metadata": {},
   "outputs": [
    {
     "data": {
      "text/plain": [
       "count    42653.000000\n",
       "mean         0.517431\n",
       "std          0.517496\n",
       "min          0.000000\n",
       "25%          0.000000\n",
       "50%          1.000000\n",
       "75%          1.000000\n",
       "max          4.000000\n",
       "dtype: float64"
      ]
     },
     "execution_count": 223,
     "metadata": {},
     "output_type": "execute_result"
    }
   ],
   "source": [
    "dev_used_onl_banking.describe()\n",
    "dev_per_person = np.sum(dev_used_onl_banking =='Yes', axis=1)\n",
    "dev_per_person.describe()"
   ]
  },
  {
   "cell_type": "code",
   "execution_count": 224,
   "metadata": {},
   "outputs": [
    {
     "data": {
      "text/plain": [
       "(array([ 20914.,      0.,  21454.,      0.,      0.,    248.,      0.,\n",
       "            28.,      0.,      9.]),\n",
       " array([ 0. ,  0.4,  0.8,  1.2,  1.6,  2. ,  2.4,  2.8,  3.2,  3.6,  4. ]),\n",
       " <a list of 10 Patch objects>)"
      ]
     },
     "execution_count": 224,
     "metadata": {},
     "output_type": "execute_result"
    },
    {
     "data": {
      "image/png": "[encoded data removed]",
      "text/plain": [
       "<matplotlib.figure.Figure at 0x207b9abc860>"
      ]
     },
     "metadata": {},
     "output_type": "display_data"
    }
   ],
   "source": [
    "plt.hist(dev_per_person)"
   ]
  },
  {
   "cell_type": "markdown",
   "metadata": {},
   "source": [
    "There are a lot of nulls for devices used in online banking, but it is a safe assumption that blanks mean that no device is used for online banking given the poor distribution of literacy in Nigeria\n",
    "\n",
    "bank_activ_engaged will be ignored for now. Each of the columns represent an activity and the value in each role is the primary channel used to execute such activity. Initial idea was to get some count of the channel usage and use that rather than the activity itself, but this is already mostly covered by bank_chann_usage. It might be interesting to see which activities are carried out be each cluster. \n",
    "\n",
    "bank_activ_will_like too will be ignored for now. It might be interesting still to see the activites the various clusters will like"
   ]
  },
  {
   "cell_type": "markdown",
   "metadata": {},
   "source": [
    "#### Customer  Experience (Customer Care, Complaints, Branches, etc)"
   ]
  },
  {
   "cell_type": "markdown",
   "metadata": {},
   "source": [
    "We will shift the data (all ratings by -4 so that neutral is zero)\n",
    "\n",
    "We will multiply the importance by the rating for each criteron and get a single score for each subsection"
   ]
  },
  {
   "cell_type": "code",
   "execution_count": 225,
   "metadata": {},
   "outputs": [
    {
     "data": {
      "text/plain": [
       "Index(['impcc1a', 'cc1a', 'impcc1b', 'cc1b', 'impcc2', 'cc2', 'impcc3', 'cc3'], dtype='object')"
      ]
     },
     "execution_count": 225,
     "metadata": {},
     "output_type": "execute_result"
    }
   ],
   "source": [
    "cust_care.columns"
   ]
  },
  {
   "cell_type": "code",
   "execution_count": 226,
   "metadata": {},
   "outputs": [
    {
     "name": "stderr",
     "output_type": "stream",
     "text": [
      "C:\\Users\\EshamogboOjuba\\.conda\\envs\\my_root\\lib\\site-packages\\ipykernel\\__main__.py:4: SettingWithCopyWarning: \n",
      "A value is trying to be set on a copy of a slice from a DataFrame.\n",
      "Try using .loc[row_indexer,col_indexer] = value instead\n",
      "\n",
      "See the caveats in the documentation: http://pandas.pydata.org/pandas-docs/stable/indexing.html#indexing-view-versus-copy\n"
     ]
    }
   ],
   "source": [
    "cust_care.iloc[:,1::2] -=  4\n",
    "cust_care_score = np.sum(cust_care.iloc[:,0::2].values * cust_care.iloc[:,1::2].values, axis=1)\n",
    "# multiplying the two dfs did not do element-wise multiplication\n",
    "selected_data['cust_care_score'] = cust_care_score"
   ]
  },
  {
   "cell_type": "code",
   "execution_count": 227,
   "metadata": {},
   "outputs": [
    {
     "name": "stderr",
     "output_type": "stream",
     "text": [
      "C:\\Users\\EshamogboOjuba\\.conda\\envs\\my_root\\lib\\site-packages\\ipykernel\\__main__.py:4: SettingWithCopyWarning: \n",
      "A value is trying to be set on a copy of a slice from a DataFrame.\n",
      "Try using .loc[row_indexer,col_indexer] = value instead\n",
      "\n",
      "See the caveats in the documentation: http://pandas.pydata.org/pandas-docs/stable/indexing.html#indexing-view-versus-copy\n"
     ]
    }
   ],
   "source": [
    "complaints.iloc[:,1::2] -=  4\n",
    "complaints_score = np.sum(complaints.iloc[:,0::2].values * complaints.iloc[:,1::2].values, axis=1)\n",
    "# multiplying the two dfs did not do element-wise multiplication\n",
    "selected_data['complaints_score'] = complaints_score"
   ]
  },
  {
   "cell_type": "code",
   "execution_count": 228,
   "metadata": {},
   "outputs": [
    {
     "name": "stderr",
     "output_type": "stream",
     "text": [
      "C:\\Users\\EshamogboOjuba\\.conda\\envs\\my_root\\lib\\site-packages\\ipykernel\\__main__.py:4: SettingWithCopyWarning: \n",
      "A value is trying to be set on a copy of a slice from a DataFrame.\n",
      "Try using .loc[row_indexer,col_indexer] = value instead\n",
      "\n",
      "See the caveats in the documentation: http://pandas.pydata.org/pandas-docs/stable/indexing.html#indexing-view-versus-copy\n"
     ]
    }
   ],
   "source": [
    "branches.iloc[:,1::2] -=  4\n",
    "branches_score = np.sum(branches.iloc[:,0::2].values * branches.iloc[:,1::2].values, axis=1)\n",
    "# multiplying the two dfs did not do element-wise multiplication\n",
    "selected_data['branches_score'] = branches_score"
   ]
  },
  {
   "cell_type": "code",
   "execution_count": 229,
   "metadata": {},
   "outputs": [
    {
     "name": "stderr",
     "output_type": "stream",
     "text": [
      "C:\\Users\\EshamogboOjuba\\.conda\\envs\\my_root\\lib\\site-packages\\ipykernel\\__main__.py:4: SettingWithCopyWarning: \n",
      "A value is trying to be set on a copy of a slice from a DataFrame.\n",
      "Try using .loc[row_indexer,col_indexer] = value instead\n",
      "\n",
      "See the caveats in the documentation: http://pandas.pydata.org/pandas-docs/stable/indexing.html#indexing-view-versus-copy\n"
     ]
    }
   ],
   "source": [
    "ATMs.iloc[:,1::2] -=  4\n",
    "ATMs_score = np.sum(ATMs.iloc[:,0::2].values * ATMs.iloc[:,1::2].values, axis=1)\n",
    "# multiplying the two dfs did not do element-wise multiplication\n",
    "selected_data['ATMs_score'] = ATMs_score"
   ]
  },
  {
   "cell_type": "code",
   "execution_count": 230,
   "metadata": {},
   "outputs": [
    {
     "name": "stderr",
     "output_type": "stream",
     "text": [
      "C:\\Users\\EshamogboOjuba\\.conda\\envs\\my_root\\lib\\site-packages\\ipykernel\\__main__.py:4: SettingWithCopyWarning: \n",
      "A value is trying to be set on a copy of a slice from a DataFrame.\n",
      "Try using .loc[row_indexer,col_indexer] = value instead\n",
      "\n",
      "See the caveats in the documentation: http://pandas.pydata.org/pandas-docs/stable/indexing.html#indexing-view-versus-copy\n"
     ]
    }
   ],
   "source": [
    "mob_banking.iloc[:,1::2] -=  4\n",
    "mob_banking_score = np.sum(mob_banking.iloc[:,0::2].values * mob_banking.iloc[:,1::2].values, axis=1)\n",
    "# multiplying the two dfs did not do element-wise multiplication\n",
    "selected_data['mob_banking_score'] = mob_banking_score"
   ]
  },
  {
   "cell_type": "code",
   "execution_count": 231,
   "metadata": {},
   "outputs": [
    {
     "name": "stderr",
     "output_type": "stream",
     "text": [
      "C:\\Users\\EshamogboOjuba\\.conda\\envs\\my_root\\lib\\site-packages\\ipykernel\\__main__.py:4: SettingWithCopyWarning: \n",
      "A value is trying to be set on a copy of a slice from a DataFrame.\n",
      "Try using .loc[row_indexer,col_indexer] = value instead\n",
      "\n",
      "See the caveats in the documentation: http://pandas.pydata.org/pandas-docs/stable/indexing.html#indexing-view-versus-copy\n"
     ]
    }
   ],
   "source": [
    "int_banking.iloc[:,1::2] -=  4\n",
    "int_banking_score = np.sum(int_banking.iloc[:,0::2].values * int_banking.iloc[:,1::2].values, axis=1)\n",
    "# multiplying the two dfs did not do element-wise multiplication\n",
    "selected_data['int_banking_score'] = int_banking_score"
   ]
  },
  {
   "cell_type": "code",
   "execution_count": 232,
   "metadata": {},
   "outputs": [
    {
     "name": "stderr",
     "output_type": "stream",
     "text": [
      "C:\\Users\\EshamogboOjuba\\.conda\\envs\\my_root\\lib\\site-packages\\ipykernel\\__main__.py:4: SettingWithCopyWarning: \n",
      "A value is trying to be set on a copy of a slice from a DataFrame.\n",
      "Try using .loc[row_indexer,col_indexer] = value instead\n",
      "\n",
      "See the caveats in the documentation: http://pandas.pydata.org/pandas-docs/stable/indexing.html#indexing-view-versus-copy\n"
     ]
    }
   ],
   "source": [
    "call_centre.iloc[:,1::2] -=  4\n",
    "call_centre_score = np.sum(call_centre.iloc[:,0::2].values * call_centre.iloc[:,1::2].values, axis=1)\n",
    "# multiplying the two dfs did not do element-wise multiplication\n",
    "selected_data['call_centre_score'] = call_centre_score"
   ]
  },
  {
   "cell_type": "code",
   "execution_count": 233,
   "metadata": {},
   "outputs": [
    {
     "name": "stderr",
     "output_type": "stream",
     "text": [
      "C:\\Users\\EshamogboOjuba\\.conda\\envs\\my_root\\lib\\site-packages\\ipykernel\\__main__.py:4: SettingWithCopyWarning: \n",
      "A value is trying to be set on a copy of a slice from a DataFrame.\n",
      "Try using .loc[row_indexer,col_indexer] = value instead\n",
      "\n",
      "See the caveats in the documentation: http://pandas.pydata.org/pandas-docs/stable/indexing.html#indexing-view-versus-copy\n"
     ]
    }
   ],
   "source": [
    "soc_media.iloc[:,1::2] -=  4\n",
    "soc_media_score = np.sum(soc_media.iloc[:,0::2].values * soc_media.iloc[:,1::2].values, axis=1)\n",
    "# multiplying the two dfs did not do element-wise multiplication\n",
    "selected_data['soc_media_score'] = soc_media_score"
   ]
  },
  {
   "cell_type": "code",
   "execution_count": 234,
   "metadata": {},
   "outputs": [
    {
     "name": "stderr",
     "output_type": "stream",
     "text": [
      "C:\\Users\\EshamogboOjuba\\.conda\\envs\\my_root\\lib\\site-packages\\ipykernel\\__main__.py:4: SettingWithCopyWarning: \n",
      "A value is trying to be set on a copy of a slice from a DataFrame.\n",
      "Try using .loc[row_indexer,col_indexer] = value instead\n",
      "\n",
      "See the caveats in the documentation: http://pandas.pydata.org/pandas-docs/stable/indexing.html#indexing-view-versus-copy\n"
     ]
    }
   ],
   "source": [
    "exec_eff.iloc[:,1::2] -=  4\n",
    "exec_eff_score = np.sum(exec_eff.iloc[:,0::2].values * exec_eff.iloc[:,1::2].values, axis=1)\n",
    "# multiplying the two dfs did not do element-wise multiplication\n",
    "selected_data['exec_eff_score'] = exec_eff_score"
   ]
  },
  {
   "cell_type": "code",
   "execution_count": 235,
   "metadata": {},
   "outputs": [
    {
     "name": "stderr",
     "output_type": "stream",
     "text": [
      "C:\\Users\\EshamogboOjuba\\.conda\\envs\\my_root\\lib\\site-packages\\ipykernel\\__main__.py:4: SettingWithCopyWarning: \n",
      "A value is trying to be set on a copy of a slice from a DataFrame.\n",
      "Try using .loc[row_indexer,col_indexer] = value instead\n",
      "\n",
      "See the caveats in the documentation: http://pandas.pydata.org/pandas-docs/stable/indexing.html#indexing-view-versus-copy\n"
     ]
    }
   ],
   "source": [
    "prod.iloc[:,1::2] -=  4\n",
    "prod_score = np.sum(prod.iloc[:,0::2].values * prod.iloc[:,1::2].values, axis=1)\n",
    "# multiplying the two dfs did not do element-wise multiplication\n",
    "selected_data['prod_score'] = prod_score"
   ]
  },
  {
   "cell_type": "code",
   "execution_count": 236,
   "metadata": {},
   "outputs": [
    {
     "name": "stderr",
     "output_type": "stream",
     "text": [
      "C:\\Users\\EshamogboOjuba\\.conda\\envs\\my_root\\lib\\site-packages\\ipykernel\\__main__.py:4: SettingWithCopyWarning: \n",
      "A value is trying to be set on a copy of a slice from a DataFrame.\n",
      "Try using .loc[row_indexer,col_indexer] = value instead\n",
      "\n",
      "See the caveats in the documentation: http://pandas.pydata.org/pandas-docs/stable/indexing.html#indexing-view-versus-copy\n"
     ]
    }
   ],
   "source": [
    "ease_credit.iloc[:,1::2] -=  4\n",
    "ease_credit_score = np.sum(ease_credit.iloc[:,0::2].values * ease_credit.iloc[:,1::2].values, axis=1)\n",
    "# multiplying the two dfs did not do element-wise multiplication\n",
    "selected_data['ease_credit_score'] = ease_credit_score"
   ]
  },
  {
   "cell_type": "code",
   "execution_count": 237,
   "metadata": {},
   "outputs": [
    {
     "name": "stderr",
     "output_type": "stream",
     "text": [
      "C:\\Users\\EshamogboOjuba\\.conda\\envs\\my_root\\lib\\site-packages\\ipykernel\\__main__.py:4: SettingWithCopyWarning: \n",
      "A value is trying to be set on a copy of a slice from a DataFrame.\n",
      "Try using .loc[row_indexer,col_indexer] = value instead\n",
      "\n",
      "See the caveats in the documentation: http://pandas.pydata.org/pandas-docs/stable/indexing.html#indexing-view-versus-copy\n"
     ]
    }
   ],
   "source": [
    "val_for_money.iloc[:,1::2] -=  4\n",
    "val_for_money_score = np.sum(val_for_money.iloc[:,0::2].values * val_for_money.iloc[:,1::2].values, axis=1)\n",
    "# multiplying the two dfs did not do element-wise multiplication\n",
    "selected_data['val_for_money_score'] = val_for_money_score"
   ]
  },
  {
   "cell_type": "code",
   "execution_count": 238,
   "metadata": {},
   "outputs": [
    {
     "data": {
      "text/html": [
       "<div>\n",
       "<table border=\"1\" class=\"dataframe\">\n",
       "  <thead>\n",
       "    <tr style=\"text-align: right;\">\n",
       "      <th></th>\n",
       "      <th>Gender</th>\n",
       "      <th>Income</th>\n",
       "      <th>No of Years</th>\n",
       "      <th>FreqBra</th>\n",
       "      <th>FreqATM</th>\n",
       "      <th>FreqPOS</th>\n",
       "      <th>FreqInt</th>\n",
       "      <th>FreqMob</th>\n",
       "      <th>FreqUSSD</th>\n",
       "      <th>FreqTel</th>\n",
       "      <th>cust_care_score</th>\n",
       "    </tr>\n",
       "  </thead>\n",
       "  <tbody>\n",
       "    <tr>\n",
       "      <th>count</th>\n",
       "      <td>40563.000000</td>\n",
       "      <td>4.130000e+04</td>\n",
       "      <td>41386.000000</td>\n",
       "      <td>39959.000000</td>\n",
       "      <td>41920.000000</td>\n",
       "      <td>38561.000000</td>\n",
       "      <td>38777.000000</td>\n",
       "      <td>39087.000000</td>\n",
       "      <td>38074.000000</td>\n",
       "      <td>37902.000000</td>\n",
       "      <td>36376.000000</td>\n",
       "    </tr>\n",
       "    <tr>\n",
       "      <th>mean</th>\n",
       "      <td>0.463674</td>\n",
       "      <td>1.041023e+05</td>\n",
       "      <td>6.113227</td>\n",
       "      <td>3.919530</td>\n",
       "      <td>8.071601</td>\n",
       "      <td>2.237222</td>\n",
       "      <td>3.031784</td>\n",
       "      <td>4.146340</td>\n",
       "      <td>3.417398</td>\n",
       "      <td>0.674872</td>\n",
       "      <td>37.379783</td>\n",
       "    </tr>\n",
       "    <tr>\n",
       "      <th>std</th>\n",
       "      <td>0.498685</td>\n",
       "      <td>1.943508e+05</td>\n",
       "      <td>4.801078</td>\n",
       "      <td>6.208846</td>\n",
       "      <td>8.936301</td>\n",
       "      <td>5.406533</td>\n",
       "      <td>7.305842</td>\n",
       "      <td>8.445696</td>\n",
       "      <td>8.012664</td>\n",
       "      <td>3.215450</td>\n",
       "      <td>34.889540</td>\n",
       "    </tr>\n",
       "    <tr>\n",
       "      <th>min</th>\n",
       "      <td>0.000000</td>\n",
       "      <td>2.500000e+04</td>\n",
       "      <td>0.000000</td>\n",
       "      <td>0.000000</td>\n",
       "      <td>0.000000</td>\n",
       "      <td>0.000000</td>\n",
       "      <td>0.000000</td>\n",
       "      <td>0.000000</td>\n",
       "      <td>0.000000</td>\n",
       "      <td>0.000000</td>\n",
       "      <td>-120.000000</td>\n",
       "    </tr>\n",
       "    <tr>\n",
       "      <th>25%</th>\n",
       "      <td>0.000000</td>\n",
       "      <td>2.500000e+04</td>\n",
       "      <td>3.000000</td>\n",
       "      <td>0.500000</td>\n",
       "      <td>2.000000</td>\n",
       "      <td>0.000000</td>\n",
       "      <td>0.000000</td>\n",
       "      <td>0.000000</td>\n",
       "      <td>0.000000</td>\n",
       "      <td>0.000000</td>\n",
       "      <td>17.000000</td>\n",
       "    </tr>\n",
       "    <tr>\n",
       "      <th>50%</th>\n",
       "      <td>0.000000</td>\n",
       "      <td>7.500000e+04</td>\n",
       "      <td>5.000000</td>\n",
       "      <td>2.000000</td>\n",
       "      <td>6.000000</td>\n",
       "      <td>0.500000</td>\n",
       "      <td>0.000000</td>\n",
       "      <td>0.500000</td>\n",
       "      <td>0.000000</td>\n",
       "      <td>0.000000</td>\n",
       "      <td>36.000000</td>\n",
       "    </tr>\n",
       "    <tr>\n",
       "      <th>75%</th>\n",
       "      <td>1.000000</td>\n",
       "      <td>7.500000e+04</td>\n",
       "      <td>8.000000</td>\n",
       "      <td>6.000000</td>\n",
       "      <td>6.000000</td>\n",
       "      <td>2.000000</td>\n",
       "      <td>2.000000</td>\n",
       "      <td>6.000000</td>\n",
       "      <td>2.000000</td>\n",
       "      <td>0.500000</td>\n",
       "      <td>59.000000</td>\n",
       "    </tr>\n",
       "    <tr>\n",
       "      <th>max</th>\n",
       "      <td>1.000000</td>\n",
       "      <td>2.000000e+06</td>\n",
       "      <td>55.000000</td>\n",
       "      <td>30.000000</td>\n",
       "      <td>30.000000</td>\n",
       "      <td>30.000000</td>\n",
       "      <td>30.000000</td>\n",
       "      <td>30.000000</td>\n",
       "      <td>30.000000</td>\n",
       "      <td>30.000000</td>\n",
       "      <td>120.000000</td>\n",
       "    </tr>\n",
       "  </tbody>\n",
       "</table>\n",
       "</div>"
      ],
      "text/plain": [
       "             Gender        Income   No of Years       FreqBra       FreqATM  \\\n",
       "count  40563.000000  4.130000e+04  41386.000000  39959.000000  41920.000000   \n",
       "mean       0.463674  1.041023e+05      6.113227      3.919530      8.071601   \n",
       "std        0.498685  1.943508e+05      4.801078      6.208846      8.936301   \n",
       "min        0.000000  2.500000e+04      0.000000      0.000000      0.000000   \n",
       "25%        0.000000  2.500000e+04      3.000000      0.500000      2.000000   \n",
       "50%        0.000000  7.500000e+04      5.000000      2.000000      6.000000   \n",
       "75%        1.000000  7.500000e+04      8.000000      6.000000      6.000000   \n",
       "max        1.000000  2.000000e+06     55.000000     30.000000     30.000000   \n",
       "\n",
       "            FreqPOS       FreqInt       FreqMob      FreqUSSD       FreqTel  \\\n",
       "count  38561.000000  38777.000000  39087.000000  38074.000000  37902.000000   \n",
       "mean       2.237222      3.031784      4.146340      3.417398      0.674872   \n",
       "std        5.406533      7.305842      8.445696      8.012664      3.215450   \n",
       "min        0.000000      0.000000      0.000000      0.000000      0.000000   \n",
       "25%        0.000000      0.000000      0.000000      0.000000      0.000000   \n",
       "50%        0.500000      0.000000      0.500000      0.000000      0.000000   \n",
       "75%        2.000000      2.000000      6.000000      2.000000      0.500000   \n",
       "max       30.000000     30.000000     30.000000     30.000000     30.000000   \n",
       "\n",
       "       cust_care_score  \n",
       "count     36376.000000  \n",
       "mean         37.379783  \n",
       "std          34.889540  \n",
       "min        -120.000000  \n",
       "25%          17.000000  \n",
       "50%          36.000000  \n",
       "75%          59.000000  \n",
       "max         120.000000  "
      ]
     },
     "execution_count": 238,
     "metadata": {},
     "output_type": "execute_result"
    }
   ],
   "source": [
    "selected_data.iloc[:,:12].describe()"
   ]
  },
  {
   "cell_type": "code",
   "execution_count": 239,
   "metadata": {
    "scrolled": true
   },
   "outputs": [
    {
     "data": {
      "text/html": [
       "<div>\n",
       "<table border=\"1\" class=\"dataframe\">\n",
       "  <thead>\n",
       "    <tr style=\"text-align: right;\">\n",
       "      <th></th>\n",
       "      <th>complaints_score</th>\n",
       "      <th>branches_score</th>\n",
       "      <th>ATMs_score</th>\n",
       "      <th>mob_banking_score</th>\n",
       "      <th>int_banking_score</th>\n",
       "      <th>call_centre_score</th>\n",
       "      <th>soc_media_score</th>\n",
       "      <th>exec_eff_score</th>\n",
       "      <th>prod_score</th>\n",
       "      <th>ease_credit_score</th>\n",
       "      <th>val_for_money_score</th>\n",
       "    </tr>\n",
       "  </thead>\n",
       "  <tbody>\n",
       "    <tr>\n",
       "      <th>count</th>\n",
       "      <td>38715.000000</td>\n",
       "      <td>36379.000000</td>\n",
       "      <td>37488.000000</td>\n",
       "      <td>18273.000000</td>\n",
       "      <td>15255.000000</td>\n",
       "      <td>12197.000000</td>\n",
       "      <td>16054.000000</td>\n",
       "      <td>36873.000000</td>\n",
       "      <td>33922.000000</td>\n",
       "      <td>16312.000000</td>\n",
       "      <td>34050.000000</td>\n",
       "    </tr>\n",
       "    <tr>\n",
       "      <th>mean</th>\n",
       "      <td>18.487460</td>\n",
       "      <td>47.700844</td>\n",
       "      <td>41.328612</td>\n",
       "      <td>57.427078</td>\n",
       "      <td>53.598558</td>\n",
       "      <td>21.823071</td>\n",
       "      <td>14.457830</td>\n",
       "      <td>22.800586</td>\n",
       "      <td>16.738488</td>\n",
       "      <td>13.658718</td>\n",
       "      <td>8.499912</td>\n",
       "    </tr>\n",
       "    <tr>\n",
       "      <th>std</th>\n",
       "      <td>20.967451</td>\n",
       "      <td>49.480791</td>\n",
       "      <td>38.653564</td>\n",
       "      <td>53.043930</td>\n",
       "      <td>53.399985</td>\n",
       "      <td>27.993780</td>\n",
       "      <td>18.809495</td>\n",
       "      <td>20.036471</td>\n",
       "      <td>20.210425</td>\n",
       "      <td>20.573956</td>\n",
       "      <td>12.549324</td>\n",
       "    </tr>\n",
       "    <tr>\n",
       "      <th>min</th>\n",
       "      <td>-60.000000</td>\n",
       "      <td>-180.000000</td>\n",
       "      <td>-120.000000</td>\n",
       "      <td>-180.000000</td>\n",
       "      <td>-180.000000</td>\n",
       "      <td>-90.000000</td>\n",
       "      <td>-60.000000</td>\n",
       "      <td>-60.000000</td>\n",
       "      <td>-60.000000</td>\n",
       "      <td>-60.000000</td>\n",
       "      <td>-30.000000</td>\n",
       "    </tr>\n",
       "    <tr>\n",
       "      <th>25%</th>\n",
       "      <td>7.000000</td>\n",
       "      <td>18.000000</td>\n",
       "      <td>19.000000</td>\n",
       "      <td>23.000000</td>\n",
       "      <td>17.000000</td>\n",
       "      <td>0.000000</td>\n",
       "      <td>0.000000</td>\n",
       "      <td>11.000000</td>\n",
       "      <td>5.000000</td>\n",
       "      <td>0.000000</td>\n",
       "      <td>0.000000</td>\n",
       "    </tr>\n",
       "    <tr>\n",
       "      <th>50%</th>\n",
       "      <td>19.000000</td>\n",
       "      <td>46.000000</td>\n",
       "      <td>40.000000</td>\n",
       "      <td>54.000000</td>\n",
       "      <td>50.000000</td>\n",
       "      <td>20.000000</td>\n",
       "      <td>12.000000</td>\n",
       "      <td>20.000000</td>\n",
       "      <td>17.000000</td>\n",
       "      <td>12.000000</td>\n",
       "      <td>10.000000</td>\n",
       "    </tr>\n",
       "    <tr>\n",
       "      <th>75%</th>\n",
       "      <td>32.000000</td>\n",
       "      <td>78.000000</td>\n",
       "      <td>69.000000</td>\n",
       "      <td>90.000000</td>\n",
       "      <td>88.000000</td>\n",
       "      <td>39.000000</td>\n",
       "      <td>26.000000</td>\n",
       "      <td>36.000000</td>\n",
       "      <td>30.000000</td>\n",
       "      <td>27.000000</td>\n",
       "      <td>18.000000</td>\n",
       "    </tr>\n",
       "    <tr>\n",
       "      <th>max</th>\n",
       "      <td>60.000000</td>\n",
       "      <td>180.000000</td>\n",
       "      <td>120.000000</td>\n",
       "      <td>180.000000</td>\n",
       "      <td>180.000000</td>\n",
       "      <td>90.000000</td>\n",
       "      <td>60.000000</td>\n",
       "      <td>60.000000</td>\n",
       "      <td>70.000000</td>\n",
       "      <td>81.000000</td>\n",
       "      <td>30.000000</td>\n",
       "    </tr>\n",
       "  </tbody>\n",
       "</table>\n",
       "</div>"
      ],
      "text/plain": [
       "       complaints_score  branches_score    ATMs_score  mob_banking_score  \\\n",
       "count      38715.000000    36379.000000  37488.000000       18273.000000   \n",
       "mean          18.487460       47.700844     41.328612          57.427078   \n",
       "std           20.967451       49.480791     38.653564          53.043930   \n",
       "min          -60.000000     -180.000000   -120.000000        -180.000000   \n",
       "25%            7.000000       18.000000     19.000000          23.000000   \n",
       "50%           19.000000       46.000000     40.000000          54.000000   \n",
       "75%           32.000000       78.000000     69.000000          90.000000   \n",
       "max           60.000000      180.000000    120.000000         180.000000   \n",
       "\n",
       "       int_banking_score  call_centre_score  soc_media_score  exec_eff_score  \\\n",
       "count       15255.000000       12197.000000     16054.000000    36873.000000   \n",
       "mean           53.598558          21.823071        14.457830       22.800586   \n",
       "std            53.399985          27.993780        18.809495       20.036471   \n",
       "min          -180.000000         -90.000000       -60.000000      -60.000000   \n",
       "25%            17.000000           0.000000         0.000000       11.000000   \n",
       "50%            50.000000          20.000000        12.000000       20.000000   \n",
       "75%            88.000000          39.000000        26.000000       36.000000   \n",
       "max           180.000000          90.000000        60.000000       60.000000   \n",
       "\n",
       "         prod_score  ease_credit_score  val_for_money_score  \n",
       "count  33922.000000       16312.000000         34050.000000  \n",
       "mean      16.738488          13.658718             8.499912  \n",
       "std       20.210425          20.573956            12.549324  \n",
       "min      -60.000000         -60.000000           -30.000000  \n",
       "25%        5.000000           0.000000             0.000000  \n",
       "50%       17.000000          12.000000            10.000000  \n",
       "75%       30.000000          27.000000            18.000000  \n",
       "max       70.000000          81.000000            30.000000  "
      ]
     },
     "execution_count": 239,
     "metadata": {},
     "output_type": "execute_result"
    }
   ],
   "source": [
    "selected_data.iloc[:,12:].describe()"
   ]
  },
  {
   "cell_type": "markdown",
   "metadata": {},
   "source": [
    "We will drop the features with counts less than 30,000\n",
    "\n",
    "And use a different strategy for imputation. We will use drop instead of median"
   ]
  },
  {
   "cell_type": "code",
   "execution_count": 240,
   "metadata": {},
   "outputs": [
    {
     "name": "stderr",
     "output_type": "stream",
     "text": [
      "C:\\Users\\EshamogboOjuba\\.conda\\envs\\my_root\\lib\\site-packages\\ipykernel\\__main__.py:2: SettingWithCopyWarning: \n",
      "A value is trying to be set on a copy of a slice from a DataFrame\n",
      "\n",
      "See the caveats in the documentation: http://pandas.pydata.org/pandas-docs/stable/indexing.html#indexing-view-versus-copy\n",
      "  from ipykernel import kernelapp as app\n"
     ]
    }
   ],
   "source": [
    "selected_data.drop(['mob_banking_score', 'int_banking_score', 'call_centre_score', 'soc_media_score', 'ease_credit_score'], axis=1,\n",
    "                  inplace=True)"
   ]
  },
  {
   "cell_type": "code",
   "execution_count": 241,
   "metadata": {},
   "outputs": [
    {
     "name": "stderr",
     "output_type": "stream",
     "text": [
      "C:\\Users\\EshamogboOjuba\\.conda\\envs\\my_root\\lib\\site-packages\\ipykernel\\__main__.py:1: SettingWithCopyWarning: \n",
      "A value is trying to be set on a copy of a slice from a DataFrame\n",
      "\n",
      "See the caveats in the documentation: http://pandas.pydata.org/pandas-docs/stable/indexing.html#indexing-view-versus-copy\n",
      "  if __name__ == '__main__':\n"
     ]
    }
   ],
   "source": [
    "selected_data.dropna(inplace=True)"
   ]
  },
  {
   "cell_type": "code",
   "execution_count": 242,
   "metadata": {},
   "outputs": [
    {
     "data": {
      "text/html": [
       "<div>\n",
       "<table border=\"1\" class=\"dataframe\">\n",
       "  <thead>\n",
       "    <tr style=\"text-align: right;\">\n",
       "      <th></th>\n",
       "      <th>Gender</th>\n",
       "      <th>Income</th>\n",
       "      <th>No of Years</th>\n",
       "      <th>FreqBra</th>\n",
       "      <th>FreqATM</th>\n",
       "      <th>FreqPOS</th>\n",
       "      <th>FreqInt</th>\n",
       "      <th>FreqMob</th>\n",
       "      <th>FreqUSSD</th>\n",
       "      <th>FreqTel</th>\n",
       "      <th>cust_care_score</th>\n",
       "      <th>complaints_score</th>\n",
       "      <th>branches_score</th>\n",
       "      <th>ATMs_score</th>\n",
       "      <th>exec_eff_score</th>\n",
       "      <th>prod_score</th>\n",
       "      <th>val_for_money_score</th>\n",
       "    </tr>\n",
       "  </thead>\n",
       "  <tbody>\n",
       "    <tr>\n",
       "      <th>count</th>\n",
       "      <td>17267.000000</td>\n",
       "      <td>1.726700e+04</td>\n",
       "      <td>17267.000000</td>\n",
       "      <td>17267.000000</td>\n",
       "      <td>17267.000000</td>\n",
       "      <td>17267.000000</td>\n",
       "      <td>17267.000000</td>\n",
       "      <td>17267.000000</td>\n",
       "      <td>17267.000000</td>\n",
       "      <td>17267.000000</td>\n",
       "      <td>17267.000000</td>\n",
       "      <td>17267.000000</td>\n",
       "      <td>17267.000000</td>\n",
       "      <td>17267.000000</td>\n",
       "      <td>17267.000000</td>\n",
       "      <td>17267.000000</td>\n",
       "      <td>17267.000000</td>\n",
       "    </tr>\n",
       "    <tr>\n",
       "      <th>mean</th>\n",
       "      <td>0.454509</td>\n",
       "      <td>1.035472e+05</td>\n",
       "      <td>6.205971</td>\n",
       "      <td>3.681589</td>\n",
       "      <td>7.940146</td>\n",
       "      <td>2.050269</td>\n",
       "      <td>2.989054</td>\n",
       "      <td>3.919210</td>\n",
       "      <td>3.142932</td>\n",
       "      <td>0.534951</td>\n",
       "      <td>39.047258</td>\n",
       "      <td>19.050443</td>\n",
       "      <td>49.194475</td>\n",
       "      <td>42.551862</td>\n",
       "      <td>23.067470</td>\n",
       "      <td>17.478022</td>\n",
       "      <td>8.808189</td>\n",
       "    </tr>\n",
       "    <tr>\n",
       "      <th>std</th>\n",
       "      <td>0.497941</td>\n",
       "      <td>1.903558e+05</td>\n",
       "      <td>4.826077</td>\n",
       "      <td>5.804428</td>\n",
       "      <td>8.577025</td>\n",
       "      <td>4.858608</td>\n",
       "      <td>7.189457</td>\n",
       "      <td>8.035219</td>\n",
       "      <td>7.573814</td>\n",
       "      <td>2.431920</td>\n",
       "      <td>34.045565</td>\n",
       "      <td>20.377463</td>\n",
       "      <td>48.997465</td>\n",
       "      <td>37.781910</td>\n",
       "      <td>19.961634</td>\n",
       "      <td>19.524966</td>\n",
       "      <td>12.074081</td>\n",
       "    </tr>\n",
       "    <tr>\n",
       "      <th>min</th>\n",
       "      <td>0.000000</td>\n",
       "      <td>2.500000e+04</td>\n",
       "      <td>1.000000</td>\n",
       "      <td>0.500000</td>\n",
       "      <td>0.500000</td>\n",
       "      <td>0.000000</td>\n",
       "      <td>0.000000</td>\n",
       "      <td>0.000000</td>\n",
       "      <td>0.000000</td>\n",
       "      <td>0.000000</td>\n",
       "      <td>-120.000000</td>\n",
       "      <td>-60.000000</td>\n",
       "      <td>-180.000000</td>\n",
       "      <td>-120.000000</td>\n",
       "      <td>-60.000000</td>\n",
       "      <td>-60.000000</td>\n",
       "      <td>-30.000000</td>\n",
       "    </tr>\n",
       "    <tr>\n",
       "      <th>25%</th>\n",
       "      <td>0.000000</td>\n",
       "      <td>2.500000e+04</td>\n",
       "      <td>3.000000</td>\n",
       "      <td>0.500000</td>\n",
       "      <td>2.000000</td>\n",
       "      <td>0.000000</td>\n",
       "      <td>0.000000</td>\n",
       "      <td>0.000000</td>\n",
       "      <td>0.000000</td>\n",
       "      <td>0.000000</td>\n",
       "      <td>19.000000</td>\n",
       "      <td>8.000000</td>\n",
       "      <td>19.000000</td>\n",
       "      <td>20.000000</td>\n",
       "      <td>12.000000</td>\n",
       "      <td>6.000000</td>\n",
       "      <td>0.000000</td>\n",
       "    </tr>\n",
       "    <tr>\n",
       "      <th>50%</th>\n",
       "      <td>0.000000</td>\n",
       "      <td>7.500000e+04</td>\n",
       "      <td>5.000000</td>\n",
       "      <td>2.000000</td>\n",
       "      <td>6.000000</td>\n",
       "      <td>0.500000</td>\n",
       "      <td>0.500000</td>\n",
       "      <td>0.500000</td>\n",
       "      <td>0.000000</td>\n",
       "      <td>0.000000</td>\n",
       "      <td>37.000000</td>\n",
       "      <td>19.000000</td>\n",
       "      <td>47.000000</td>\n",
       "      <td>40.000000</td>\n",
       "      <td>20.000000</td>\n",
       "      <td>18.000000</td>\n",
       "      <td>10.000000</td>\n",
       "    </tr>\n",
       "    <tr>\n",
       "      <th>75%</th>\n",
       "      <td>1.000000</td>\n",
       "      <td>7.500000e+04</td>\n",
       "      <td>8.000000</td>\n",
       "      <td>6.000000</td>\n",
       "      <td>6.000000</td>\n",
       "      <td>2.000000</td>\n",
       "      <td>2.000000</td>\n",
       "      <td>6.000000</td>\n",
       "      <td>2.000000</td>\n",
       "      <td>0.500000</td>\n",
       "      <td>60.000000</td>\n",
       "      <td>32.000000</td>\n",
       "      <td>79.000000</td>\n",
       "      <td>70.000000</td>\n",
       "      <td>37.000000</td>\n",
       "      <td>30.000000</td>\n",
       "      <td>18.000000</td>\n",
       "    </tr>\n",
       "    <tr>\n",
       "      <th>max</th>\n",
       "      <td>1.000000</td>\n",
       "      <td>2.000000e+06</td>\n",
       "      <td>55.000000</td>\n",
       "      <td>30.000000</td>\n",
       "      <td>30.000000</td>\n",
       "      <td>30.000000</td>\n",
       "      <td>30.000000</td>\n",
       "      <td>30.000000</td>\n",
       "      <td>30.000000</td>\n",
       "      <td>30.000000</td>\n",
       "      <td>120.000000</td>\n",
       "      <td>60.000000</td>\n",
       "      <td>180.000000</td>\n",
       "      <td>120.000000</td>\n",
       "      <td>60.000000</td>\n",
       "      <td>70.000000</td>\n",
       "      <td>30.000000</td>\n",
       "    </tr>\n",
       "  </tbody>\n",
       "</table>\n",
       "</div>"
      ],
      "text/plain": [
       "             Gender        Income   No of Years       FreqBra       FreqATM  \\\n",
       "count  17267.000000  1.726700e+04  17267.000000  17267.000000  17267.000000   \n",
       "mean       0.454509  1.035472e+05      6.205971      3.681589      7.940146   \n",
       "std        0.497941  1.903558e+05      4.826077      5.804428      8.577025   \n",
       "min        0.000000  2.500000e+04      1.000000      0.500000      0.500000   \n",
       "25%        0.000000  2.500000e+04      3.000000      0.500000      2.000000   \n",
       "50%        0.000000  7.500000e+04      5.000000      2.000000      6.000000   \n",
       "75%        1.000000  7.500000e+04      8.000000      6.000000      6.000000   \n",
       "max        1.000000  2.000000e+06     55.000000     30.000000     30.000000   \n",
       "\n",
       "            FreqPOS       FreqInt       FreqMob      FreqUSSD       FreqTel  \\\n",
       "count  17267.000000  17267.000000  17267.000000  17267.000000  17267.000000   \n",
       "mean       2.050269      2.989054      3.919210      3.142932      0.534951   \n",
       "std        4.858608      7.189457      8.035219      7.573814      2.431920   \n",
       "min        0.000000      0.000000      0.000000      0.000000      0.000000   \n",
       "25%        0.000000      0.000000      0.000000      0.000000      0.000000   \n",
       "50%        0.500000      0.500000      0.500000      0.000000      0.000000   \n",
       "75%        2.000000      2.000000      6.000000      2.000000      0.500000   \n",
       "max       30.000000     30.000000     30.000000     30.000000     30.000000   \n",
       "\n",
       "       cust_care_score  complaints_score  branches_score    ATMs_score  \\\n",
       "count     17267.000000      17267.000000    17267.000000  17267.000000   \n",
       "mean         39.047258         19.050443       49.194475     42.551862   \n",
       "std          34.045565         20.377463       48.997465     37.781910   \n",
       "min        -120.000000        -60.000000     -180.000000   -120.000000   \n",
       "25%          19.000000          8.000000       19.000000     20.000000   \n",
       "50%          37.000000         19.000000       47.000000     40.000000   \n",
       "75%          60.000000         32.000000       79.000000     70.000000   \n",
       "max         120.000000         60.000000      180.000000    120.000000   \n",
       "\n",
       "       exec_eff_score    prod_score  val_for_money_score  \n",
       "count    17267.000000  17267.000000         17267.000000  \n",
       "mean        23.067470     17.478022             8.808189  \n",
       "std         19.961634     19.524966            12.074081  \n",
       "min        -60.000000    -60.000000           -30.000000  \n",
       "25%         12.000000      6.000000             0.000000  \n",
       "50%         20.000000     18.000000            10.000000  \n",
       "75%         37.000000     30.000000            18.000000  \n",
       "max         60.000000     70.000000            30.000000  "
      ]
     },
     "execution_count": 242,
     "metadata": {},
     "output_type": "execute_result"
    }
   ],
   "source": [
    "selected_data.describe()"
   ]
  },
  {
   "cell_type": "code",
   "execution_count": 243,
   "metadata": {},
   "outputs": [
    {
     "data": {
      "text/plain": [
       "<matplotlib.text.Text at 0x207b0d7ec18>"
      ]
     },
     "execution_count": 243,
     "metadata": {},
     "output_type": "execute_result"
    },
    {
     "data": {
      "image/png": "[encoded data removed]",
      "text/plain": [
       "<matplotlib.figure.Figure at 0x207b98a8d30>"
      ]
     },
     "metadata": {},
     "output_type": "display_data"
    }
   ],
   "source": [
    "corr_matrix = bank_chann_usage.corr()\n",
    "\n",
    "f, ax = plt.subplots(figsize=(18, 10))\n",
    "sns.heatmap(corr_matrix,linewidths=2.0, ax=ax , annot=True)\n",
    "ax.set_title('Correlation Mtrix')"
   ]
  },
  {
   "cell_type": "markdown",
   "metadata": {},
   "source": [
    "## Clustering and PCA"
   ]
  },
  {
   "cell_type": "code",
   "execution_count": 244,
   "metadata": {
    "collapsed": true
   },
   "outputs": [],
   "source": [
    "from sklearn.preprocessing import StandardScaler\n",
    "\n",
    "std_scaler = StandardScaler()\n",
    "std_scaler.fit(selected_data)\n",
    "\n",
    "selected_data_std = std_scaler.transform(selected_data)\n",
    "selected_data_std_df = pd.DataFrame(selected_data_std, columns = selected_data.columns)"
   ]
  },
  {
   "cell_type": "code",
   "execution_count": 245,
   "metadata": {},
   "outputs": [
    {
     "data": {
      "text/html": [
       "<div>\n",
       "<table border=\"1\" class=\"dataframe\">\n",
       "  <thead>\n",
       "    <tr style=\"text-align: right;\">\n",
       "      <th></th>\n",
       "      <th>Age</th>\n",
       "      <th>Gender</th>\n",
       "      <th>Income</th>\n",
       "      <th>No of Years</th>\n",
       "      <th>FreqBra</th>\n",
       "      <th>FreqATM</th>\n",
       "      <th>FreqPOS</th>\n",
       "      <th>FreqInt</th>\n",
       "      <th>FreqMob</th>\n",
       "      <th>FreqUSSD</th>\n",
       "      <th>FreqTel</th>\n",
       "      <th>cust_care_score</th>\n",
       "      <th>complaints_score</th>\n",
       "      <th>branches_score</th>\n",
       "      <th>ATMs_score</th>\n",
       "      <th>exec_eff_score</th>\n",
       "      <th>prod_score</th>\n",
       "      <th>val_for_money_score</th>\n",
       "    </tr>\n",
       "  </thead>\n",
       "  <tbody>\n",
       "    <tr>\n",
       "      <th>0</th>\n",
       "      <td>-0.066733</td>\n",
       "      <td>0.003786</td>\n",
       "      <td>-0.060536</td>\n",
       "      <td>-0.040303</td>\n",
       "      <td>-0.033301</td>\n",
       "      <td>-0.002897</td>\n",
       "      <td>-0.039658</td>\n",
       "      <td>0.004165</td>\n",
       "      <td>-0.021776</td>\n",
       "      <td>-0.048647</td>\n",
       "      <td>-0.017162</td>\n",
       "      <td>-0.390029</td>\n",
       "      <td>-0.374610</td>\n",
       "      <td>-0.398867</td>\n",
       "      <td>-0.366870</td>\n",
       "      <td>-0.363132</td>\n",
       "      <td>-0.381503</td>\n",
       "      <td>-0.347631</td>\n",
       "    </tr>\n",
       "    <tr>\n",
       "      <th>1</th>\n",
       "      <td>0.046252</td>\n",
       "      <td>-0.069350</td>\n",
       "      <td>0.188128</td>\n",
       "      <td>0.028271</td>\n",
       "      <td>0.255230</td>\n",
       "      <td>0.338434</td>\n",
       "      <td>0.397196</td>\n",
       "      <td>0.451353</td>\n",
       "      <td>0.459178</td>\n",
       "      <td>0.305537</td>\n",
       "      <td>0.322743</td>\n",
       "      <td>-0.010254</td>\n",
       "      <td>-0.012576</td>\n",
       "      <td>-0.008111</td>\n",
       "      <td>-0.020124</td>\n",
       "      <td>-0.042693</td>\n",
       "      <td>-0.039564</td>\n",
       "      <td>-0.056683</td>\n",
       "    </tr>\n",
       "    <tr>\n",
       "      <th>2</th>\n",
       "      <td>0.638830</td>\n",
       "      <td>-0.081607</td>\n",
       "      <td>0.412348</td>\n",
       "      <td>0.600346</td>\n",
       "      <td>0.098649</td>\n",
       "      <td>-0.054093</td>\n",
       "      <td>-0.032114</td>\n",
       "      <td>-0.084083</td>\n",
       "      <td>-0.111436</td>\n",
       "      <td>-0.101510</td>\n",
       "      <td>-0.028457</td>\n",
       "      <td>-0.001755</td>\n",
       "      <td>-0.029616</td>\n",
       "      <td>-0.062385</td>\n",
       "      <td>-0.061930</td>\n",
       "      <td>-0.024778</td>\n",
       "      <td>-0.030744</td>\n",
       "      <td>-0.018239</td>\n",
       "    </tr>\n",
       "    <tr>\n",
       "      <th>3</th>\n",
       "      <td>-0.115539</td>\n",
       "      <td>-0.257468</td>\n",
       "      <td>0.113171</td>\n",
       "      <td>-0.192914</td>\n",
       "      <td>0.674269</td>\n",
       "      <td>0.434477</td>\n",
       "      <td>0.010398</td>\n",
       "      <td>-0.320788</td>\n",
       "      <td>-0.294349</td>\n",
       "      <td>-0.174819</td>\n",
       "      <td>-0.050517</td>\n",
       "      <td>-0.008638</td>\n",
       "      <td>-0.041880</td>\n",
       "      <td>0.009148</td>\n",
       "      <td>-0.007707</td>\n",
       "      <td>-0.000352</td>\n",
       "      <td>0.000202</td>\n",
       "      <td>0.046793</td>\n",
       "    </tr>\n",
       "    <tr>\n",
       "      <th>4</th>\n",
       "      <td>0.024033</td>\n",
       "      <td>0.891937</td>\n",
       "      <td>0.010938</td>\n",
       "      <td>0.015228</td>\n",
       "      <td>0.215102</td>\n",
       "      <td>0.004775</td>\n",
       "      <td>0.147921</td>\n",
       "      <td>-0.112880</td>\n",
       "      <td>-0.185875</td>\n",
       "      <td>-0.051525</td>\n",
       "      <td>0.287598</td>\n",
       "      <td>0.005843</td>\n",
       "      <td>0.004399</td>\n",
       "      <td>0.015799</td>\n",
       "      <td>0.004600</td>\n",
       "      <td>-0.041191</td>\n",
       "      <td>-0.025533</td>\n",
       "      <td>0.003984</td>\n",
       "    </tr>\n",
       "  </tbody>\n",
       "</table>\n",
       "</div>"
      ],
      "text/plain": [
       "        Age    Gender    Income  No of Years   FreqBra   FreqATM   FreqPOS  \\\n",
       "0 -0.066733  0.003786 -0.060536    -0.040303 -0.033301 -0.002897 -0.039658   \n",
       "1  0.046252 -0.069350  0.188128     0.028271  0.255230  0.338434  0.397196   \n",
       "2  0.638830 -0.081607  0.412348     0.600346  0.098649 -0.054093 -0.032114   \n",
       "3 -0.115539 -0.257468  0.113171    -0.192914  0.674269  0.434477  0.010398   \n",
       "4  0.024033  0.891937  0.010938     0.015228  0.215102  0.004775  0.147921   \n",
       "\n",
       "    FreqInt   FreqMob  FreqUSSD   FreqTel  cust_care_score  complaints_score  \\\n",
       "0  0.004165 -0.021776 -0.048647 -0.017162        -0.390029         -0.374610   \n",
       "1  0.451353  0.459178  0.305537  0.322743        -0.010254         -0.012576   \n",
       "2 -0.084083 -0.111436 -0.101510 -0.028457        -0.001755         -0.029616   \n",
       "3 -0.320788 -0.294349 -0.174819 -0.050517        -0.008638         -0.041880   \n",
       "4 -0.112880 -0.185875 -0.051525  0.287598         0.005843          0.004399   \n",
       "\n",
       "   branches_score  ATMs_score  exec_eff_score  prod_score  val_for_money_score  \n",
       "0       -0.398867   -0.366870       -0.363132   -0.381503            -0.347631  \n",
       "1       -0.008111   -0.020124       -0.042693   -0.039564            -0.056683  \n",
       "2       -0.062385   -0.061930       -0.024778   -0.030744            -0.018239  \n",
       "3        0.009148   -0.007707       -0.000352    0.000202             0.046793  \n",
       "4        0.015799    0.004600       -0.041191   -0.025533             0.003984  "
      ]
     },
     "execution_count": 245,
     "metadata": {},
     "output_type": "execute_result"
    }
   ],
   "source": [
    "from sklearn.decomposition import PCA\n",
    "pca = PCA(n_components=9)\n",
    "pca.fit(selected_data_std)\n",
    "pca.components_\n",
    "X = pd.DataFrame(pca.components_, columns = selected_data.columns)\n",
    "X.head()"
   ]
  },
  {
   "cell_type": "code",
   "execution_count": 246,
   "metadata": {},
   "outputs": [
    {
     "data": {
      "text/plain": [
       "array([ 0.22836663,  0.12791783,  0.09833147,  0.05761267,  0.05566123,\n",
       "        0.05114725,  0.04630545,  0.04430855,  0.0440074 ])"
      ]
     },
     "execution_count": 246,
     "metadata": {},
     "output_type": "execute_result"
    }
   ],
   "source": [
    "pca.explained_variance_ratio_"
   ]
  },
  {
   "cell_type": "code",
   "execution_count": 247,
   "metadata": {},
   "outputs": [
    {
     "data": {
      "text/html": [
       "<div>\n",
       "<table border=\"1\" class=\"dataframe\">\n",
       "  <thead>\n",
       "    <tr style=\"text-align: right;\">\n",
       "      <th></th>\n",
       "      <th>pca1</th>\n",
       "      <th>pca2</th>\n",
       "      <th>pca3</th>\n",
       "      <th>pca4</th>\n",
       "      <th>pca5</th>\n",
       "      <th>pca6</th>\n",
       "      <th>pca7</th>\n",
       "      <th>pca8</th>\n",
       "      <th>pca9</th>\n",
       "    </tr>\n",
       "  </thead>\n",
       "  <tbody>\n",
       "    <tr>\n",
       "      <th>0</th>\n",
       "      <td>2.477496</td>\n",
       "      <td>-0.684724</td>\n",
       "      <td>-0.317795</td>\n",
       "      <td>0.331547</td>\n",
       "      <td>-0.835968</td>\n",
       "      <td>0.339197</td>\n",
       "      <td>0.231652</td>\n",
       "      <td>0.263345</td>\n",
       "      <td>-0.086281</td>\n",
       "    </tr>\n",
       "    <tr>\n",
       "      <th>1</th>\n",
       "      <td>0.862604</td>\n",
       "      <td>-0.790042</td>\n",
       "      <td>-0.105548</td>\n",
       "      <td>0.245458</td>\n",
       "      <td>-0.751238</td>\n",
       "      <td>0.365378</td>\n",
       "      <td>0.401415</td>\n",
       "      <td>0.462083</td>\n",
       "      <td>-0.398483</td>\n",
       "    </tr>\n",
       "    <tr>\n",
       "      <th>2</th>\n",
       "      <td>-4.054132</td>\n",
       "      <td>0.096758</td>\n",
       "      <td>-1.704274</td>\n",
       "      <td>1.528326</td>\n",
       "      <td>1.261695</td>\n",
       "      <td>-1.015390</td>\n",
       "      <td>-0.037311</td>\n",
       "      <td>0.594179</td>\n",
       "      <td>-0.812862</td>\n",
       "    </tr>\n",
       "    <tr>\n",
       "      <th>3</th>\n",
       "      <td>0.842839</td>\n",
       "      <td>-0.801025</td>\n",
       "      <td>-0.767931</td>\n",
       "      <td>-0.546953</td>\n",
       "      <td>0.787615</td>\n",
       "      <td>0.032256</td>\n",
       "      <td>-0.710908</td>\n",
       "      <td>0.001365</td>\n",
       "      <td>0.049571</td>\n",
       "    </tr>\n",
       "    <tr>\n",
       "      <th>4</th>\n",
       "      <td>0.982826</td>\n",
       "      <td>-1.003241</td>\n",
       "      <td>-0.592981</td>\n",
       "      <td>-0.145457</td>\n",
       "      <td>0.933239</td>\n",
       "      <td>-0.254969</td>\n",
       "      <td>-0.006011</td>\n",
       "      <td>-0.020754</td>\n",
       "      <td>0.069502</td>\n",
       "    </tr>\n",
       "  </tbody>\n",
       "</table>\n",
       "</div>"
      ],
      "text/plain": [
       "       pca1      pca2      pca3      pca4      pca5      pca6      pca7  \\\n",
       "0  2.477496 -0.684724 -0.317795  0.331547 -0.835968  0.339197  0.231652   \n",
       "1  0.862604 -0.790042 -0.105548  0.245458 -0.751238  0.365378  0.401415   \n",
       "2 -4.054132  0.096758 -1.704274  1.528326  1.261695 -1.015390 -0.037311   \n",
       "3  0.842839 -0.801025 -0.767931 -0.546953  0.787615  0.032256 -0.710908   \n",
       "4  0.982826 -1.003241 -0.592981 -0.145457  0.933239 -0.254969 -0.006011   \n",
       "\n",
       "       pca8      pca9  \n",
       "0  0.263345 -0.086281  \n",
       "1  0.462083 -0.398483  \n",
       "2  0.594179 -0.812862  \n",
       "3  0.001365  0.049571  \n",
       "4 -0.020754  0.069502  "
      ]
     },
     "execution_count": 247,
     "metadata": {},
     "output_type": "execute_result"
    }
   ],
   "source": [
    "selected_data_std_pca = pca.transform(selected_data_std)\n",
    "selected_data_std_pca = pd.DataFrame(selected_data_std_pca, columns = ['pca1', 'pca2', 'pca3', 'pca4', 'pca5', 'pca6', 'pca7', 'pca8', 'pca9'])\n",
    "selected_data_std_pca.head()"
   ]
  },
  {
   "cell_type": "code",
   "execution_count": 248,
   "metadata": {},
   "outputs": [
    {
     "data": {
      "text/plain": [
       "(array([ 2047.,  6938.,     0.,  3016.,     0.,  3548.,  1509.,     0.,\n",
       "          108.,   101.]),\n",
       " array([ 0. ,  0.6,  1.2,  1.8,  2.4,  3. ,  3.6,  4.2,  4.8,  5.4,  6. ]),\n",
       " <a list of 10 Patch objects>)"
      ]
     },
     "execution_count": 248,
     "metadata": {},
     "output_type": "execute_result"
    },
    {
     "data": {
      "image/png": "[encoded data removed]",
      "text/plain": [
       "<matplotlib.figure.Figure at 0x207b1ae0748>"
      ]
     },
     "metadata": {},
     "output_type": "display_data"
    }
   ],
   "source": [
    "from sklearn.cluster import KMeans\n",
    "\n",
    "kmeans = KMeans(n_clusters=7, random_state=0).fit(selected_data_std_pca)\n",
    "\n",
    "import seaborn as sns\n",
    "import matplotlib.pyplot as plt\n",
    "\n",
    "plt.hist(kmeans.labels_)"
   ]
  },
  {
   "cell_type": "code",
   "execution_count": 253,
   "metadata": {},
   "outputs": [
    {
     "data": {
      "text/html": [
       "<div>\n",
       "<table border=\"1\" class=\"dataframe\">\n",
       "  <thead>\n",
       "    <tr style=\"text-align: right;\">\n",
       "      <th></th>\n",
       "      <th>Age</th>\n",
       "      <th>Gender</th>\n",
       "      <th>Income</th>\n",
       "      <th>No of Years</th>\n",
       "      <th>FreqBra</th>\n",
       "      <th>FreqATM</th>\n",
       "      <th>FreqPOS</th>\n",
       "      <th>FreqInt</th>\n",
       "      <th>FreqMob</th>\n",
       "      <th>FreqUSSD</th>\n",
       "      <th>FreqTel</th>\n",
       "      <th>cust_care_score</th>\n",
       "      <th>complaints_score</th>\n",
       "      <th>branches_score</th>\n",
       "      <th>ATMs_score</th>\n",
       "      <th>exec_eff_score</th>\n",
       "      <th>prod_score</th>\n",
       "      <th>val_for_money_score</th>\n",
       "    </tr>\n",
       "  </thead>\n",
       "  <tbody>\n",
       "    <tr>\n",
       "      <th>0</th>\n",
       "      <td>1.642376</td>\n",
       "      <td>-0.049643</td>\n",
       "      <td>0.603454</td>\n",
       "      <td>1.663773</td>\n",
       "      <td>0.134704</td>\n",
       "      <td>-0.170932</td>\n",
       "      <td>-0.248553</td>\n",
       "      <td>-0.184876</td>\n",
       "      <td>-0.269522</td>\n",
       "      <td>-0.177722</td>\n",
       "      <td>-0.000398</td>\n",
       "      <td>0.222900</td>\n",
       "      <td>0.156271</td>\n",
       "      <td>0.057947</td>\n",
       "      <td>0.044761</td>\n",
       "      <td>0.106660</td>\n",
       "      <td>0.097837</td>\n",
       "      <td>0.112680</td>\n",
       "    </tr>\n",
       "    <tr>\n",
       "      <th>1</th>\n",
       "      <td>-0.341658</td>\n",
       "      <td>0.039555</td>\n",
       "      <td>-0.225752</td>\n",
       "      <td>-0.341481</td>\n",
       "      <td>-0.121140</td>\n",
       "      <td>-0.175738</td>\n",
       "      <td>-0.179592</td>\n",
       "      <td>-0.284775</td>\n",
       "      <td>-0.272570</td>\n",
       "      <td>-0.105482</td>\n",
       "      <td>-0.116763</td>\n",
       "      <td>-0.016674</td>\n",
       "      <td>-0.006279</td>\n",
       "      <td>0.012183</td>\n",
       "      <td>0.018143</td>\n",
       "      <td>0.014537</td>\n",
       "      <td>0.014270</td>\n",
       "      <td>0.024185</td>\n",
       "    </tr>\n",
       "    <tr>\n",
       "      <th>2</th>\n",
       "      <td>-0.091049</td>\n",
       "      <td>0.002413</td>\n",
       "      <td>-0.052066</td>\n",
       "      <td>-0.149593</td>\n",
       "      <td>0.036851</td>\n",
       "      <td>-0.015261</td>\n",
       "      <td>0.019544</td>\n",
       "      <td>-0.148119</td>\n",
       "      <td>-0.061364</td>\n",
       "      <td>0.059636</td>\n",
       "      <td>-0.051167</td>\n",
       "      <td>1.142880</td>\n",
       "      <td>1.110314</td>\n",
       "      <td>1.187646</td>\n",
       "      <td>1.093806</td>\n",
       "      <td>1.043531</td>\n",
       "      <td>1.094749</td>\n",
       "      <td>0.999278</td>\n",
       "    </tr>\n",
       "    <tr>\n",
       "      <th>3</th>\n",
       "      <td>-0.213979</td>\n",
       "      <td>0.005564</td>\n",
       "      <td>-0.167397</td>\n",
       "      <td>-0.157940</td>\n",
       "      <td>-0.066939</td>\n",
       "      <td>-0.065342</td>\n",
       "      <td>-0.169801</td>\n",
       "      <td>-0.156243</td>\n",
       "      <td>-0.212951</td>\n",
       "      <td>-0.133662</td>\n",
       "      <td>-0.072636</td>\n",
       "      <td>-0.991201</td>\n",
       "      <td>-0.953555</td>\n",
       "      <td>-1.017920</td>\n",
       "      <td>-0.934262</td>\n",
       "      <td>-0.946342</td>\n",
       "      <td>-0.996246</td>\n",
       "      <td>-0.904536</td>\n",
       "    </tr>\n",
       "    <tr>\n",
       "      <th>4</th>\n",
       "      <td>-0.144291</td>\n",
       "      <td>-0.094917</td>\n",
       "      <td>0.148687</td>\n",
       "      <td>-0.043232</td>\n",
       "      <td>0.178408</td>\n",
       "      <td>1.255113</td>\n",
       "      <td>1.005163</td>\n",
       "      <td>2.071154</td>\n",
       "      <td>2.119121</td>\n",
       "      <td>0.675557</td>\n",
       "      <td>0.172317</td>\n",
       "      <td>-0.174667</td>\n",
       "      <td>-0.136553</td>\n",
       "      <td>-0.126597</td>\n",
       "      <td>-0.117397</td>\n",
       "      <td>-0.110722</td>\n",
       "      <td>-0.090619</td>\n",
       "      <td>-0.185212</td>\n",
       "    </tr>\n",
       "    <tr>\n",
       "      <th>5</th>\n",
       "      <td>2.221862</td>\n",
       "      <td>-0.452214</td>\n",
       "      <td>8.667350</td>\n",
       "      <td>0.187844</td>\n",
       "      <td>1.634216</td>\n",
       "      <td>-0.154962</td>\n",
       "      <td>2.697906</td>\n",
       "      <td>-0.155789</td>\n",
       "      <td>0.408288</td>\n",
       "      <td>0.921096</td>\n",
       "      <td>-0.980081</td>\n",
       "      <td>-0.035360</td>\n",
       "      <td>-0.285766</td>\n",
       "      <td>-0.061855</td>\n",
       "      <td>0.043141</td>\n",
       "      <td>0.420976</td>\n",
       "      <td>0.509408</td>\n",
       "      <td>0.347209</td>\n",
       "    </tr>\n",
       "    <tr>\n",
       "      <th>6</th>\n",
       "      <td>0.178990</td>\n",
       "      <td>-0.076301</td>\n",
       "      <td>-0.785897</td>\n",
       "      <td>0.179351</td>\n",
       "      <td>2.426451</td>\n",
       "      <td>-0.298474</td>\n",
       "      <td>4.851804</td>\n",
       "      <td>2.443199</td>\n",
       "      <td>1.400804</td>\n",
       "      <td>2.682801</td>\n",
       "      <td>10.580947</td>\n",
       "      <td>-0.066281</td>\n",
       "      <td>-0.079886</td>\n",
       "      <td>0.207247</td>\n",
       "      <td>-0.318540</td>\n",
       "      <td>0.096188</td>\n",
       "      <td>0.120637</td>\n",
       "      <td>0.357255</td>\n",
       "    </tr>\n",
       "  </tbody>\n",
       "</table>\n",
       "</div>"
      ],
      "text/plain": [
       "        Age    Gender    Income  No of Years   FreqBra   FreqATM   FreqPOS  \\\n",
       "0  1.642376 -0.049643  0.603454     1.663773  0.134704 -0.170932 -0.248553   \n",
       "1 -0.341658  0.039555 -0.225752    -0.341481 -0.121140 -0.175738 -0.179592   \n",
       "2 -0.091049  0.002413 -0.052066    -0.149593  0.036851 -0.015261  0.019544   \n",
       "3 -0.213979  0.005564 -0.167397    -0.157940 -0.066939 -0.065342 -0.169801   \n",
       "4 -0.144291 -0.094917  0.148687    -0.043232  0.178408  1.255113  1.005163   \n",
       "5  2.221862 -0.452214  8.667350     0.187844  1.634216 -0.154962  2.697906   \n",
       "6  0.178990 -0.076301 -0.785897     0.179351  2.426451 -0.298474  4.851804   \n",
       "\n",
       "    FreqInt   FreqMob  FreqUSSD    FreqTel  cust_care_score  complaints_score  \\\n",
       "0 -0.184876 -0.269522 -0.177722  -0.000398         0.222900          0.156271   \n",
       "1 -0.284775 -0.272570 -0.105482  -0.116763        -0.016674         -0.006279   \n",
       "2 -0.148119 -0.061364  0.059636  -0.051167         1.142880          1.110314   \n",
       "3 -0.156243 -0.212951 -0.133662  -0.072636        -0.991201         -0.953555   \n",
       "4  2.071154  2.119121  0.675557   0.172317        -0.174667         -0.136553   \n",
       "5 -0.155789  0.408288  0.921096  -0.980081        -0.035360         -0.285766   \n",
       "6  2.443199  1.400804  2.682801  10.580947        -0.066281         -0.079886   \n",
       "\n",
       "   branches_score  ATMs_score  exec_eff_score  prod_score  val_for_money_score  \n",
       "0        0.057947    0.044761        0.106660    0.097837             0.112680  \n",
       "1        0.012183    0.018143        0.014537    0.014270             0.024185  \n",
       "2        1.187646    1.093806        1.043531    1.094749             0.999278  \n",
       "3       -1.017920   -0.934262       -0.946342   -0.996246            -0.904536  \n",
       "4       -0.126597   -0.117397       -0.110722   -0.090619            -0.185212  \n",
       "5       -0.061855    0.043141        0.420976    0.509408             0.347209  \n",
       "6        0.207247   -0.318540        0.096188    0.120637             0.357255  "
      ]
     },
     "execution_count": 253,
     "metadata": {},
     "output_type": "execute_result"
    }
   ],
   "source": [
    "kmeans_cluster_centers_reg = pca.inverse_transform(kmeans.cluster_centers_)\n",
    "\n",
    "cluster_df_std = pd.DataFrame(kmeans_cluster_centers_reg, columns=selected_data.columns)\n",
    "cluster_df_std"
   ]
  },
  {
   "cell_type": "code",
   "execution_count": 255,
   "metadata": {},
   "outputs": [
    {
     "data": {
      "text/html": [
       "<div>\n",
       "<table border=\"1\" class=\"dataframe\">\n",
       "  <thead>\n",
       "    <tr style=\"text-align: right;\">\n",
       "      <th></th>\n",
       "      <th>Age</th>\n",
       "      <th>Gender</th>\n",
       "      <th>Income</th>\n",
       "      <th>No of Years</th>\n",
       "      <th>FreqBra</th>\n",
       "      <th>FreqATM</th>\n",
       "      <th>FreqPOS</th>\n",
       "      <th>FreqInt</th>\n",
       "      <th>FreqMob</th>\n",
       "      <th>FreqUSSD</th>\n",
       "      <th>FreqTel</th>\n",
       "      <th>cust_care_score</th>\n",
       "      <th>complaints_score</th>\n",
       "      <th>branches_score</th>\n",
       "      <th>ATMs_score</th>\n",
       "      <th>exec_eff_score</th>\n",
       "      <th>prod_score</th>\n",
       "      <th>val_for_money_score</th>\n",
       "    </tr>\n",
       "  </thead>\n",
       "  <tbody>\n",
       "    <tr>\n",
       "      <th>0</th>\n",
       "      <td>49.769140</td>\n",
       "      <td>0.429790</td>\n",
       "      <td>2.184148e+05</td>\n",
       "      <td>14.235236</td>\n",
       "      <td>4.463445</td>\n",
       "      <td>6.474100</td>\n",
       "      <td>0.842682</td>\n",
       "      <td>1.659933</td>\n",
       "      <td>1.753601</td>\n",
       "      <td>1.796941</td>\n",
       "      <td>0.533984</td>\n",
       "      <td>46.635786</td>\n",
       "      <td>22.234748</td>\n",
       "      <td>52.033643</td>\n",
       "      <td>44.242958</td>\n",
       "      <td>25.196510</td>\n",
       "      <td>19.388224</td>\n",
       "      <td>10.168661</td>\n",
       "    </tr>\n",
       "    <tr>\n",
       "      <th>1</th>\n",
       "      <td>28.754375</td>\n",
       "      <td>0.474204</td>\n",
       "      <td>6.057532e+04</td>\n",
       "      <td>4.558005</td>\n",
       "      <td>2.978459</td>\n",
       "      <td>6.432879</td>\n",
       "      <td>1.177727</td>\n",
       "      <td>0.941735</td>\n",
       "      <td>1.729115</td>\n",
       "      <td>2.344051</td>\n",
       "      <td>0.251002</td>\n",
       "      <td>38.479602</td>\n",
       "      <td>18.922500</td>\n",
       "      <td>49.791396</td>\n",
       "      <td>43.237314</td>\n",
       "      <td>23.357641</td>\n",
       "      <td>17.756641</td>\n",
       "      <td>9.100198</td>\n",
       "    </tr>\n",
       "    <tr>\n",
       "      <th>2</th>\n",
       "      <td>31.408814</td>\n",
       "      <td>0.455710</td>\n",
       "      <td>9.363639e+04</td>\n",
       "      <td>5.484046</td>\n",
       "      <td>3.895480</td>\n",
       "      <td>7.809259</td>\n",
       "      <td>2.145224</td>\n",
       "      <td>1.924192</td>\n",
       "      <td>3.426152</td>\n",
       "      <td>3.594587</td>\n",
       "      <td>0.410520</td>\n",
       "      <td>77.956124</td>\n",
       "      <td>41.675175</td>\n",
       "      <td>107.384417</td>\n",
       "      <td>83.876728</td>\n",
       "      <td>43.897442</td>\n",
       "      <td>38.852330</td>\n",
       "      <td>20.873201</td>\n",
       "    </tr>\n",
       "    <tr>\n",
       "      <th>3</th>\n",
       "      <td>30.106742</td>\n",
       "      <td>0.457279</td>\n",
       "      <td>7.168317e+04</td>\n",
       "      <td>5.443761</td>\n",
       "      <td>3.293059</td>\n",
       "      <td>7.379723</td>\n",
       "      <td>1.225297</td>\n",
       "      <td>1.865781</td>\n",
       "      <td>2.208152</td>\n",
       "      <td>2.130626</td>\n",
       "      <td>0.358312</td>\n",
       "      <td>5.302245</td>\n",
       "      <td>-0.380034</td>\n",
       "      <td>-0.679586</td>\n",
       "      <td>7.254697</td>\n",
       "      <td>4.177486</td>\n",
       "      <td>-1.973089</td>\n",
       "      <td>-2.112936</td>\n",
       "    </tr>\n",
       "    <tr>\n",
       "      <th>4</th>\n",
       "      <td>30.844875</td>\n",
       "      <td>0.407247</td>\n",
       "      <td>1.318497e+05</td>\n",
       "      <td>5.997337</td>\n",
       "      <td>4.717118</td>\n",
       "      <td>18.704970</td>\n",
       "      <td>6.933822</td>\n",
       "      <td>17.879098</td>\n",
       "      <td>20.946319</td>\n",
       "      <td>8.259326</td>\n",
       "      <td>0.954000</td>\n",
       "      <td>33.100789</td>\n",
       "      <td>16.267911</td>\n",
       "      <td>42.991720</td>\n",
       "      <td>38.116519</td>\n",
       "      <td>20.857337</td>\n",
       "      <td>15.708731</td>\n",
       "      <td>6.571983</td>\n",
       "    </tr>\n",
       "    <tr>\n",
       "      <th>5</th>\n",
       "      <td>55.907019</td>\n",
       "      <td>0.229339</td>\n",
       "      <td>1.753379e+06</td>\n",
       "      <td>7.112493</td>\n",
       "      <td>13.167001</td>\n",
       "      <td>6.611070</td>\n",
       "      <td>15.157958</td>\n",
       "      <td>1.869045</td>\n",
       "      <td>7.199795</td>\n",
       "      <td>10.118937</td>\n",
       "      <td>-1.848458</td>\n",
       "      <td>37.843425</td>\n",
       "      <td>13.227433</td>\n",
       "      <td>46.163805</td>\n",
       "      <td>44.181782</td>\n",
       "      <td>31.470602</td>\n",
       "      <td>27.423903</td>\n",
       "      <td>13.000299</td>\n",
       "    </tr>\n",
       "    <tr>\n",
       "      <th>6</th>\n",
       "      <td>34.269053</td>\n",
       "      <td>0.416517</td>\n",
       "      <td>-4.604855e+04</td>\n",
       "      <td>7.071506</td>\n",
       "      <td>17.765342</td>\n",
       "      <td>5.380203</td>\n",
       "      <td>25.622601</td>\n",
       "      <td>20.553821</td>\n",
       "      <td>15.174652</td>\n",
       "      <td>23.461377</td>\n",
       "      <td>26.266220</td>\n",
       "      <td>36.790756</td>\n",
       "      <td>17.422626</td>\n",
       "      <td>59.348740</td>\n",
       "      <td>30.517150</td>\n",
       "      <td>24.987483</td>\n",
       "      <td>19.833393</td>\n",
       "      <td>13.121587</td>\n",
       "    </tr>\n",
       "  </tbody>\n",
       "</table>\n",
       "</div>"
      ],
      "text/plain": [
       "         Age    Gender        Income  No of Years    FreqBra    FreqATM  \\\n",
       "0  49.769140  0.429790  2.184148e+05    14.235236   4.463445   6.474100   \n",
       "1  28.754375  0.474204  6.057532e+04     4.558005   2.978459   6.432879   \n",
       "2  31.408814  0.455710  9.363639e+04     5.484046   3.895480   7.809259   \n",
       "3  30.106742  0.457279  7.168317e+04     5.443761   3.293059   7.379723   \n",
       "4  30.844875  0.407247  1.318497e+05     5.997337   4.717118  18.704970   \n",
       "5  55.907019  0.229339  1.753379e+06     7.112493  13.167001   6.611070   \n",
       "6  34.269053  0.416517 -4.604855e+04     7.071506  17.765342   5.380203   \n",
       "\n",
       "     FreqPOS    FreqInt    FreqMob   FreqUSSD    FreqTel  cust_care_score  \\\n",
       "0   0.842682   1.659933   1.753601   1.796941   0.533984        46.635786   \n",
       "1   1.177727   0.941735   1.729115   2.344051   0.251002        38.479602   \n",
       "2   2.145224   1.924192   3.426152   3.594587   0.410520        77.956124   \n",
       "3   1.225297   1.865781   2.208152   2.130626   0.358312         5.302245   \n",
       "4   6.933822  17.879098  20.946319   8.259326   0.954000        33.100789   \n",
       "5  15.157958   1.869045   7.199795  10.118937  -1.848458        37.843425   \n",
       "6  25.622601  20.553821  15.174652  23.461377  26.266220        36.790756   \n",
       "\n",
       "   complaints_score  branches_score  ATMs_score  exec_eff_score  prod_score  \\\n",
       "0         22.234748       52.033643   44.242958       25.196510   19.388224   \n",
       "1         18.922500       49.791396   43.237314       23.357641   17.756641   \n",
       "2         41.675175      107.384417   83.876728       43.897442   38.852330   \n",
       "3         -0.380034       -0.679586    7.254697        4.177486   -1.973089   \n",
       "4         16.267911       42.991720   38.116519       20.857337   15.708731   \n",
       "5         13.227433       46.163805   44.181782       31.470602   27.423903   \n",
       "6         17.422626       59.348740   30.517150       24.987483   19.833393   \n",
       "\n",
       "   val_for_money_score  \n",
       "0            10.168661  \n",
       "1             9.100198  \n",
       "2            20.873201  \n",
       "3            -2.112936  \n",
       "4             6.571983  \n",
       "5            13.000299  \n",
       "6            13.121587  "
      ]
     },
     "execution_count": 255,
     "metadata": {},
     "output_type": "execute_result"
    }
   ],
   "source": [
    "cluster_df = pd.DataFrame(std_scaler.inverse_transform(kmeans_cluster_centers_reg), columns=selected_data.columns)\n",
    "cluster_df"
   ]
  },
  {
   "cell_type": "code",
   "execution_count": 256,
   "metadata": {},
   "outputs": [
    {
     "name": "stdout",
     "output_type": "stream",
     "text": [
      "Selected data has 18 features\n",
      "9 principal components has 0.753658481237 total variance explanation\n"
     ]
    }
   ],
   "source": [
    "print('Selected data has', len(selected_data.columns), 'features')\n",
    "print('9 principal components has', np.sum(pca.explained_variance_ratio_[:9]), 'total variance explanation')"
   ]
  },
  {
   "cell_type": "code",
   "execution_count": 257,
   "metadata": {},
   "outputs": [
    {
     "data": {
      "text/plain": [
       "<matplotlib.collections.PathCollection at 0x2078166feb8>"
      ]
     },
     "execution_count": 257,
     "metadata": {},
     "output_type": "execute_result"
    },
    {
     "data": {
      "image/png": "[encoded data removed]",
      "text/plain": [
       "<matplotlib.figure.Figure at 0x207b0e232e8>"
      ]
     },
     "metadata": {},
     "output_type": "display_data"
    }
   ],
   "source": [
    "plt.scatter(selected_data_std_pca['pca1'], selected_data_std_pca['pca2'], c=kmeans.labels_, cmap='Paired', alpha=0.8)\n",
    "#plt.legend(['1', '2', '3', '4', '5', '6'])"
   ]
  },
  {
   "cell_type": "markdown",
   "metadata": {},
   "source": [
    "PCA not really working for separating the clusters"
   ]
  },
  {
   "cell_type": "code",
   "execution_count": 258,
   "metadata": {},
   "outputs": [
    {
     "name": "stderr",
     "output_type": "stream",
     "text": [
      "C:\\Users\\EshamogboOjuba\\.conda\\envs\\my_root\\lib\\site-packages\\matplotlib\\collections.py:865: RuntimeWarning: invalid value encountered in sqrt\n",
      "  scale = np.sqrt(self._sizes) * dpi / 72.0 * self._factor\n"
     ]
    },
    {
     "data": {
      "text/plain": [
       "<mpl_toolkits.mplot3d.art3d.Path3DCollection at 0x20787399fd0>"
      ]
     },
     "execution_count": 258,
     "metadata": {},
     "output_type": "execute_result"
    },
    {
     "data": {
      "image/png": "[encoded data removed]",
      "text/plain": [
       "<matplotlib.figure.Figure at 0x207820a1dd8>"
      ]
     },
     "metadata": {},
     "output_type": "display_data"
    }
   ],
   "source": [
    "import matplotlib.pyplot as plt\n",
    "from mpl_toolkits.mplot3d import Axes3D\n",
    "\n",
    "\n",
    "fig = plt.figure()\n",
    "ax = fig.add_subplot(111, projection='3d')\n",
    "plt.scatter(selected_data_std_pca['pca1'], selected_data_std_pca['pca2'], selected_data_std_pca['pca3'], c=kmeans.labels_, cmap='Paired')"
   ]
  },
  {
   "cell_type": "markdown",
   "metadata": {},
   "source": [
    "## t-SNE"
   ]
  },
  {
   "cell_type": "code",
   "execution_count": 259,
   "metadata": {
    "collapsed": true
   },
   "outputs": [],
   "source": [
    "np.random.seed(9)\n",
    "selected_data_std_pca_rd = np.random.permutation(selected_data_std_pca)"
   ]
  },
  {
   "cell_type": "code",
   "execution_count": 260,
   "metadata": {},
   "outputs": [
    {
     "data": {
      "text/plain": [
       "120.69458150863647"
      ]
     },
     "execution_count": 260,
     "metadata": {},
     "output_type": "execute_result"
    }
   ],
   "source": [
    "import time\n",
    "from sklearn.manifold import TSNE\n",
    "\n",
    "time_start = time.time()\n",
    "tsne = TSNE(n_components=2, n_iter=300)\n",
    "tsne_result = tsne.fit_transform(selected_data_std_pca_rd[:5000])\n",
    "\n",
    "time_elapsed = time.time() - time_start\n",
    "time_elapsed\n"
   ]
  },
  {
   "cell_type": "code",
   "execution_count": 261,
   "metadata": {},
   "outputs": [
    {
     "data": {
      "text/plain": [
       "(5000, 2)"
      ]
     },
     "execution_count": 261,
     "metadata": {},
     "output_type": "execute_result"
    }
   ],
   "source": [
    "tsne_result.shape"
   ]
  },
  {
   "cell_type": "code",
   "execution_count": 262,
   "metadata": {},
   "outputs": [
    {
     "data": {
      "text/plain": [
       "<matplotlib.collections.PathCollection at 0x207874f7da0>"
      ]
     },
     "execution_count": 262,
     "metadata": {},
     "output_type": "execute_result"
    },
    {
     "data": {
      "image/png": "[encoded data removed]",
      "text/plain": [
       "<matplotlib.figure.Figure at 0x207b0e36588>"
      ]
     },
     "metadata": {},
     "output_type": "display_data"
    }
   ],
   "source": [
    "plt.scatter(tsne_result[:,0], tsne_result[:,1], c=kmeans.labels_[:5000], cmap='Paired')"
   ]
  },
  {
   "cell_type": "code",
   "execution_count": null,
   "metadata": {
    "collapsed": true
   },
   "outputs": [],
   "source": []
  }
 ],
 "metadata": {
  "kernelspec": {
   "display_name": "Python [conda env:my_root]",
   "language": "python",
   "name": "conda-env-my_root-py"
  },
  "language_info": {
   "codemirror_mode": {
    "name": "ipython",
    "version": 3
   },
   "file_extension": ".py",
   "mimetype": "text/x-python",
   "name": "python",
   "nbconvert_exporter": "python",
   "pygments_lexer": "ipython3",
   "version": "3.6.0"
  }
 },
 "nbformat": 4,
 "nbformat_minor": 2
}
